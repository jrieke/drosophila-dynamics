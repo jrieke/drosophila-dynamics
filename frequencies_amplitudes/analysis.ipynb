{
 "cells": [
  {
   "cell_type": "code",
   "execution_count": 1,
   "metadata": {
    "collapsed": false
   },
   "outputs": [],
   "source": [
    "%matplotlib inline\n",
    "import matplotlib\n",
    "import matplotlib.pyplot as plt\n",
    "import scipy as sp\n",
    "import scipy.stats\n",
    "import numpy as np\n",
    "import os"
   ]
  },
  {
   "cell_type": "code",
   "execution_count": 2,
   "metadata": {
    "collapsed": true
   },
   "outputs": [],
   "source": [
    "from mpl_toolkits.axes_grid1.inset_locator import inset_axes\n",
    "from mpl_toolkits.axes_grid1.inset_locator import mark_inset"
   ]
  },
  {
   "cell_type": "code",
   "execution_count": 3,
   "metadata": {
    "collapsed": false
   },
   "outputs": [],
   "source": [
    "plt.rc('legend', fontsize=10)"
   ]
  },
  {
   "cell_type": "code",
   "execution_count": 4,
   "metadata": {
    "collapsed": true
   },
   "outputs": [],
   "source": [
    "dt = 0.1\n",
    "ms_to_index = lambda ms: int(ms / dt)\n",
    "index_to_ms = lambda ind: ind * dt"
   ]
  },
  {
   "cell_type": "code",
   "execution_count": 5,
   "metadata": {
    "collapsed": true
   },
   "outputs": [],
   "source": [
    "voltage_traces = []\n",
    "currents = []"
   ]
  },
  {
   "cell_type": "code",
   "execution_count": 6,
   "metadata": {
    "collapsed": false
   },
   "outputs": [],
   "source": [
    "# decreasing.dat (XPP)\n",
    "t, v = np.genfromtxt('decreasing.dat').transpose()[:2]\n",
    "start = ms_to_index(550)\n",
    "while start < len(v):\n",
    "    # Insert voltage traces in reverse order, so that the complete array has increasing currents in the end. \n",
    "    voltage_traces = [v[start:start+ms_to_index(490)]] + voltage_traces  # trim 100 ms at start and 10 ms at end\n",
    "    start += ms_to_index(500)\n",
    "    \n",
    "currents += [-2.72, -2.5, -2.2]\n",
    "num_decreasing = len(currents)"
   ]
  },
  {
   "cell_type": "code",
   "execution_count": 7,
   "metadata": {
    "collapsed": false
   },
   "outputs": [],
   "source": [
    "# increasing.dat (XPP)\n",
    "t, v = np.genfromtxt('increasing.dat').transpose()[:2]\n",
    "start = ms_to_index(3050)\n",
    "while start < len(v):\n",
    "    voltage_traces.append(v[start:start+ms_to_index(490)])  # trim 100 ms at start and 10 ms at end\n",
    "    start += ms_to_index(500)\n",
    "    \n",
    "currents += [-1.9, -1.5, -1.1, -0.7, 0, 5, 10, 15, 20, 25, 30, 35, 40, 45, 50, 55, 56.69, 57.69, 58.69, 59.69]"
   ]
  },
  {
   "cell_type": "code",
   "execution_count": 8,
   "metadata": {
    "collapsed": true
   },
   "outputs": [],
   "source": [
    "currents = np.array(currents)"
   ]
  },
  {
   "cell_type": "code",
   "execution_count": 9,
   "metadata": {
    "collapsed": false
   },
   "outputs": [
    {
     "data": {
      "text/plain": [
       "(23, 23)"
      ]
     },
     "execution_count": 9,
     "metadata": {},
     "output_type": "execute_result"
    }
   ],
   "source": [
    "len(currents), len(voltage_traces)"
   ]
  },
  {
   "cell_type": "code",
   "execution_count": 10,
   "metadata": {
    "collapsed": false
   },
   "outputs": [],
   "source": [
    "# Extract spike times via voltage threshold.\n",
    "threshold = -25\n",
    "\n",
    "spike_times = []\n",
    "for v in voltage_traces:\n",
    "    current_spike_times = []\n",
    "    for i in range(v.size-1):\n",
    "        if v[i] < threshold and v[i+1] >= threshold:\n",
    "            current_spike_times.append(index_to_ms(i))\n",
    "    spike_times.append(np.array(current_spike_times))\n",
    "\n",
    "# Calculate durations between spikes and frequencies.\n",
    "inter_spike_intervals = [times[1:] - times[:-1] for times in spike_times]  # ms\n",
    "frequencies = [1000. / x for x in inter_spike_intervals]  # Hz\n",
    "\n",
    "mean_frequencies = map(np.mean, frequencies)\n",
    "sem_frequencies = map(sp.stats.sem, frequencies)"
   ]
  },
  {
   "cell_type": "code",
   "execution_count": 11,
   "metadata": {
    "collapsed": false
   },
   "outputs": [
    {
     "data": {
      "text/plain": [
       "array([-2.72, -2.5 , -2.2 , -1.9 , -1.5 , -1.1 , -0.7 ])"
      ]
     },
     "execution_count": 11,
     "metadata": {},
     "output_type": "execute_result"
    }
   ],
   "source": [
    "currents[:7]"
   ]
  },
  {
   "cell_type": "code",
   "execution_count": 12,
   "metadata": {
    "collapsed": false
   },
   "outputs": [
    {
     "name": "stderr",
     "output_type": "stream",
     "text": [
      "D:\\Python\\27_32bit\\lib\\site-packages\\ipykernel\\__main__.py:11: RuntimeWarning: divide by zero encountered in log\n"
     ]
    },
    {
     "data": {
      "text/plain": [
       "0.0"
      ]
     },
     "execution_count": 12,
     "metadata": {},
     "output_type": "execute_result"
    },
    {
     "data": {
      "image/png": "[encoded data removed]",
      "text/plain": [
       "<matplotlib.figure.Figure at 0x117bfc50>"
      ]
     },
     "metadata": {},
     "output_type": "display_data"
    }
   ],
   "source": [
    "# Make inverse logarithmic fit for frequencies that crosses zero at -2.73 pA.\n",
    "# In addition to the slope, the fit function includes a scaling parameter that was trimmed by hand,\n",
    "# compare Izhikevich 2007, fig. 6.30 on p. 189.\n",
    "\n",
    "# First, try to make a manual fit.\n",
    "x = np.log(currents[:7] - (-2.73) + 1)\n",
    "y = mean_frequencies[:7]\n",
    "\n",
    "plt.plot(currents, np.array(mean_frequencies), 'o')\n",
    "a = np.linspace(-2.73, 0, 500)\n",
    "f = lambda x: -73./np.log(0.1*(x--2.73))\n",
    "plt.plot(a, f(a))\n",
    "plt.xlim(-2.74, 0)\n",
    "plt.ylim(0, 60)\n",
    "f(-2.73)"
   ]
  },
  {
   "cell_type": "code",
   "execution_count": 13,
   "metadata": {
    "collapsed": false
   },
   "outputs": [
    {
     "name": "stdout",
     "output_type": "stream",
     "text": [
      "73.5937061378\n"
     ]
    },
    {
     "data": {
      "text/plain": [
       "[<matplotlib.lines.Line2D at 0x15c92190>]"
      ]
     },
     "execution_count": 13,
     "metadata": {},
     "output_type": "execute_result"
    },
    {
     "data": {
      "image/png": "[encoded data removed]",
      "text/plain": [
       "<matplotlib.figure.Figure at 0x117bfff0>"
      ]
     },
     "metadata": {},
     "output_type": "display_data"
    }
   ],
   "source": [
    "# Then, set the scaling parameter manually and fit the slope by least squares. \n",
    "fit_frequencies_scale = 0.1  # TODO: Fit this scaling parameter by least squares as well.\n",
    "\n",
    "x = -1. / np.log(fit_frequencies_scale * (currents[:7] + 2.73))\n",
    "y = mean_frequencies[:7]\n",
    "\n",
    "# See http://stackoverflow.com/a/9994484\n",
    "a, _, _, _ = np.linalg.lstsq(x[:, np.newaxis], y)\n",
    "fit_frequencies_slope = a[0]\n",
    "print fit_frequencies_slope\n",
    "\n",
    "# Plot result of the least squares fit. \n",
    "plt.plot(x, y, 'o')\n",
    "b = np.linspace(0, 0.8, 500)\n",
    "plt.plot(b, fit_frequencies_slope * b)"
   ]
  },
  {
   "cell_type": "code",
   "execution_count": 14,
   "metadata": {
    "collapsed": false,
    "scrolled": true
   },
   "outputs": [
    {
     "name": "stderr",
     "output_type": "stream",
     "text": [
      "D:\\Python\\27_32bit\\lib\\site-packages\\ipykernel\\__main__.py:14: RuntimeWarning: divide by zero encountered in log\n",
      "D:\\Python\\27_32bit\\lib\\site-packages\\ipykernel\\__main__.py:35: RuntimeWarning: divide by zero encountered in log\n"
     ]
    },
    {
     "data": {
      "image/png": "[encoded data removed]",
      "text/plain": [
       "<matplotlib.figure.Figure at 0x351f170>"
      ]
     },
     "metadata": {},
     "output_type": "display_data"
    }
   ],
   "source": [
    "#plt.axvline(-1.90+12, label=\"Rheobase (silence -> tonic)\", color='b', alpha=0.6)\n",
    "#plt.text(11.4, 120, '10.10 pA', color='b', rotation=90)\n",
    "plt.plot(currents[num_decreasing:], mean_frequencies[num_decreasing:], 'bo', label=\"Region C\", markeredgecolor='none')  # yerr=sem_frequencies\n",
    "#plt.arrow(1, 8, 0, 12, head_width=1, head_length=3, fc='b', ec='b')\n",
    "\n",
    "plt.vlines(currents[num_decreasing], 0, mean_frequencies[num_decreasing], 'b', 'dashed', zorder=100)\n",
    "\n",
    "#plt.axvline(-2.73+12, label=\"Rheobase (tonic -> silence)\", color='g', alpha=0.6)\n",
    "#plt.text(6.5, 120, '9.27 pA', color='b', rotation=90)\n",
    "plt.plot(currents[:num_decreasing], mean_frequencies[:num_decreasing], 'go', label=\"Region B\", markeredgecolor='none')  # yerr=sem_frequencies_2\n",
    "#plt.arrow(-5, 22, -0.5, -10, head_width=1, head_length=3, fc='g', ec='g')\n",
    "\n",
    "x = np.linspace(-2.73, -0.7, 500)\n",
    "plt.plot(x, fit_frequencies_slope * -1. / np.log(fit_frequencies_scale * (x + 2.73)), 'r', zorder=10, label='Inverse logarithmic fit\\n$y = - {0:.1f} \\: \\log^{{-1}}({1:.1f} \\: (x - x_0 ))$\\nwith $x_0 = -2.73$'.format(fit_frequencies_slope, fit_frequencies_scale))\n",
    "\n",
    "plt.ylim(0, 150)\n",
    "plt.xlim(-8, 65)\n",
    "plt.xlabel('$I$ / pA')\n",
    "plt.ylabel('Firing rate / Hz')\n",
    "plt.legend(loc='lower right', numpoints=1, borderaxespad=1, frameon=False, labelspacing=1.4)\n",
    "\n",
    "# make inset\n",
    "ax = plt.gca()\n",
    "axins = inset_axes(ax, 1, 1.5, bbox_to_anchor=(0.48, 0.54), bbox_transform=ax.figure.transFigure)\n",
    "plt.plot(currents[num_decreasing:], mean_frequencies[num_decreasing:], 'bo', label=\"Region C\", markeredgecolor='none')  # yerr=sem_frequencies\n",
    "plt.arrow(-0.7, 8, 0, 12, head_width=0.5, head_length=1.5, fc='b', ec='b')\n",
    "\n",
    "plt.vlines(currents[num_decreasing], 0, mean_frequencies[num_decreasing], 'b', 'dashed', zorder=100)\n",
    "\n",
    "#plt.axvline(-2.73+12, label=\"Rheobase (tonic -> silence)\", color='g', alpha=0.6)\n",
    "#plt.text(6.5, 120, '9.27 pA', color='b', rotation=90)\n",
    "plt.plot(currents[:num_decreasing], mean_frequencies[:num_decreasing], 'go', label=\"Region B\", markeredgecolor='none')  # yerr=sem_frequencies_2\n",
    "plt.arrow(-3.5, 23, -0.5, -12, head_width=0.5, head_length=1.5, fc='g', ec='g')\n",
    "x = np.linspace(-2.73, -0.7, 500)\n",
    "plt.plot(x, fit_frequencies_slope * -1. / np.log(fit_frequencies_scale * (x + 2.73)), 'r', zorder=10, label='Inverse logarithmic fit\\n$y = - {0:.1f} \\: \\log^{{-1}}({1:.1f} \\: (x - x_0 ))$\\nwith $x_0 = -2.73$'.format(fit_frequencies_slope, fit_frequencies_scale))\n",
    "\n",
    "plt.xlim(-5, 1)\n",
    "plt.ylim(0, 35)\n",
    "plt.xticks([])\n",
    "plt.yticks([])\n",
    "mark_inset(ax, axins, loc1=4, loc2=2, fc=\"none\", alpha=0.5)\n",
    "\n",
    "plt.savefig(\"f-I-curve.png\", dpi=300)"
   ]
  },
  {
   "cell_type": "code",
   "execution_count": 15,
   "metadata": {
    "collapsed": false
   },
   "outputs": [],
   "source": [
    "# Minima, maxima and amplitudes (maxima - minima) of membrane voltage during spikes\n",
    "minima = []\n",
    "maxima = []\n",
    "amplitudes = []\n",
    "\n",
    "for v, times in zip(voltage_traces, spike_times):\n",
    "    current_minima = []\n",
    "    current_maxima = []\n",
    "    current_amplitudes = []\n",
    "    for i in range(len(times)-1):\n",
    "        start = ms_to_index(times[i])\n",
    "        end = ms_to_index(times[i+1])\n",
    "        minimum = np.min(v[start:end])  # mV\n",
    "        maximum = np.max(v[start:end])  # mV\n",
    "        current_minima.append(maximum)\n",
    "        current_maxima.append(minimum)\n",
    "        current_amplitudes.append(maximum - minimum)\n",
    "    minima.append(np.array(current_minima))\n",
    "    maxima.append(np.array(current_maxima))\n",
    "    amplitudes.append(np.array(current_amplitudes))\n",
    "#zip(minima, maxima, amplitudes)"
   ]
  },
  {
   "cell_type": "code",
   "execution_count": 16,
   "metadata": {
    "collapsed": false
   },
   "outputs": [
    {
     "name": "stderr",
     "output_type": "stream",
     "text": [
      "D:\\Python\\27_32bit\\lib\\site-packages\\numpy\\core\\_methods.py:82: RuntimeWarning: Degrees of freedom <= 0 for slice\n",
      "  warnings.warn(\"Degrees of freedom <= 0 for slice\", RuntimeWarning)\n",
      "D:\\Python\\27_32bit\\lib\\site-packages\\numpy\\core\\_methods.py:116: RuntimeWarning: invalid value encountered in double_scalars\n",
      "  ret = ret.dtype.type(ret / rcount)\n"
     ]
    }
   ],
   "source": [
    "mean_minima = map(np.mean, [x[:-1] for x in minima])  # exclude first two spikes and last spike to eliminate effects at the start and end of the current step\n",
    "sem_minima = map(sp.stats.sem, [x[:-1] for x in minima])\n",
    "mean_maxima = map(np.mean, [x[:-1] for x in maxima])\n",
    "sem_maxima = map(sp.stats.sem, [x[:-1] for x in maxima])\n",
    "mean_amplitudes = map(np.mean, [x[:-1] for x in amplitudes])\n",
    "sem_amplitudes = map(sp.stats.sem, [x[:-1] for x in amplitudes])"
   ]
  },
  {
   "cell_type": "code",
   "execution_count": 17,
   "metadata": {
    "collapsed": false
   },
   "outputs": [
    {
     "data": {
      "image/png": "[encoded data removed]",
      "text/plain": [
       "<matplotlib.figure.Figure at 0x15c8a950>"
      ]
     },
     "metadata": {},
     "output_type": "display_data"
    }
   ],
   "source": [
    "plt.plot(currents[num_decreasing:], mean_minima[num_decreasing:], 'bv', markeredgecolor='none', label='Maxima (region C)')  # yerr=sem_minima\n",
    "plt.plot(currents[num_decreasing:], mean_maxima[num_decreasing:], 'b^', markeredgecolor='none', label='Minima (region C)')  # yerr=sem_maxima\n",
    "plt.vlines(currents[num_decreasing:], mean_minima[num_decreasing:], mean_maxima[num_decreasing:], alpha=0.3, color='b', linestyle='--')\n",
    "\n",
    "plt.plot(currents[:num_decreasing], mean_minima[:num_decreasing], 'gv', markeredgecolor='none', label='Maxima (region B)')  # yerr=sem_minima\n",
    "plt.plot(currents[:num_decreasing], mean_maxima[:num_decreasing], 'g^', markeredgecolor='none', label='Maxima (region B)')  # yerr=sem_maxima\n",
    "plt.vlines(currents[:num_decreasing], mean_minima[:num_decreasing], mean_maxima[:num_decreasing], alpha=0.3, color='g', linestyle='--')\n",
    "\n",
    "plt.xlabel('$I$ / pA')\n",
    "plt.ylabel('$V$ / mV')\n",
    "plt.xlim(-8, 65)\n",
    "plt.ylim(-52, 0)\n",
    "#plt.axvline(-1.90, label=\"Rheobase (silence -> tonic)\", color='b', alpha=0.6)\n",
    "#plt.text(7, -13, '10.10 pA', color='b', rotation=90)\n",
    "plt.legend(loc='lower right', numpoints=1, borderaxespad=0.2, frameon=False)\n",
    "\n",
    "plt.savefig(\"min_max.png\", dpi=300)"
   ]
  },
  {
   "cell_type": "code",
   "execution_count": 18,
   "metadata": {
    "collapsed": false
   },
   "outputs": [
    {
     "name": "stdout",
     "output_type": "stream",
     "text": [
      "3.31475409145\n"
     ]
    },
    {
     "data": {
      "text/plain": [
       "[<matplotlib.lines.Line2D at 0x13582310>]"
      ]
     },
     "execution_count": 18,
     "metadata": {},
     "output_type": "execute_result"
    },
    {
     "data": {
      "image/png": "[encoded data removed]",
      "text/plain": [
       "<matplotlib.figure.Figure at 0x15c92530>"
      ]
     },
     "metadata": {},
     "output_type": "display_data"
    }
   ],
   "source": [
    "# Make square root fit for amplitudes that crosses zero at 59.70 pA\n",
    "# See http://stackoverflow.com/a/9994484\n",
    "x = np.sqrt(59.7-currents[-5:])\n",
    "y = mean_amplitudes[-5:]\n",
    "a, _, _, _ = np.linalg.lstsq(x[:, np.newaxis], y)\n",
    "fit_amplitudes_slope = a[0]\n",
    "print fit_amplitudes_slope\n",
    "\n",
    "plt.plot(x, y, 'o')\n",
    "plt.plot(np.linspace(0, 2.5), fit_amplitudes_slope * np.linspace(0, 2.5))"
   ]
  },
  {
   "cell_type": "code",
   "execution_count": 19,
   "metadata": {
    "collapsed": false
   },
   "outputs": [
    {
     "data": {
      "image/png": "[encoded data removed]",
      "text/plain": [
       "<matplotlib.figure.Figure at 0x15bf9830>"
      ]
     },
     "metadata": {},
     "output_type": "display_data"
    }
   ],
   "source": [
    "plt.plot(currents[num_decreasing:], mean_amplitudes[num_decreasing:], 'bo', markeredgecolor='none', label='Region C')  # yerr=sem_amplitudes\n",
    "plt.plot(currents[:num_decreasing], mean_amplitudes[:num_decreasing], 'go', markeredgecolor='none', label='Region B')  # yerr=sem_amplitudes\n",
    "\n",
    "plt.xlabel('$I$ / pA')\n",
    "plt.ylabel('Spike amplitude / mV')\n",
    "plt.xlim(-8, 65)\n",
    "plt.ylim(0, 42)\n",
    "#plt.axvline(-1.90+12, label=\"Rheobase (silence -> tonic)\", color='b', alpha=0.6)\n",
    "#plt.text(7, 25, '10.10 pA', color='b', rotation=90)\n",
    "\n",
    "x = np.linspace(55, 59.7, 500)\n",
    "plt.plot(x, fit_amplitudes_slope * np.sqrt(59.7 - x), 'r', linewidth=1, label='Square root fit\\n$y = {0:.2f} \\: \\sqrt{{-(x - x_0)}}$ with $x_0 = 59.70$'.format(fit_amplitudes_slope), zorder=100)\n",
    "\n",
    "plt.legend(loc='lower left', numpoints=1, borderaxespad=1.5, frameon=False, labelspacing=1.2)\n",
    "\n",
    "plt.savefig(\"amplitudes.png\", dpi=300)\n",
    "\n",
    "# TODO: It seems like the amplitudes for high currents are shifted towards higher values. This could be because for these currents,\n",
    "# multiple spikes at the beginning of the current step are higher than normal. See how the mean amplitude changes if we exclude\n",
    "# the first few spikes."
   ]
  },
  {
   "cell_type": "code",
   "execution_count": null,
   "metadata": {
    "collapsed": true
   },
   "outputs": [],
   "source": []
  }
 ],
 "metadata": {
  "kernelspec": {
   "display_name": "Python 2",
   "language": "python",
   "name": "python2"
  },
  "language_info": {
   "codemirror_mode": {
    "name": "ipython",
    "version": 2
   },
   "file_extension": ".py",
   "mimetype": "text/x-python",
   "name": "python",
   "nbconvert_exporter": "python",
   "pygments_lexer": "ipython2",
   "version": "2.7.8"
  }
 },
 "nbformat": 4,
 "nbformat_minor": 0
}
