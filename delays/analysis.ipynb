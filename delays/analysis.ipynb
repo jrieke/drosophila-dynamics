{
 "cells": [
  {
   "cell_type": "code",
   "execution_count": 2,
   "metadata": {
    "collapsed": false
   },
   "outputs": [],
   "source": [
    "%matplotlib inline\n",
    "import matplotlib\n",
    "import matplotlib.pyplot as plt\n",
    "import scipy as sp\n",
    "import scipy.stats\n",
    "import numpy as np\n",
    "import os"
   ]
  },
  {
   "cell_type": "code",
   "execution_count": 3,
   "metadata": {
    "collapsed": true
   },
   "outputs": [],
   "source": [
    "plt.rc('legend', fontsize=10)"
   ]
  },
  {
   "cell_type": "code",
   "execution_count": 4,
   "metadata": {
    "collapsed": false
   },
   "outputs": [],
   "source": [
    "# Load data files and extract spike train for each current step\n",
    "# /separate runs/*.dat (NeuroML2)\n",
    "dt = 0.001\n",
    "ms_to_index = lambda ms: int(ms / dt)\n",
    "index_to_ms = lambda ind: ind * dt\n",
    "threshold = -0.025\n",
    "\n",
    "dat_files = [f for f in os.listdir('separate runs') if os.path.isfile(os.path.join('separate runs', f)) and os.path.splitext(f)[1] == '.dat']\n",
    "currents = np.array([float(f[:-6]) for f in dat_files])  # pA\n",
    "spike_trains = []\n",
    "for f in dat_files:\n",
    "    t, v, i = np.genfromtxt(os.path.join('separate runs', f)).transpose()\n",
    "    spike_trains.append(v)"
   ]
  },
  {
   "cell_type": "code",
   "execution_count": 5,
   "metadata": {
    "collapsed": true
   },
   "outputs": [],
   "source": [
    "# Extract spike times via voltage threshold\n",
    "spike_times = []\n",
    "for spike_train in spike_trains:\n",
    "    current_spike_times = []\n",
    "    for i in range(spike_train.size-1):\n",
    "        if spike_train[i] < threshold and spike_train[i+1] >= threshold:\n",
    "            current_spike_times.append(index_to_ms(i))\n",
    "    spike_times.append(np.array(current_spike_times))\n",
    "#spike_times"
   ]
  },
  {
   "cell_type": "code",
   "execution_count": 6,
   "metadata": {
    "collapsed": false
   },
   "outputs": [],
   "source": [
    "# Delays to first spike\n",
    "delays = [times[0] - 10 if len(t) > 0 else np.nan for times in spike_times]  # current pulse starts at 10 ms\n",
    "#delays"
   ]
  },
  {
   "cell_type": "code",
   "execution_count": 11,
   "metadata": {
    "collapsed": false
   },
   "outputs": [
    {
     "data": {
      "image/png": "[encoded data removed]",
      "text/plain": [
       "<matplotlib.figure.Figure at 0x147d1370>"
      ]
     },
     "metadata": {},
     "output_type": "display_data"
    }
   ],
   "source": [
    "plt.errorbar(currents, delays, fmt='o', capsize=7, markeredgecolor='none', label='Region C')  #yerr=0.001,\n",
    "plt.xlim(-10, 60)\n",
    "plt.ylim(0, 150)\n",
    "plt.xlabel('$I$ / pA')\n",
    "plt.ylabel('Delay to first spike / ms')\n",
    "#plt.axvline(-1.90+12, label=\"Rheobase (silence -> tonic)\", color='b', alpha=0.6)\n",
    "#plt.text(7, 128, '10.10 pA', color='b', rotation=90)\n",
    "plt.legend(loc='center right', numpoints=1, borderaxespad=6, frameon=False)\n",
    "\n",
    "plt.savefig(\"delay.png\", dpi=300)"
   ]
  },
  {
   "cell_type": "code",
   "execution_count": null,
   "metadata": {
    "collapsed": true
   },
   "outputs": [],
   "source": []
  }
 ],
 "metadata": {
  "kernelspec": {
   "display_name": "Python 2",
   "language": "python",
   "name": "python2"
  },
  "language_info": {
   "codemirror_mode": {
    "name": "ipython",
    "version": 2
   },
   "file_extension": ".py",
   "mimetype": "text/x-python",
   "name": "python",
   "nbconvert_exporter": "python",
   "pygments_lexer": "ipython2",
   "version": "2.7.8"
  }
 },
 "nbformat": 4,
 "nbformat_minor": 0
}
