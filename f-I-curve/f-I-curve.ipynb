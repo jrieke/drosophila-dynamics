{
 "cells": [
  {
   "cell_type": "code",
   "execution_count": 45,
   "metadata": {
    "collapsed": false
   },
   "outputs": [],
   "source": [
    "%matplotlib inline\n",
    "import matplotlib\n",
    "import matplotlib.pyplot as plt\n",
    "import scipy as sp\n",
    "import scipy.stats\n",
    "import numpy as np\n",
    "import os"
   ]
  },
  {
   "cell_type": "code",
   "execution_count": 46,
   "metadata": {
    "collapsed": false
   },
   "outputs": [],
   "source": [
    "plt.rc('legend', fontsize=9)\n",
    "#plt.rc('text', usetex=True)"
   ]
  },
  {
   "cell_type": "code",
   "execution_count": 47,
   "metadata": {
    "collapsed": true
   },
   "outputs": [],
   "source": [
    "dt = 0.1\n",
    "ms_to_index = lambda ms: int(ms / dt)\n",
    "index_to_ms = lambda ind: ind * dt\n",
    "threshold = -25"
   ]
  },
  {
   "cell_type": "code",
   "execution_count": 48,
   "metadata": {
    "collapsed": true
   },
   "outputs": [],
   "source": [
    "def get_frequencies(spike_trains):\n",
    "    # Extract spike times via voltage threshold\n",
    "    spike_times = []\n",
    "    for spike_train in spike_trains:\n",
    "        current_spike_times = []\n",
    "        for i in range(spike_train.size-1):\n",
    "            if spike_train[i] < threshold and spike_train[i+1] >= threshold:\n",
    "                current_spike_times.append(index_to_ms(i))\n",
    "        spike_times.append(np.array(current_spike_times))\n",
    "    \n",
    "    # Durations between spikes and spiking frequencies\n",
    "    durations = [times[1:] - times[:-1] for times in spike_times]  # time between spikes, ms\n",
    "    frequencies = [1000. / d for d in durations]  # Hz\n",
    "    \n",
    "    return map(np.mean, frequencies), map(sp.stats.sem, frequencies)"
   ]
  },
  {
   "cell_type": "code",
   "execution_count": 49,
   "metadata": {
    "collapsed": false
   },
   "outputs": [],
   "source": [
    "# increasing.dat (XPP)\n",
    "spike_trains_increasing = []\n",
    "t, v = np.genfromtxt('increasing.dat').transpose()[:2]\n",
    "start = ms_to_index(3050)\n",
    "while start < len(v):\n",
    "    spike_trains_increasing.append(v[start:start+ms_to_index(400)])  # trim 50 ms at start and end, respectively\n",
    "    start += ms_to_index(500)\n",
    "    \n",
    "frequencies_increasing = get_frequencies(spike_trains_increasing)[0]\n",
    "currents_increasing = np.array([-1.9, -1, 0, 5, 10, 15, 20, 25, 30, 35, 40, 45, 50, 55, 59])"
   ]
  },
  {
   "cell_type": "code",
   "execution_count": 50,
   "metadata": {
    "collapsed": false
   },
   "outputs": [],
   "source": [
    "# decreasing.dat (XPP)\n",
    "spike_trains_decreasing = []\n",
    "t, v = np.genfromtxt('decreasing.dat').transpose()[:2]\n",
    "start = ms_to_index(550)\n",
    "while start < len(v):\n",
    "    spike_trains_decreasing.append(v[start:start+ms_to_index(400)])  # trim 50 ms at start and end, respectively\n",
    "    start += ms_to_index(500)\n",
    "    \n",
    "frequencies_decreasing = get_frequencies(spike_trains_decreasing)[0]\n",
    "currents_decreasing = np.array([-2.2, -2.5, -2.72])"
   ]
  },
  {
   "cell_type": "code",
   "execution_count": 52,
   "metadata": {
    "collapsed": true
   },
   "outputs": [],
   "source": [
    "# fit power law\n",
    "all_currents = np.concatenate((currents_increasing, currents_decreasing))\n",
    "all_frequencies = np.concatenate((frequencies_increasing, frequencies_decreasing))\n",
    "fit = np.poly1d(np.polyfit(all_currents+12, all_frequencies, 4))"
   ]
  },
  {
   "cell_type": "code",
   "execution_count": 53,
   "metadata": {
    "collapsed": false,
    "scrolled": true
   },
   "outputs": [
    {
     "data": {
      "image/png": "[encoded data removed]",
      "text/plain": [
       "<matplotlib.figure.Figure at 0xd4ef9b0>"
      ]
     },
     "metadata": {},
     "output_type": "display_data"
    }
   ],
   "source": [
    "#plt.axvline(-1.90+12, label=\"Rheobase (silence -> tonic)\", color='b', alpha=0.6)\n",
    "#plt.text(11.4, 120, '10.10 pA', color='b', rotation=90)\n",
    "plt.errorbar(currents_increasing+12, frequencies_increasing, fmt='bo', capsize=7, label=\"Mean firing rate for\\nincreasing current steps\", markeredgecolor='none')  # yerr=sem_frequencies\n",
    "plt.arrow(12, 8, 0, 12, head_width=1, head_length=3, fc='b', ec='b')\n",
    "\n",
    "plt.vlines(currents_increasing[0]+12, 0, frequencies_increasing[0], 'b', 'dashed')\n",
    "\n",
    "# Plot frequencies for decreasing current steps in the same plot as for increasing current steps\n",
    "#plt.axvline(-2.73+12, label=\"Rheobase (tonic -> silence)\", color='g', alpha=0.6)\n",
    "#plt.text(6.5, 120, '9.27 pA', color='b', rotation=90)\n",
    "plt.errorbar(currents_decreasing+12, frequencies_decreasing, fmt='o', capsize=7, label=\"Mean firing rate for\\ndecreasing current steps\", markeredgecolor='r', markerfacecolor='none')  # yerr=sem_frequencies_2\n",
    "plt.arrow(7.5, 22, -0.5, -10, head_width=1, head_length=3, fc='r', ec='r')\n",
    "\n",
    "plt.ylim(0, 150)\n",
    "plt.xlim(0, 70)\n",
    "plt.xlabel('Current step amplitude / pA')\n",
    "plt.ylabel('Firing rate / Hz')\n",
    "#plt.legend(loc='lower right', numpoints=1, borderaxespad=3, frameon=False)\n",
    "\n",
    "\n",
    "x = np.linspace(0, 70)\n",
    "plt.plot(x, fit(x), 'black', linewidth=0.3)\n",
    "\n",
    "plt.savefig(\"f-I-curve.png\", dpi=300)"
   ]
  },
  {
   "cell_type": "code",
   "execution_count": null,
   "metadata": {
    "collapsed": true
   },
   "outputs": [],
   "source": []
  }
 ],
 "metadata": {
  "kernelspec": {
   "display_name": "Python 2",
   "language": "python",
   "name": "python2"
  },
  "language_info": {
   "codemirror_mode": {
    "name": "ipython",
    "version": 2
   },
   "file_extension": ".py",
   "mimetype": "text/x-python",
   "name": "python",
   "nbconvert_exporter": "python",
   "pygments_lexer": "ipython2",
   "version": "2.7.8"
  }
 },
 "nbformat": 4,
 "nbformat_minor": 0
}
