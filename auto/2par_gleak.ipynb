{
 "cells": [
  {
   "cell_type": "code",
   "execution_count": 1,
   "metadata": {
    "collapsed": true
   },
   "outputs": [],
   "source": [
    "%matplotlib tk\n",
    "from continuation_functions import *"
   ]
  },
  {
   "cell_type": "code",
   "execution_count": null,
   "metadata": {
    "collapsed": false
   },
   "outputs": [],
   "source": [
    "# Get default bifurcations.\n",
    "init = integrate_to_equilibrium()\n",
    "equilibrium = continue_equilibrium(init)"
   ]
  },
  {
   "cell_type": "code",
   "execution_count": null,
   "metadata": {
    "collapsed": false
   },
   "outputs": [],
   "source": [
    "# Continue saddle-node bifurcation (LP1) for changing gleak (2-parameter continuation)\n",
    "saddle_node = continue_bifurcation(equilibrium('LP1'), 'gleak', UZSTOP={'I': [-200, 170], 'gleak': [0, 20]})"
   ]
  },
  {
   "cell_type": "code",
   "execution_count": null,
   "metadata": {
    "collapsed": false
   },
   "outputs": [],
   "source": [
    "# Continue Hopf bifurcation (HB1) for changing gleak (2-parameter continuation)\n",
    "hopf = continue_bifurcation(equilibrium('HB1'), 'gleak', UZSTOP={'I': [-100, 170], 'gleak': [0, 20]})"
   ]
  },
  {
   "cell_type": "code",
   "execution_count": null,
   "metadata": {
    "collapsed": false
   },
   "outputs": [],
   "source": [
    "plot_2_params_diagram(saddle_node + hopf, 'gleak', ylabel='$g_{leak}$ / nS', miny=0, saveas='plots/2par_gleak.png')"
   ]
  },
  {
   "cell_type": "code",
   "execution_count": null,
   "metadata": {
    "collapsed": false
   },
   "outputs": [],
   "source": [
    "# tryout\n",
    "new_gleak = 3.14\n",
    "ini = integrate_to_equilibrium(params={'gleak': new_gleak, 'I': -100})\n",
    "eq = continue_equilibrium(ini, params={'gleak': new_gleak}, UZSTOP={'I': [-150, 100]})\n",
    "plot_bifurcation_diagram(eq)"
   ]
  },
  {
   "cell_type": "code",
   "execution_count": null,
   "metadata": {
    "collapsed": false
   },
   "outputs": [],
   "source": [
    "plot_eigenvalues(eq, 13000)"
   ]
  },
  {
   "cell_type": "code",
   "execution_count": null,
   "metadata": {
    "collapsed": false
   },
   "outputs": [],
   "source": [
    "auto.eigenvalue(eq)"
   ]
  },
  {
   "cell_type": "code",
   "execution_count": 9,
   "metadata": {
    "collapsed": false
   },
   "outputs": [
    {
     "name": "stdout",
     "output_type": "stream",
     "text": [
      "Starting drosophila ...\n",
      "\n",
      "  BR    PT  TY  LAB       I           MIN V         gleak          gKs           gKf           gNa           gNaP          freq     \n",
      "   1     1  EP    1   5.00000E+00  -5.45614E+01   8.84000E+00   5.00000E+01   2.41000E+01   1.00000E+02   8.00000E-01      Infinity\n",
      "   1     1        2   5.00000E+00  -5.08520E+01   8.84000E+00   5.00000E+01   2.41000E+01   1.00000E+02   8.00000E-01      Infinity\n",
      "   1     2        3   5.00000E+00  -5.08520E+01   8.84000E+00   5.00000E+01   2.41000E+01   1.00000E+02   8.00000E-01      Infinity\n",
      "   1     3        4   5.00000E+00  -5.08520E+01   8.84000E+00   5.00000E+01   2.41000E+01   1.00000E+02   8.00000E-01      Infinity\n",
      "   1     4        5   5.00000E+00  -5.08520E+01   8.84000E+00   5.00000E+01   2.41000E+01   1.00000E+02   8.00000E-01      Infinity\n",
      "   1     5  EP    6   5.00000E+00  -5.08520E+01   8.84000E+00   5.00000E+01   2.41000E+01   1.00000E+02   8.00000E-01      Infinity\n",
      "\n",
      " Total Time    0.161E+02\n",
      "drosophila ... done\n"
     ]
    }
   ],
   "source": [
    "# As can be seen in the plot above, the system is governed by Hopf bifurcations for gleak >~ 8.6\n",
    "# Make a bifurcation diagram for a high gleak value to see these bifurcations\n",
    "# NOTE: I is shifted in the plots\n",
    "new_gleak = 8.84\n",
    "params = {'gleak': new_gleak}\n",
    "init_gleak = integrate_to_equilibrium(params={'gleak': new_gleak, 'I': 5})"
   ]
  },
  {
   "cell_type": "code",
   "execution_count": 10,
   "metadata": {
    "collapsed": false
   },
   "outputs": [
    {
     "name": "stdout",
     "output_type": "stream",
     "text": [
      "Starting drosophila ...\n",
      "\n",
      "  BR    PT  TY  LAB       I        V                PERIOD         freq         gleak          gKs           gKf           gNa      \n",
      "   1  1000        7   2.23620E+01  -4.14435E+01   7.74640E+01   1.29092E-02   8.84000E+00   5.00000E+01   2.41000E+01   1.00000E+02\n",
      "   1  1148  HB    8   2.36504E+01  -3.88291E+01   7.97427E+01   1.25403E-02   8.84000E+00   5.00000E+01   2.41000E+01   1.00000E+02\n",
      "   1  2000        9   3.78649E+01  -3.17131E+01   1.77875E+01   5.62191E-02   8.84000E+00   5.00000E+01   2.41000E+01   1.00000E+02\n",
      "   1  3000       10   5.77226E+01  -2.93657E+01   1.13785E+01   8.78851E-02   8.84000E+00   5.00000E+01   2.41000E+01   1.00000E+02\n",
      "   1  4000       11   7.76603E+01  -2.77941E+01   9.21861E+00   1.08476E-01   8.84000E+00   5.00000E+01   2.41000E+01   1.00000E+02\n",
      "   1  4924  HB   12   9.60913E+01  -2.66255E+01   8.13853E+00   1.22872E-01   8.84000E+00   5.00000E+01   2.41000E+01   1.00000E+02\n",
      "   1  5000       13   9.76087E+01  -2.65372E+01   8.06948E+00   1.23924E-01   8.84000E+00   5.00000E+01   2.41000E+01   1.00000E+02\n",
      "   1  6000       14   1.17579E+02  -2.54548E+01   7.33225E+00   1.36384E-01   8.84000E+00   5.00000E+01   2.41000E+01   1.00000E+02\n",
      "   1  6372  UZ   15   1.25000E+02  -2.50837E+01   7.11819E+00   1.40485E-01   8.84000E+00   5.00000E+01   2.41000E+01   1.00000E+02\n",
      "\n",
      " Total Time    0.423E+01\n",
      "drosophila ... done\n",
      "Starting drosophila ...\n",
      "\n",
      "  BR    PT  TY  LAB       I        V                PERIOD         freq         gleak          gKs           gKf           gNa      \n",
      "   1   261  UZ    7   8.69281E-08  -5.22345E+01   2.89606E+02   3.45296E-03   8.84000E+00   5.00000E+01   2.41000E+01   1.00000E+02\n",
      "\n",
      " Total Time    0.203E+00\n",
      "drosophila ... done\n",
      "Merge done\n",
      "Relabeling done\n"
     ]
    }
   ],
   "source": [
    "equilibrium_gleak = continue_equilibrium(init_gleak, params=params, UZSTOP={'I': [0, 125]})"
   ]
  },
  {
   "cell_type": "code",
   "execution_count": 13,
   "metadata": {
    "collapsed": false
   },
   "outputs": [
    {
     "name": "stdout",
     "output_type": "stream",
     "text": [
      "Starting drosophila ...\n",
      "\n",
      "  BR    PT  TY  LAB       I           MIN V         MAX V        MAX mKs        PERIOD        gleak          gKs           freq     \n",
      "   3   266  LP   11   2.35240E+01  -4.31876E+01  -1.90110E+01   3.24458E-01   9.06429E+01   8.84000E+00   5.00000E+01   1.10323E-02\n",
      "   3  1000       12   3.41983E+01  -4.05086E+01  -1.13383E+01   3.16432E-01   1.49891E+01   8.84000E+00   5.00000E+01   6.67152E-02\n",
      "   3  2000       13   5.36619E+01  -3.69716E+01  -1.46409E+01   3.30015E-01   9.71710E+00   8.84000E+00   5.00000E+01   1.02911E-01\n",
      "   3  3000       14   7.33957E+01  -3.37839E+01  -1.83142E+01   3.41949E-01   8.33724E+00   8.84000E+00   5.00000E+01   1.19944E-01\n",
      "   3  4000       15   9.30377E+01  -2.93669E+01  -2.36143E+01   3.42290E-01   8.10364E+00   8.84000E+00   5.00000E+01   1.23401E-01\n",
      "   3  5000  EP   16   8.09800E+01  -3.24495E+01  -1.98911E+01   3.44710E-01   8.14551E+00   8.84000E+00   5.00000E+01   1.22767E-01\n",
      "\n",
      " Total Time    0.400E+03\n",
      "drosophila ... done\n"
     ]
    }
   ],
   "source": [
    "tube_gleak = continue_limit_cycle(equilibrium_gleak('HB1'), params=params, \n",
    "                             UZSTOP={'I': [0, 125], 'PERIOD': [0, 100]}, STOP=['LP2'], ILP=1)  # ILP=1 to detect folds"
   ]
  },
  {
   "cell_type": "code",
   "execution_count": 12,
   "metadata": {
    "collapsed": false
   },
   "outputs": [
    {
     "name": "stdout",
     "output_type": "stream",
     "text": [
      "Created plot\n"
     ]
    }
   ],
   "source": [
    "plot_bifurcation_diagram(equilibrium_gleak + tube_gleak, saveas='plots/bifurcation_gleak={0}.png'.format(new_gleak))"
   ]
  },
  {
   "cell_type": "code",
   "execution_count": null,
   "metadata": {
    "collapsed": true
   },
   "outputs": [],
   "source": []
  }
 ],
 "metadata": {
  "kernelspec": {
   "display_name": "Python 2",
   "language": "python",
   "name": "python2"
  },
  "language_info": {
   "codemirror_mode": {
    "name": "ipython",
    "version": 2
   },
   "file_extension": ".py",
   "mimetype": "text/x-python",
   "name": "python",
   "nbconvert_exporter": "python",
   "pygments_lexer": "ipython2",
   "version": "2.7.8"
  }
 },
 "nbformat": 4,
 "nbformat_minor": 0
}
