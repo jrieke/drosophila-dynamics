{
 "cells": [
  {
   "cell_type": "code",
   "execution_count": null,
   "metadata": {
    "collapsed": true
   },
   "outputs": [],
   "source": [
    "%matplotlib tk\n",
    "from continuation_functions import *"
   ]
  },
  {
   "cell_type": "code",
   "execution_count": null,
   "metadata": {
    "collapsed": true
   },
   "outputs": [],
   "source": [
    "# Get default bifurcations.\n",
    "init = integrate_to_equilibrium()\n",
    "equilibrium = continue_equilibrium(init)"
   ]
  },
  {
   "cell_type": "code",
   "execution_count": null,
   "metadata": {
    "collapsed": true
   },
   "outputs": [],
   "source": [
    "# Continue saddle-node bifurcation (LP1) for changing gleak (2-parameter continuation)\n",
    "saddle_node = continue_bifurcation(equilibrium('LP1'), 'gleak', [0, 20])"
   ]
  },
  {
   "cell_type": "code",
   "execution_count": null,
   "metadata": {
    "collapsed": true
   },
   "outputs": [],
   "source": [
    "# Continue Hopf bifurcation (HB1) for changing gleak (2-parameter continuation)\n",
    "hopf = continue_bifurcation(equilibrium('HB1'), 'gleak', UZSTOP={'I': [-20, 170], 'gleak': [0, 20]})"
   ]
  },
  {
   "cell_type": "code",
   "execution_count": null,
   "metadata": {
    "collapsed": true
   },
   "outputs": [],
   "source": [
    "plot_2_params_diagram(saddle_node + hopf, 'gleak', ylabel='gleak / nS', miny=0, saveas='plots/2par_gleak.png')"
   ]
  },
  {
   "cell_type": "code",
   "execution_count": null,
   "metadata": {
    "collapsed": true
   },
   "outputs": [],
   "source": [
    "# tryout\n",
    "new_gleak = 2\n",
    "ini = integrate_to_equilibrium(params={'gleak': new_gleak, 'I': -100})\n",
    "eq = continue_equilibrium(ini, params={'gleak': new_gleak}, UZSTOP={'I': [-150, 100]})\n",
    "plot_bifurcation_diagram(eq)"
   ]
  },
  {
   "cell_type": "code",
   "execution_count": null,
   "metadata": {
    "collapsed": true
   },
   "outputs": [],
   "source": [
    "# As can be seen in the plot above, the system is governed by Hopf bifurcations for gleak >~ 8.6\n",
    "# Make a bifurcation diagram for a high gleak value to see these bifurcations\n",
    "# NOTE: I is shifted 50 pA in the plots\n",
    "new_gleak = 11#8.84\n",
    "params = {'gleak': new_gleak}\n",
    "init_gleak = integrate_to_equilibrium(params={'gleak': new_gleak, 'I': 40})"
   ]
  },
  {
   "cell_type": "code",
   "execution_count": null,
   "metadata": {
    "collapsed": true
   },
   "outputs": [],
   "source": [
    "equilibrium_gleak = continue_equilibrium(init_gleak, params=params, UZSTOP={'I': [30, 150]})"
   ]
  },
  {
   "cell_type": "code",
   "execution_count": null,
   "metadata": {
    "collapsed": true
   },
   "outputs": [],
   "source": [
    "tube_gleak = continue_limit_cycle(equilibrium_gleak('HB1'), params=params, \n",
    "                             UZSTOP={'I': [30, 150], 'PERIOD': [0, 100]}, STOP=['LP2'], ILP=1)  # ILP=1 to detect folds"
   ]
  },
  {
   "cell_type": "code",
   "execution_count": null,
   "metadata": {
    "collapsed": true
   },
   "outputs": [],
   "source": [
    "plot_bifurcation_diagram(equilibrium_gleak + tube_gleak)#, saveas='plots/bifurcation_gleak={0}.png'.format(new_gleak))"
   ]
  }
 ],
 "metadata": {
  "kernelspec": {
   "display_name": "Python 2",
   "language": "python",
   "name": "python2"
  },
  "language_info": {
   "codemirror_mode": {
    "name": "ipython",
    "version": 2
   },
   "file_extension": ".py",
   "mimetype": "text/x-python",
   "name": "python",
   "nbconvert_exporter": "python",
   "pygments_lexer": "ipython2",
   "version": "2.7.8"
  }
 },
 "nbformat": 4,
 "nbformat_minor": 0
}
