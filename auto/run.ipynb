{
 "cells": [
  {
   "cell_type": "code",
   "execution_count": 1,
   "metadata": {
    "collapsed": false
   },
   "outputs": [],
   "source": [
    "%matplotlib tk\n",
    "from Tkinter import TclError\n",
    "import auto"
   ]
  },
  {
   "cell_type": "code",
   "execution_count": 2,
   "metadata": {
    "collapsed": false
   },
   "outputs": [
    {
     "data": {
      "text/plain": [
       "{'gKf': 24.1, 'gKs': 50, 'gNa': 100, 'gNaP': 0.8, 'gleak': 10}"
      ]
     },
     "execution_count": 2,
     "metadata": {},
     "output_type": "execute_result"
    }
   ],
   "source": [
    "default_params = {'I': -12, 'gleak': 6.8, 'gKs': 50, 'gKf': 24.1, 'gNa': 100, 'gNaP': 0.8}\n",
    "\n",
    "# Return a copy of the dict params, coplemented by default values for all parameters that are neither in params nor in exclude.\n",
    "def add_default_params(params, exclude=None):\n",
    "    if params is None: \n",
    "        params = {}\n",
    "    else:\n",
    "        params = params.copy()\n",
    "        \n",
    "    if exclude is None: exclude = []    \n",
    "    for key, val in default_params.items():\n",
    "        if key not in exclude:\n",
    "            params.setdefault(key, val)\n",
    "    return params\n",
    "\n",
    "add_default_params({'gleak': 10}, exclude=['I'])"
   ]
  },
  {
   "cell_type": "code",
   "execution_count": 3,
   "metadata": {
    "collapsed": false,
    "scrolled": false
   },
   "outputs": [],
   "source": [
    "# For all these functions, the AUTO constants can be overwritten at any time by using kwargs.\n",
    "\n",
    "# Integrate the system using the Euler algorithm and return the last point.\n",
    "def integrate_to_equilibrium(params=None, **kwargs):\n",
    "    kwargs.setdefault('PAR', add_default_params(params))\n",
    "    integration = auto.run(e='drosophila', c='integration', **kwargs)\n",
    "    return integration()[-1]  # last point\n",
    "\n",
    "# Continue equilibrium forwards and backwards in I from init point.\n",
    "def continue_equilibrium(init, params=None, **kwargs):\n",
    "    kwargs.setdefault('PAR', add_default_params(params, exclude=['I']))    \n",
    "    equilibrium = auto.run(init, c='equilibrium', **kwargs)\n",
    "    equilibrium += auto.run(init, c='equilibrium', DS='-', **kwargs)\n",
    "    equilibrium = auto.relabel(auto.merge(equilibrium))  # get single curve with unique labels\n",
    "    return equilibrium\n",
    "\n",
    "# Continue limit cycle in I from init point (for example a Hopf bifurcation).\n",
    "def continue_limit_cycle(init, params=None, **kwargs):\n",
    "    kwargs.setdefault('PAR', add_default_params(params, exclude=['I']))\n",
    "    return auto.run(init, c='tube', **kwargs)\n",
    "\n",
    "# Continue bifurcation point in init for changing continuation_param. \n",
    "def continue_in_2_params(init, continuation_param, continuation_param_uzstop=None, params=None, **kwargs):\n",
    "    kwargs.setdefault('PAR', add_default_params(params, exclude=['I', continuation_param]))\n",
    "    kwargs.setdefault('ICP', ['I', continuation_param, 'PERIOD'])\n",
    "    if continuation_param_uzstop is not None:\n",
    "        kwargs.setdefault('UZSTOP', {'I': [-20, 100], continuation_param: continuation_param_uzstop})\n",
    "    \n",
    "    bifurcation_point = auto.run(init, c='2par', **kwargs)\n",
    "    bifurcation_point += auto.run(init, c='2par', DS='-', **kwargs)\n",
    "    bifurcation_point = auto.relabel(auto.merge(bifurcation_point))\n",
    "    return bifurcation_point\n",
    "\n",
    "\n",
    "# TODO: Make the plot functions simpler.\n",
    "\n",
    "def plot_bifurcation_diagram(points, saveas=False, **kwargs):\n",
    "    # AUTO raises a non-critical TclError (bad window path name) on Windows when showing the plot. Prevent its output by wrapping in a try block.\n",
    "    try:\n",
    "        auto.plot(points, bifurcation_y=['V', 'MAX V', 'MIN V'], stability=True, use_labels=False, \n",
    "                  grid=False, height=350, user_point_symbol='', xlabel='I / pA', ylabel='V / mV', color_list='blue blue green', **kwargs)\n",
    "    except TclError:\n",
    "        pass\n",
    "    \n",
    "    if saveas:\n",
    "        p = auto.plot(points, bifurcation_y=['V', 'MAX V', 'MIN V'], stability=True, use_labels=False, \n",
    "                      grid=False, height=350, user_point_symbol='', xlabel='I / pA', ylabel='V / mV', color_list='blue blue green', \n",
    "                      hide=True, **kwargs)\n",
    "        p.savefig(saveas, dpi=300)    \n",
    "        \n",
    "    \n",
    "def plot_2_params_diagram(points, second_param, saveas=False, **kwargs):\n",
    "    # AUTO raises a non-critical TclError (bad window path name) on Windows when showing the plot. Prevent its output by wrapping in a try block.\n",
    "    try:\n",
    "        auto.plot(points, bifurcation_x='I', bifurcation_y=second_param, use_labels=False, \n",
    "                  grid=False, height=350, xlabel='I / pA', **kwargs)\n",
    "    except TclError:\n",
    "        pass\n",
    "    \n",
    "    if saveas:\n",
    "        p = auto.plot(points, bifurcation_x='I', bifurcation_y=second_param, use_labels=False, \n",
    "                      grid=False, height=350, xlabel='I / pA', hide=True, **kwargs)\n",
    "        p.savefig(saveas, dpi=300)\n",
    "    "
   ]
  },
  {
   "cell_type": "markdown",
   "metadata": {},
   "source": [
    "Bifurcation diagram for default parameter values"
   ]
  },
  {
   "cell_type": "code",
   "execution_count": 4,
   "metadata": {
    "collapsed": false
   },
   "outputs": [
    {
     "name": "stdout",
     "output_type": "stream",
     "text": [
      "Starting drosophila ...\n",
      "\n",
      "  BR    PT  TY  LAB       I           MIN V         gleak          gKs           gKf           gNa           gNaP          freq     \n",
      "   1     1  EP    1  -1.20000E+01  -5.45614E+01   6.80000E+00   5.00000E+01   2.41000E+01   1.00000E+02   8.00000E-01      Infinity\n",
      "   1     1        2  -1.20000E+01  -5.45614E+01   6.80000E+00   5.00000E+01   2.41000E+01   1.00000E+02   8.00000E-01      Infinity\n",
      "   1     2        3  -1.20000E+01  -5.45614E+01   6.80000E+00   5.00000E+01   2.41000E+01   1.00000E+02   8.00000E-01      Infinity\n",
      "   1     3        4  -1.20000E+01  -5.45614E+01   6.80000E+00   5.00000E+01   2.41000E+01   1.00000E+02   8.00000E-01      Infinity\n",
      "   1     4        5  -1.20000E+01  -5.45614E+01   6.80000E+00   5.00000E+01   2.41000E+01   1.00000E+02   8.00000E-01      Infinity\n",
      "   1     5  EP    6  -1.20000E+01  -5.45614E+01   6.80000E+00   5.00000E+01   2.41000E+01   1.00000E+02   8.00000E-01      Infinity\n",
      "\n",
      " Total Time    0.174E+02\n",
      "drosophila ... done\n"
     ]
    }
   ],
   "source": [
    "init = integrate_to_equilibrium()"
   ]
  },
  {
   "cell_type": "code",
   "execution_count": 5,
   "metadata": {
    "collapsed": false,
    "scrolled": true
   },
   "outputs": [
    {
     "name": "stdout",
     "output_type": "stream",
     "text": [
      "Starting drosophila ...\n",
      "\n",
      "  BR    PT  TY  LAB       I        V                PERIOD         freq         gleak          gKs           gKf           gNa      \n",
      "   1   651  LP    7  -1.90176E+00  -4.77435E+01   3.69210E+04   2.70848E-05   6.80000E+00   5.00000E+01   2.41000E+01   1.00000E+02\n",
      "   1  1000        8  -4.94013E+00  -4.17429E+01   3.69210E+04   2.70848E-05   6.80000E+00   5.00000E+01   2.41000E+01   1.00000E+02\n",
      "   1  1626  LP    9  -1.48988E+01  -3.45427E+01   1.54590E+04   6.46873E-05   6.80000E+00   5.00000E+01   2.41000E+01   1.00000E+02\n",
      "   1  2000       10  -8.45198E+00  -3.14397E+01   3.77712E+01   2.64752E-02   6.80000E+00   5.00000E+01   2.41000E+01   1.00000E+02\n",
      "   1  3000       11   1.13559E+01  -2.87468E+01   1.20454E+01   8.30195E-02   6.80000E+00   5.00000E+01   2.41000E+01   1.00000E+02\n",
      "   1  4000       12   3.12875E+01  -2.71025E+01   9.12536E+00   1.09585E-01   6.80000E+00   5.00000E+01   2.41000E+01   1.00000E+02\n",
      "   1  5000       13   5.12453E+01  -2.58072E+01   7.78675E+00   1.28423E-01   6.80000E+00   5.00000E+01   2.41000E+01   1.00000E+02\n",
      "   1  5424  HB   14   5.96953E+01  -2.53199E+01   7.40104E+00   1.35116E-01   6.80000E+00   5.00000E+01   2.41000E+01   1.00000E+02\n",
      "   1  6000       15   7.11985E+01  -2.46979E+01   6.97375E+00   1.43395E-01   6.80000E+00   5.00000E+01   2.41000E+01   1.00000E+02\n",
      "   1  7000       16   9.11737E+01  -2.37045E+01   6.40513E+00   1.56125E-01   6.80000E+00   5.00000E+01   2.41000E+01   1.00000E+02\n",
      "   1  7442  UZ   17   1.00000E+02  -2.32930E+01   6.20104E+00   1.61263E-01   6.80000E+00   5.00000E+01   2.41000E+01   1.00000E+02\n",
      "\n",
      " Total Time    0.528E+01\n"
     ]
    },
    {
     "name": "stderr",
     "output_type": "stream",
     "text": [
      "D:\\Python\\27_32bit\\lib\\site-packages\\numpy\\core\\fromnumeric.py:2641: VisibleDeprecationWarning: `rank` is deprecated; use the `ndim` attribute or function instead. To find the rank of a matrix see `numpy.linalg.matrix_rank`.\n",
      "  VisibleDeprecationWarning)\n"
     ]
    },
    {
     "name": "stdout",
     "output_type": "stream",
     "text": [
      "drosophila ... done\n",
      "Starting drosophila ...\n",
      "\n",
      "  BR    PT  TY  LAB       I        V                PERIOD         freq         gleak          gKs           gKf           gNa      \n",
      "   1   414  UZ    7  -2.00000E+01  -5.65503E+01   4.60659E+03   2.17080E-04   6.80000E+00   5.00000E+01   2.41000E+01   1.00000E+02\n",
      "\n",
      " Total Time    0.328E+00\n",
      "drosophila ... done\n",
      "Merge done\n",
      "Relabeling done\n"
     ]
    }
   ],
   "source": [
    "equilibrium = continue_equilibrium(init)"
   ]
  },
  {
   "cell_type": "code",
   "execution_count": 6,
   "metadata": {
    "collapsed": false
   },
   "outputs": [
    {
     "name": "stdout",
     "output_type": "stream",
     "text": [
      "Unknown column name: MAX V\n",
      "Unknown column name: MIN V\n"
     ]
    }
   ],
   "source": [
    "#print equilibrium.summary()\n",
    "plot_bifurcation_diagram(equilibrium)"
   ]
  },
  {
   "cell_type": "code",
   "execution_count": 7,
   "metadata": {
    "collapsed": false
   },
   "outputs": [
    {
     "name": "stdout",
     "output_type": "stream",
     "text": [
      "Starting drosophila ...\n",
      "\n",
      "  BR    PT  TY  LAB       I           MIN V         MAX V        MAX mKs        PERIOD        gleak          gKs           freq     \n",
      "   9  1000       13   4.08777E+01  -3.23705E+01  -1.77637E+01   3.52584E-01   7.45431E+00   6.80000E+00   5.00000E+01   1.34151E-01\n",
      "   9  2000       14   2.12608E+01  -3.63629E+01  -1.29058E+01   3.39307E-01   8.67572E+00   6.80000E+00   5.00000E+01   1.15264E-01\n",
      "   9  3000       15   2.44370E+00  -4.13294E+01  -6.30433E+00   3.25499E-01   1.56343E+01   6.80000E+00   5.00000E+01   6.39619E-02\n",
      "   9  3591  UZ   16  -2.70771E+00  -4.45008E+01  -6.24261E+00   3.21513E-01   1.00000E+02   6.80000E+00   5.00000E+01   1.00000E-02\n",
      "\n",
      " Total Time    0.260E+03\n",
      "drosophila ... done\n"
     ]
    }
   ],
   "source": [
    "tube = continue_limit_cycle(equilibrium('HB1'))"
   ]
  },
  {
   "cell_type": "code",
   "execution_count": 8,
   "metadata": {
    "collapsed": false
   },
   "outputs": [
    {
     "name": "stdout",
     "output_type": "stream",
     "text": [
      "Created plot\n"
     ]
    }
   ],
   "source": [
    "plot_bifurcation_diagram(equilibrium + tube, saveas='plots/bifurcation.png')"
   ]
  },
  {
   "cell_type": "markdown",
   "metadata": {},
   "source": [
    "2 parameter continuation for gleak"
   ]
  },
  {
   "cell_type": "code",
   "execution_count": 9,
   "metadata": {
    "collapsed": false
   },
   "outputs": [
    {
     "name": "stdout",
     "output_type": "stream",
     "text": [
      "Starting drosophila ...\n",
      "\n",
      "  BR    PT  TY  LAB       I          L2-NORM          V            mKs           mKf           hKf          gleak         PERIOD    \n",
      "   2   466  BT   13   1.91187E+01   3.91085E+01  -3.90923E+01   2.11143E-01   4.91173E-02   2.71977E-01   8.55953E+00   3.69210E+04\n",
      "   2   488  CP   14   1.98699E+01   3.83728E+01  -3.83564E+01   2.17366E-01   5.40669E-02   2.48380E-01   8.60603E+00   3.69210E+04\n",
      "   2  1000       15  -5.20240E+00   3.50656E+01  -3.50477E+01   2.46959E-01   8.26534E-02   1.59933E-01   7.27974E+00   3.69210E+04\n",
      "   2  1297  UZ   16  -2.00000E+01   3.43283E+01  -3.43099E+01   2.53914E-01   9.06811E-02   1.44095E-01   6.55207E+00   3.69210E+04\n",
      "\n",
      " Total Time    0.261E+01\n",
      "drosophila ... done\n",
      "Starting drosophila ...\n",
      "\n",
      "  BR    PT  TY  LAB       I          L2-NORM          V            mKs           mKf           hKf          gleak         PERIOD    \n",
      "   2  1000       13  -5.12107E-02   8.49357E+01  -8.49181E+01   2.60919E-02   9.45218E-05   9.98712E-01   1.51653E-03   3.69210E+04\n",
      "   2  2000       14  -1.16606E-06   1.34929E+02  -1.34918E+02   2.16972E-03   9.74289E-08   1.00000E+00   1.37065E-08   3.69210E+04\n",
      "   2  2030  CP   15  -8.84452E-07   1.36429E+02  -1.36418E+02   2.01258E-03   7.92649E-08   1.00000E+00   1.02139E-08   3.69210E+04\n",
      "   2  2032  CP   16  -8.68344E-07   1.36529E+02  -1.36518E+02   2.00252E-03   7.81821E-08   1.00000E+00   1.00161E-08   3.69210E+04\n",
      "\n",
      " Total Time    0.456E+01\n",
      "drosophila ... done\n",
      "Merge done\n",
      "Relabeling done\n"
     ]
    }
   ],
   "source": [
    "# Continue saddle-node bifurcation (LP1) for changing gleak (2-parameter continuation)\n",
    "saddle_node_gleak = continue_in_2_params(equilibrium('LP1'), 'gleak', [0, 20])"
   ]
  },
  {
   "cell_type": "code",
   "execution_count": 10,
   "metadata": {
    "collapsed": false
   },
   "outputs": [
    {
     "name": "stdout",
     "output_type": "stream",
     "text": [
      "Starting drosophila ...\n",
      "\n",
      "  BR    PT  TY  LAB       I          L2-NORM          V            mKs           mKf           hKf          gleak         PERIOD    \n",
      "   9  1000       13   1.09456E+02   2.72228E+01  -2.71959E+01   3.27275E-01   2.09688E-01   4.89226E-02   9.65797E+00   8.47888E+00\n",
      "   9  2000       14   1.40000E+02   3.25089E+01  -3.24891E+01   2.71625E-01   1.13559E-01   1.10548E-01   1.35651E+01   1.30071E+01\n",
      "   9  3000       15   9.01186E+01   3.55486E+01  -3.55310E+01   2.42472E-01   7.77502E-02   1.71055E-01   1.21708E+01   1.92242E+01\n",
      "   9  4000       16   4.02337E+01   3.79568E+01  -3.79403E+01   2.20942E-01   5.70700E-02   2.35660E-01   9.79956E+00   3.67259E+01\n",
      "   9  4434  BT   17   1.91187E+01   3.91085E+01  -3.90923E+01   2.11143E-01   4.91173E-02   2.71977E-01   8.55953E+00   2.59459E+03\n",
      "\n",
      " Total Time    0.889E+01\n",
      "drosophila ... done\n",
      "Starting drosophila ...\n",
      "\n",
      "  BR    PT  TY  LAB       I          L2-NORM          V            mKs           mKf           hKf          gleak         PERIOD    \n",
      "   9  1000       13   9.90330E+00   2.38488E+01  -2.38144E+01   3.65702E-01   2.96988E-01   2.84449E-02   4.26784E+00   6.60457E+00\n",
      "   9  1599  UZ   14  -2.00000E+01   2.30195E+01  -2.29827E+01   3.75445E-01   3.21414E-01   2.48546E-02   2.83782E+00   6.18929E+00\n",
      "\n",
      " Total Time    0.295E+01\n",
      "drosophila ... done\n",
      "Merge done\n",
      "Relabeling done\n"
     ]
    }
   ],
   "source": [
    "# Continue Hopf bifurcation (HB1) for changing gleak (2-parameter continuation)\n",
    "hopf_gleak = continue_in_2_params(equilibrium('HB1'), 'gleak', UZSTOP={'I': [-20, 170], 'gleak': [0, 20]})"
   ]
  },
  {
   "cell_type": "code",
   "execution_count": 11,
   "metadata": {
    "collapsed": false
   },
   "outputs": [
    {
     "name": "stdout",
     "output_type": "stream",
     "text": [
      "Created plot\n"
     ]
    }
   ],
   "source": [
    "plot_2_params_diagram(saddle_node_gleak + hopf_gleak, 'gleak', ylabel='gleak / nS', miny=0, saveas='plots/2par_gleak.png')"
   ]
  },
  {
   "cell_type": "markdown",
   "metadata": {},
   "source": [
    "Bifurcation diagram for high gleak"
   ]
  },
  {
   "cell_type": "code",
   "execution_count": 12,
   "metadata": {
    "collapsed": false
   },
   "outputs": [
    {
     "name": "stdout",
     "output_type": "stream",
     "text": [
      "Starting drosophila ...\n",
      "\n",
      "  BR    PT  TY  LAB       I           MIN V         gleak          gKs           gKf           gNa           gNaP          freq     \n",
      "   1     1  EP    1  -1.20000E+01  -5.45614E+01   8.84000E+00   5.00000E+01   2.41000E+01   1.00000E+02   8.00000E-01      Infinity\n",
      "   1     1        2  -1.20000E+01  -5.47226E+01   8.84000E+00   5.00000E+01   2.41000E+01   1.00000E+02   8.00000E-01      Infinity\n",
      "   1     2        3  -1.20000E+01  -5.47226E+01   8.84000E+00   5.00000E+01   2.41000E+01   1.00000E+02   8.00000E-01      Infinity\n",
      "   1     3        4  -1.20000E+01  -5.47226E+01   8.84000E+00   5.00000E+01   2.41000E+01   1.00000E+02   8.00000E-01      Infinity\n",
      "   1     4        5  -1.20000E+01  -5.47226E+01   8.84000E+00   5.00000E+01   2.41000E+01   1.00000E+02   8.00000E-01      Infinity\n",
      "   1     5  EP    6  -1.20000E+01  -5.47226E+01   8.84000E+00   5.00000E+01   2.41000E+01   1.00000E+02   8.00000E-01      Infinity\n",
      "\n",
      " Total Time    0.166E+02\n",
      "drosophila ... done\n"
     ]
    }
   ],
   "source": [
    "# As can be seen in the plot above, the system is governed by Hopf bifurcations for gleak >~ 8.6\n",
    "# Make a bifurcation diagram for a high gleak value to see these bifurcations\n",
    "new_gleak = 8.84\n",
    "params = {'gleak': new_gleak}\n",
    "init_gleak = integrate_to_equilibrium(params=params)"
   ]
  },
  {
   "cell_type": "code",
   "execution_count": 13,
   "metadata": {
    "collapsed": false
   },
   "outputs": [
    {
     "name": "stdout",
     "output_type": "stream",
     "text": [
      "Starting drosophila ...\n",
      "\n",
      "  BR    PT  TY  LAB       I        V                PERIOD         freq         gleak          gKs           gKf           gNa      \n",
      "   1  1000        7   7.40261E+00  -5.00543E+01   4.62893E+02   2.16033E-03   8.84000E+00   5.00000E+01   2.41000E+01   1.00000E+02\n",
      "   1  2000        8   2.35478E+01  -3.92051E+01   7.60091E+01   1.31563E-02   8.84000E+00   5.00000E+01   2.41000E+01   1.00000E+02\n",
      "   1  2020  HB    9   2.36504E+01  -3.88291E+01   7.97427E+01   1.25403E-02   8.84000E+00   5.00000E+01   2.41000E+01   1.00000E+02\n",
      "   1  3000       10   4.03951E+01  -3.13236E+01   1.62848E+01   6.14068E-02   8.84000E+00   5.00000E+01   2.41000E+01   1.00000E+02\n",
      "   1  4000       11   6.02724E+01  -2.91377E+01   1.09964E+01   9.09392E-02   8.84000E+00   5.00000E+01   2.41000E+01   1.00000E+02\n",
      "   1  5000       12   8.02143E+01  -2.76198E+01   9.03512E+00   1.10679E-01   8.84000E+00   5.00000E+01   2.41000E+01   1.00000E+02\n",
      "   1  5796  HB   13   9.60913E+01  -2.66255E+01   8.13853E+00   1.22872E-01   8.84000E+00   5.00000E+01   2.41000E+01   1.00000E+02\n",
      "   1  6000       14   1.00164E+02  -2.63906E+01   7.95819E+00   1.25657E-01   8.84000E+00   5.00000E+01   2.41000E+01   1.00000E+02\n",
      "   1  7000       15   1.20136E+02  -2.53253E+01   7.25562E+00   1.37824E-01   8.84000E+00   5.00000E+01   2.41000E+01   1.00000E+02\n",
      "   1  8000       16   1.40113E+02  -2.43678E+01   6.74839E+00   1.48183E-01   8.84000E+00   5.00000E+01   2.41000E+01   1.00000E+02\n",
      "   1  9000       17   1.60094E+02  -2.34867E+01   6.35564E+00   1.57341E-01   8.84000E+00   5.00000E+01   2.41000E+01   1.00000E+02\n",
      "   1  9496  UZ   18   1.70000E+02  -2.30720E+01   6.18971E+00   1.61558E-01   8.84000E+00   5.00000E+01   2.41000E+01   1.00000E+02\n",
      "\n",
      " Total Time    0.648E+01\n",
      "drosophila ... done\n",
      "Starting drosophila ...\n",
      "\n",
      "  BR    PT  TY  LAB       I        V                PERIOD         freq         gleak          gKs           gKf           gNa      \n",
      "   1   407  UZ    7  -2.00000E+01  -5.60609E+01   0.00000E+00      Infinity   8.84000E+00   5.00000E+01   2.41000E+01   1.00000E+02\n",
      "\n",
      " Total Time    0.281E+00\n",
      "drosophila ... done\n",
      "Merge done\n",
      "Relabeling done\n"
     ]
    }
   ],
   "source": [
    "equilibrium_gleak = continue_equilibrium(init_gleak, params=params, UZSTOP={'I': [-20, 170]})"
   ]
  },
  {
   "cell_type": "code",
   "execution_count": 14,
   "metadata": {
    "collapsed": false
   },
   "outputs": [
    {
     "name": "stdout",
     "output_type": "stream",
     "text": [
      "Starting drosophila ...\n",
      "\n",
      "  BR    PT  TY  LAB       I           MIN V         MAX V        MAX mKs        PERIOD        gleak          gKs           freq     \n",
      "   4   266  LP   14   2.35240E+01  -4.31876E+01  -1.90110E+01   3.24458E-01   9.06429E+01   8.84000E+00   5.00000E+01   1.10323E-02\n",
      "   4  1000       15   3.41983E+01  -4.05086E+01  -1.13383E+01   3.16432E-01   1.49891E+01   8.84000E+00   5.00000E+01   6.67152E-02\n",
      "   4  2000       16   5.36619E+01  -3.69716E+01  -1.46409E+01   3.30015E-01   9.71710E+00   8.84000E+00   5.00000E+01   1.02911E-01\n",
      "   4  3000       17   7.33957E+01  -3.37839E+01  -1.83142E+01   3.41949E-01   8.33724E+00   8.84000E+00   5.00000E+01   1.19944E-01\n",
      "   4  4000       18   9.30377E+01  -2.93669E+01  -2.36143E+01   3.42290E-01   8.10364E+00   8.84000E+00   5.00000E+01   1.23401E-01\n",
      "   4  5000  EP   19   8.09800E+01  -3.24495E+01  -1.98911E+01   3.44710E-01   8.14551E+00   8.84000E+00   5.00000E+01   1.22767E-01\n",
      "\n",
      " Total Time    0.363E+03\n",
      "drosophila ... done\n"
     ]
    }
   ],
   "source": [
    "tube_gleak = continue_limit_cycle(equilibrium_gleak('HB1'), params=params, \n",
    "                             UZSTOP={'I': [-20, 170], 'PERIOD': [0, 100]}, STOP=['LP2'], ILP=1)  # ILP=1 to detect folds"
   ]
  },
  {
   "cell_type": "code",
   "execution_count": 15,
   "metadata": {
    "collapsed": false
   },
   "outputs": [
    {
     "name": "stdout",
     "output_type": "stream",
     "text": [
      "Created plot\n"
     ]
    }
   ],
   "source": [
    "plot_bifurcation_diagram(equilibrium_gleak + tube_gleak, saveas='plots/bifurcation_gleak={0}.png'.format(new_gleak))"
   ]
  },
  {
   "cell_type": "markdown",
   "metadata": {},
   "source": [
    "2 parameter continuation for gKs"
   ]
  },
  {
   "cell_type": "code",
   "execution_count": 16,
   "metadata": {
    "collapsed": false
   },
   "outputs": [
    {
     "name": "stdout",
     "output_type": "stream",
     "text": [
      "Starting drosophila ...\n",
      "\n",
      "  BR    PT  TY  LAB       I          L2-NORM          V            mKs           mKf           hKf           gKs          PERIOD    \n",
      "   2  1000       13  -1.06131E+00   4.67175E+01  -4.66956E+01   1.54474E-01   1.78275E-02   5.70185E-01   9.98611E+01   3.69210E+04\n",
      "   2  2000       14   1.91601E-01   4.36073E+01  -4.35904E+01   1.75959E-01   2.70696E-02   4.41536E-01   1.49739E+02   3.69210E+04\n",
      "   2  2541  BT   15   1.36602E+00   4.07594E+01  -4.07436E+01   1.97660E-01   3.95318E-02   3.29731E-01   1.76543E+02   3.69210E+04\n",
      "   2  2548  CP   16   1.37925E+00   4.05250E+01  -4.05091E+01   1.99534E-01   4.07746E-02   3.21153E-01   1.76761E+02   3.69210E+04\n",
      "   2  3000       17  -4.78563E-01   3.82280E+01  -3.82116E+01   2.18606E-01   5.50946E-02   2.43902E-01   1.54489E+02   3.69210E+04\n",
      "   2  4000       18  -6.22347E+00   3.62728E+01  -3.62556E+01   2.35850E-01   7.08976E-02   1.88865E-01   1.04862E+02   3.69210E+04\n",
      "   2  5000       19  -1.39123E+01   3.47283E+01  -3.47102E+01   2.50124E-01   8.62419E-02   1.52520E-01   5.54849E+01   3.69210E+04\n",
      "   2  5644  UZ   20  -2.00000E+01   3.37546E+01  -3.37358E+01   2.59415E-01   9.74061E-02   1.32692E-01   2.39247E+01   3.69210E+04\n",
      "\n",
      " Total Time    0.114E+02\n",
      "drosophila ... done\n",
      "Starting drosophila ...\n",
      "\n",
      "  BR    PT  TY  LAB       I          L2-NORM          V            mKs           mKf           hKf           gKs          PERIOD    \n",
      "   2  1000       13  -2.62225E+00   4.83375E+01  -4.83144E+01   1.44151E-01   1.43197E-02   6.34692E-01   1.28554E-01   3.69210E+04\n",
      "   2  1003  UZ   14  -2.62401E+00   4.83387E+01  -4.83156E+01   1.44143E-01   1.43174E-02   6.34739E-01   2.42149E-09   3.69210E+04\n",
      "\n",
      " Total Time    0.158E+01\n",
      "drosophila ... done\n",
      "Merge done\n",
      "Relabeling done\n"
     ]
    }
   ],
   "source": [
    "saddle_node_gKs = continue_in_2_params(equilibrium('LP1'), 'gKs', [0, 300])"
   ]
  },
  {
   "cell_type": "code",
   "execution_count": 17,
   "metadata": {
    "collapsed": false
   },
   "outputs": [
    {
     "name": "stdout",
     "output_type": "stream",
     "text": [
      "Starting drosophila ...\n",
      "\n",
      "  BR    PT  TY  LAB       I          L2-NORM          V            mKs           mKf           hKf           gKs          PERIOD    \n",
      "   9  1000       13   8.45967E+01   2.57904E+01  -2.57606E+01   3.43339E-01   2.44274E-01   3.89196E-02   9.32063E+01   7.04228E+00\n",
      "   9  2000       14   1.06712E+02   2.62364E+01  -2.62075E+01   3.38296E-01   2.33106E-01   4.18033E-02   1.38038E+02   6.79209E+00\n",
      "   9  3000       15   1.26175E+02   2.66775E+01  -2.66495E+01   3.33345E-01   2.22415E-01   4.48555E-02   1.84086E+02   6.61264E+00\n",
      "   9  4000       16   1.43215E+02   2.71091E+01  -2.70819E+01   3.28536E-01   2.12297E-01   4.80467E-02   2.31085E+02   6.48200E+00\n",
      "   9  5000       17   1.58058E+02   2.75296E+01  -2.75032E+01   3.23885E-01   2.02768E-01   5.13621E-02   2.78825E+02   6.38684E+00\n",
      "   9  6000       18   1.70910E+02   2.79391E+01  -2.79134E+01   3.19391E-01   1.93801E-01   5.47968E-02   3.27140E+02   6.31866E+00\n",
      "   9  7000       19   1.81953E+02   2.83383E+01  -2.83132E+01   3.15041E-01   1.85352E-01   5.83524E-02   3.75901E+02   6.27183E+00\n",
      "   9  8000       20   1.91338E+02   2.87285E+01  -2.87040E+01   3.10821E-01   1.77372E-01   6.20362E-02   4.25009E+02   6.24257E+00\n",
      "   9  9000       21   1.99194E+02   2.91113E+01  -2.90874E+01   3.06711E-01   1.69807E-01   6.58601E-02   4.74384E+02   6.22830E+00\n",
      "   9     1       22   2.05622E+02   2.94885E+01  -2.94651E+01   3.02692E-01   1.62608E-01   6.98405E-02   5.23966E+02   6.22731E+00\n",
      "   9  1001       23   2.10704E+02   2.98619E+01  -2.98390E+01   2.98743E-01   1.55726E-01   7.39989E-02   5.73705E+02   6.23857E+00\n",
      "   9  2001       24   2.14496E+02   3.02335E+01  -3.02112E+01   2.94842E-01   1.49114E-01   7.83628E-02   6.23558E+02   6.26156E+00\n",
      "   9  3001       25   2.17034E+02   3.06057E+01  -3.05838E+01   2.90965E-01   1.42727E-01   8.29676E-02   6.73491E+02   6.29628E+00\n",
      "   9  4001       26   2.18329E+02   3.09811E+01  -3.09597E+01   2.87087E-01   1.36518E-01   8.78593E-02   7.23471E+02   6.34327E+00\n",
      "   9  5001       27   2.18363E+02   3.13628E+01  -3.13418E+01   2.83174E-01   1.30439E-01   9.30996E-02   7.73468E+02   6.40366E+00\n",
      "   9  6001       28   2.17081E+02   3.17551E+01  -3.17344E+01   2.79188E-01   1.24434E-01   9.87737E-02   8.23449E+02   6.47946E+00\n",
      "   9  7001       29   2.14370E+02   3.21633E+01  -3.21432E+01   2.75076E-01   1.18437E-01   1.05005E-01   8.73372E+02   6.57396E+00\n",
      "   9  8001       30   2.10030E+02   3.25961E+01  -3.25763E+01   2.70759E-01   1.12356E-01   1.11986E-01   9.23178E+02   6.69272E+00\n",
      "   9  9001       31   2.03682E+02   3.30672E+01  -3.30479E+01   2.66108E-01   1.06048E-01   1.20043E-01   9.72767E+02   6.84574E+00\n",
      "   9     2       32   1.94552E+02   3.36038E+01  -3.35849E+01   2.60874E-01   9.92463E-02   1.29824E-01   1.02191E+03   7.05370E+00\n",
      "   9  1002       33   1.80576E+02   3.42763E+01  -3.42578E+01   2.54410E-01   9.12731E-02   1.43028E-01   1.06987E+03   7.37325E+00\n",
      "   9  2002       34   1.50776E+02   3.54523E+01  -3.54346E+01   2.43362E-01   7.87059E-02   1.68790E-01   1.10748E+03   8.13650E+00\n",
      "   9  3002       35   1.17639E+02   3.65971E+01  -3.65800E+01   2.32926E-01   6.80138E-02   1.97288E-01   1.07370E+03   9.25071E+00\n",
      "   9  4002       36   1.00482E+02   3.71679E+01  -3.71511E+01   2.27840E-01   6.32003E-02   2.12796E-01   1.02679E+03   1.00202E+01\n",
      "   9  5002       37   8.78353E+01   3.75887E+01  -3.75720E+01   2.24142E-01   5.98578E-02   2.24785E-01   9.78426E+02   1.07226E+01\n",
      "   9  6002       38   7.75149E+01   3.79354E+01  -3.79188E+01   2.21128E-01   5.72291E-02   2.35016E-01   9.29507E+02   1.14172E+01\n",
      "   9  7002       39   6.86865E+01   3.82361E+01  -3.82197E+01   2.18536E-01   5.50368E-02   2.44151E-01   8.80295E+02   1.21312E+01\n",
      "   9  8002       40   6.09252E+01   3.85050E+01  -3.84886E+01   2.16238E-01   5.31444E-02   2.52516E-01   8.30902E+02   1.28832E+01\n",
      "   9  9002       41   5.39791E+01   3.87500E+01  -3.87337E+01   2.14160E-01   5.14734E-02   2.60304E-01   7.81388E+02   1.36904E+01\n",
      "   9     3       42   4.76841E+01   3.89762E+01  -3.89600E+01   2.12252E-01   4.99743E-02   2.67633E-01   7.31787E+02   1.45711E+01\n",
      "   9  1003       43   4.19254E+01   3.91873E+01  -3.91711E+01   2.10485E-01   4.86137E-02   2.74585E-01   6.82120E+02   1.55476E+01\n",
      "   9  2003       44   3.66192E+01   3.93855E+01  -3.93693E+01   2.08835E-01   4.73678E-02   2.81215E-01   6.32403E+02   1.66487E+01\n",
      "   9  3003       45   3.17015E+01   3.95726E+01  -3.95565E+01   2.07286E-01   4.62197E-02   2.87563E-01   5.82646E+02   1.79140E+01\n",
      "   9  4003       46   2.71221E+01   3.97498E+01  -3.97338E+01   2.05827E-01   4.51565E-02   2.93654E-01   5.32856E+02   1.94008E+01\n",
      "   9  5003       47   2.28405E+01   3.99181E+01  -3.99021E+01   2.04449E-01   4.41688E-02   2.99505E-01   4.83040E+02   2.11969E+01\n",
      "   9  6003       48   1.88232E+01   4.00779E+01  -4.00619E+01   2.03146E-01   4.32497E-02   3.05125E-01   4.33202E+02   2.34465E+01\n",
      "   9  7003       49   1.50417E+01   4.02295E+01  -4.02136E+01   2.01916E-01   4.23947E-02   3.10510E-01   3.83346E+02   2.64086E+01\n",
      "   9  8003       50   1.14710E+01   4.03729E+01  -4.03569E+01   2.00758E-01   4.16013E-02   3.15649E-01   3.33474E+02   3.06111E+01\n",
      "   9  9003       51   8.08849E+00   4.05074E+01  -4.04915E+01   1.99675E-01   4.08695E-02   3.20514E-01   2.83589E+02   3.73686E+01\n",
      "   9     4       52   4.87271E+00   4.06321E+01  -4.06162E+01   1.98677E-01   4.02025E-02   3.25056E-01   2.33692E+02   5.14673E+01\n",
      "   9  1004       53   1.80128E+00   4.07446E+01  -4.07287E+01   1.97779E-01   3.96096E-02   3.29184E-01   1.83787E+02   1.45101E+02\n",
      "   9  1155  BT   54   1.36602E+00   4.07594E+01  -4.07436E+01   1.97660E-01   3.95318E-02   3.29731E-01   1.76543E+02   1.53026E+06\n",
      "\n",
      " Total Time    0.685E+02\n",
      "drosophila ... done\n",
      "Starting drosophila ...\n",
      "\n",
      "  BR    PT  TY  LAB       I          L2-NORM          V            mKs           mKf           hKf           gKs          PERIOD    \n",
      "   9  1000       13   3.18555E+01   2.49363E+01  -2.49046E+01   3.53097E-01   2.66660E-01   3.39202E-02   8.62698E+00   7.94488E+00\n",
      "   9  1215  UZ   14   2.54919E+01   2.48539E+01  -2.48221E+01   3.54044E-01   2.68886E-01   3.34724E-02  -2.56762E-07   8.09943E+00\n",
      "\n",
      " Total Time    0.211E+01\n",
      "drosophila ... done\n",
      "Merge done\n",
      "Relabeling done\n"
     ]
    }
   ],
   "source": [
    "hopf_gKs = continue_in_2_params(equilibrium('HB1'), 'gKs', UZSTOP={'I': [-20, 300], 'gKs': [0, 1300]})"
   ]
  },
  {
   "cell_type": "code",
   "execution_count": 18,
   "metadata": {
    "collapsed": false
   },
   "outputs": [
    {
     "name": "stdout",
     "output_type": "stream",
     "text": [
      "Created plot\n"
     ]
    }
   ],
   "source": [
    "plot_2_params_diagram(saddle_node_gKs + hopf_gKs, 'gKs', ylabel='gKs / nS', miny=0, saveas='plots/2par_gKs.png')  #, minx=-20, maxx=120, miny=0, maxy=500)"
   ]
  },
  {
   "cell_type": "markdown",
   "metadata": {},
   "source": [
    "2 parameter continuation for gKf"
   ]
  },
  {
   "cell_type": "code",
   "execution_count": 19,
   "metadata": {
    "collapsed": false
   },
   "outputs": [
    {
     "name": "stdout",
     "output_type": "stream",
     "text": [
      "Starting drosophila ...\n",
      "\n",
      "  BR    PT  TY  LAB       I          L2-NORM          V            mKs           mKf           hKf           gKf          PERIOD    \n",
      "   2  1000       13  -1.90170E+00   4.77662E+01  -4.77434E+01   1.47725E-01   1.54718E-02   6.12356E-01   7.39800E+01   3.69210E+04\n",
      "   2  2000       14  -1.90165E+00   4.77661E+01  -4.77432E+01   1.47726E-01   1.54721E-02   6.12351E-01   1.23980E+02   3.69210E+04\n",
      "   2  3000       15  -1.90159E+00   4.77659E+01  -4.77431E+01   1.47727E-01   1.54723E-02   6.12345E-01   1.73980E+02   3.69210E+04\n",
      "   2  4000       16  -1.90153E+00   4.77658E+01  -4.77430E+01   1.47728E-01   1.54726E-02   6.12340E-01   2.23980E+02   3.69210E+04\n",
      "   2  5000       17  -1.90147E+00   4.77657E+01  -4.77428E+01   1.47729E-01   1.54729E-02   6.12335E-01   2.73980E+02   3.69210E+04\n",
      "   2  6000       18  -1.90141E+00   4.77655E+01  -4.77427E+01   1.47730E-01   1.54732E-02   6.12329E-01   3.23980E+02   3.69210E+04\n",
      "   2  7000       19  -1.90136E+00   4.77654E+01  -4.77425E+01   1.47730E-01   1.54735E-02   6.12324E-01   3.73980E+02   3.69210E+04\n",
      "   2  8000       20  -1.90130E+00   4.77652E+01  -4.77424E+01   1.47731E-01   1.54738E-02   6.12319E-01   4.23980E+02   3.69210E+04\n",
      "   2  9000       21  -1.90124E+00   4.77651E+01  -4.77423E+01   1.47732E-01   1.54741E-02   6.12313E-01   4.73980E+02   3.69210E+04\n",
      "   2  9521  UZ   22  -1.90121E+00   4.77650E+01  -4.77422E+01   1.47733E-01   1.54742E-02   6.12310E-01   5.00000E+02   3.69210E+04\n",
      "\n",
      " Total Time    0.142E+02\n",
      "drosophila ... done\n",
      "Starting drosophila ...\n",
      "\n",
      "  BR    PT  TY  LAB       I          L2-NORM          V            mKs           mKf           hKf           gKf          PERIOD    \n",
      "   2   485  UZ   13  -1.90179E+00   4.77664E+01  -4.77436E+01   1.47724E-01   1.54714E-02   6.12364E-01   3.00023E-09   3.69210E+04\n",
      "\n",
      " Total Time    0.750E+00\n",
      "drosophila ... done\n",
      "Merge done\n",
      "Relabeling done\n",
      "Starting drosophila ...\n",
      "\n",
      "  BR    PT  TY  LAB       I          L2-NORM          V            mKs           mKf           hKf           gKf          PERIOD    \n",
      "   4  1000       13  -1.48795E+01   3.45681E+01  -3.45498E+01   2.51638E-01   8.79960E-02   1.49098E-01   7.39800E+01   1.54590E+04\n",
      "   4  2000       14  -1.48602E+01   3.45752E+01  -3.45570E+01   2.51570E-01   8.79171E-02   1.49249E-01   1.23980E+02   1.54590E+04\n",
      "   4  3000       15  -1.48410E+01   3.45823E+01  -3.45641E+01   2.51503E-01   8.78385E-02   1.49400E-01   1.73980E+02   1.54590E+04\n",
      "   4  4000       16  -1.48218E+01   3.45894E+01  -3.45712E+01   2.51436E-01   8.77602E-02   1.49551E-01   2.23980E+02   1.54590E+04\n",
      "   4  5000       17  -1.48026E+01   3.45965E+01  -3.45783E+01   2.51369E-01   8.76821E-02   1.49701E-01   2.73980E+02   1.54590E+04\n",
      "   4  6000       18  -1.47836E+01   3.46036E+01  -3.45854E+01   2.51302E-01   8.76044E-02   1.49851E-01   3.23980E+02   1.54590E+04\n",
      "   4  7000       19  -1.47645E+01   3.46106E+01  -3.45924E+01   2.51235E-01   8.75269E-02   1.50001E-01   3.73980E+02   1.54590E+04\n",
      "   4  8000       20  -1.47456E+01   3.46177E+01  -3.45995E+01   2.51169E-01   8.74497E-02   1.50150E-01   4.23980E+02   1.54590E+04\n",
      "   4  9000       21  -1.47266E+01   3.46247E+01  -3.46065E+01   2.51103E-01   8.73728E-02   1.50299E-01   4.73980E+02   1.54590E+04\n",
      "   4  9521  UZ   22  -1.47168E+01   3.46283E+01  -3.46101E+01   2.51068E-01   8.73329E-02   1.50377E-01   5.00000E+02   1.54590E+04\n",
      "\n",
      " Total Time    0.144E+02\n",
      "drosophila ... done\n",
      "Starting drosophila ...\n",
      "\n",
      "  BR    PT  TY  LAB       I          L2-NORM          V            mKs           mKf           hKf           gKf          PERIOD    \n",
      "   4   485  UZ   13  -1.49081E+01   3.45574E+01  -3.45392E+01   2.51738E-01   8.81133E-02   1.48873E-01   2.99957E-09   1.54590E+04\n",
      "\n",
      " Total Time    0.781E+00\n",
      "drosophila ... done\n",
      "Merge done\n",
      "Relabeling done\n"
     ]
    }
   ],
   "source": [
    "saddle_node_gKf = continue_in_2_params(equilibrium('LP1'), 'gKf', [0, 500])\n",
    "saddle_node_gKf += continue_in_2_params(equilibrium('LP2'), 'gKf', [0, 500])"
   ]
  },
  {
   "cell_type": "code",
   "execution_count": 20,
   "metadata": {
    "collapsed": false
   },
   "outputs": [
    {
     "name": "stdout",
     "output_type": "stream",
     "text": [
      "Starting drosophila ...\n",
      "\n",
      "  BR    PT  TY  LAB       I          L2-NORM          V            mKs           mKf           hKf           gKf          PERIOD    \n",
      "   9  1000       13   5.99932E+01   2.53564E+01  -2.53257E+01   3.48281E-01   2.55488E-01   3.62967E-02   7.39791E+01   7.38686E+00\n",
      "   9  2000       14   6.02905E+01   2.53622E+01  -2.53314E+01   3.48215E-01   2.55337E-01   3.63304E-02   1.23978E+02   7.37278E+00\n",
      "   9  3000       15   6.05865E+01   2.53679E+01  -2.53372E+01   3.48149E-01   2.55185E-01   3.63642E-02   1.73977E+02   7.35886E+00\n",
      "   9  4000       16   6.08811E+01   2.53737E+01  -2.53430E+01   3.48083E-01   2.55034E-01   3.63981E-02   2.23977E+02   7.34508E+00\n",
      "   9  5000       17   6.11744E+01   2.53795E+01  -2.53488E+01   3.48017E-01   2.54882E-01   3.64321E-02   2.73976E+02   7.33144E+00\n",
      "   9  6000       18   6.14663E+01   2.53853E+01  -2.53547E+01   3.47951E-01   2.54730E-01   3.64661E-02   3.23975E+02   7.31794E+00\n",
      "   9  7000       19   6.17570E+01   2.53911E+01  -2.53605E+01   3.47884E-01   2.54578E-01   3.65003E-02   3.73974E+02   7.30458E+00\n",
      "   9  8000       20   6.20463E+01   2.53969E+01  -2.53663E+01   3.47818E-01   2.54426E-01   3.65345E-02   4.23973E+02   7.29136E+00\n",
      "   9  9000       21   6.23343E+01   2.54028E+01  -2.53722E+01   3.47751E-01   2.54273E-01   3.65688E-02   4.73972E+02   7.27827E+00\n",
      "   9  9521  UZ   22   6.24837E+01   2.54058E+01  -2.53752E+01   3.47717E-01   2.54194E-01   3.65866E-02   5.00000E+02   7.27151E+00\n",
      "\n",
      " Total Time    0.155E+02\n",
      "drosophila ... done\n",
      "Starting drosophila ...\n",
      "\n",
      "  BR    PT  TY  LAB       I          L2-NORM          V            mKs           mKf           hKf           gKf          PERIOD    \n",
      "   9   485  UZ   13   5.95508E+01   2.53479E+01  -2.53171E+01   3.48379E-01   2.55711E-01   3.62470E-02   2.95440E-09   7.40795E+00\n",
      "\n",
      " Total Time    0.859E+00\n",
      "drosophila ... done\n",
      "Merge done\n",
      "Relabeling done\n"
     ]
    }
   ],
   "source": [
    "hopf_gKf = continue_in_2_params(equilibrium('HB1'), 'gKf', UZSTOP={'I': [-20, 170], 'gKf': [0, 500]})"
   ]
  },
  {
   "cell_type": "code",
   "execution_count": 21,
   "metadata": {
    "collapsed": false
   },
   "outputs": [
    {
     "name": "stdout",
     "output_type": "stream",
     "text": [
      "Created plot\n"
     ]
    }
   ],
   "source": [
    "plot_2_params_diagram(saddle_node_gKf + hopf_gKf, 'gKf', ylabel='gKf / nS', color_list='black black red', saveas='plots/2par_gKf.png')"
   ]
  },
  {
   "cell_type": "markdown",
   "metadata": {},
   "source": [
    "2 parameter continuation for gNa"
   ]
  },
  {
   "cell_type": "code",
   "execution_count": 22,
   "metadata": {
    "collapsed": false
   },
   "outputs": [
    {
     "name": "stdout",
     "output_type": "stream",
     "text": [
      "Starting drosophila ...\n",
      "\n",
      "  BR    PT  TY  LAB       I          L2-NORM          V            mKs           mKf           hKf           gNa          PERIOD    \n",
      "   2   458  CP   13   2.66731E+00   3.89877E+01  -3.89714E+01   2.12156E-01   4.98996E-02   2.68007E-01   8.02285E+01   3.69210E+04\n",
      "   2   460  BT   14   2.66628E+00   3.89351E+01  -3.89188E+01   2.12598E-01   5.02440E-02   2.66290E-01   8.02303E+01   3.69210E+04\n",
      "   2  1000       15  -1.46904E+01   3.45787E+01  -3.45605E+01   2.51537E-01   8.78787E-02   1.49323E-01   9.97932E+01   3.69210E+04\n",
      "   2  1149  UZ   16  -2.00000E+01   3.41719E+01  -3.41534E+01   2.55406E-01   9.24714E-02   1.40908E-01   1.04974E+02   3.69210E+04\n",
      "\n",
      " Total Time    0.245E+01\n",
      "drosophila ... done\n",
      "Starting drosophila ...\n",
      "\n",
      "  BR    PT  TY  LAB       I          L2-NORM          V            mKs           mKf           hKf           gNa          PERIOD    \n",
      "   2  1000       13  -5.33816E+00   4.99841E+01  -4.99606E+01   1.34247E-01   1.14513E-02   6.95671E-01   1.49682E+02   3.69210E+04\n",
      "   2  2000       14  -7.74380E+00   5.08756E+01  -5.08521E+01   1.29128E-01   1.01433E-02   7.26183E-01   1.99616E+02   3.69210E+04\n",
      "   2  3000       15  -9.71406E+00   5.14758E+01  -5.14523E+01   1.25776E-01   9.34699E-03   7.45618E-01   2.49573E+02   3.69210E+04\n",
      "   2  4000       16  -1.14162E+01   5.19380E+01  -5.19144E+01   1.23245E-01   8.77631E-03   7.59950E-01   2.99542E+02   3.69210E+04\n",
      "   2  5000       17  -1.29293E+01   5.23179E+01  -5.22943E+01   1.21198E-01   8.33326E-03   7.71309E-01   3.49518E+02   3.69210E+04\n",
      "   2  6000       18  -1.42993E+01   5.26424E+01  -5.26188E+01   1.19473E-01   7.97236E-03   7.80709E-01   3.99498E+02   3.69210E+04\n",
      "   2  7000       19  -1.55558E+01   5.29269E+01  -5.29033E+01   1.17978E-01   7.66876E-03   7.88718E-01   4.49481E+02   3.69210E+04\n",
      "   2  8000       20  -1.67191E+01   5.31809E+01  -5.31573E+01   1.16657E-01   7.40739E-03   7.95687E-01   4.99467E+02   3.69210E+04\n",
      "   2  9000       21  -1.78042E+01   5.34109E+01  -5.33873E+01   1.15472E-01   7.17840E-03   8.01847E-01   5.49455E+02   3.69210E+04\n",
      "   2     1       22  -1.88226E+01   5.36213E+01  -5.35977E+01   1.14397E-01   6.97503E-03   8.07361E-01   5.99444E+02   3.69210E+04\n",
      "   2  1001       23  -1.97830E+01   5.38155E+01  -5.37919E+01   1.13412E-01   6.79241E-03   8.12345E-01   6.49434E+02   3.69210E+04\n",
      "   2  1235  UZ   24  -2.00000E+01   5.38589E+01  -5.38353E+01   1.13194E-01   6.75230E-03   8.13444E-01   6.61122E+02   3.69210E+04\n",
      "\n",
      " Total Time    0.174E+02\n",
      "drosophila ... done\n",
      "Merge done\n",
      "Relabeling done\n"
     ]
    }
   ],
   "source": [
    "saddle_node_gNa = continue_in_2_params(equilibrium('LP1'), 'gNa', [0, 1000])"
   ]
  },
  {
   "cell_type": "code",
   "execution_count": 23,
   "metadata": {
    "collapsed": false
   },
   "outputs": [
    {
     "name": "stdout",
     "output_type": "stream",
     "text": [
      "Starting drosophila ...\n",
      "\n",
      "  BR    PT  TY  LAB       I          L2-NORM          V            mKs           mKf           hKf           gNa          PERIOD    \n",
      "   9  1000       13   4.66292E+01   3.11026E+01  -3.10813E+01   2.85838E-01   1.34557E-01   8.94975E-02   5.74608E+01   1.23553E+01\n",
      "   9  1168  GH   14   3.85218E+01   3.25768E+01  -3.25570E+01   2.70950E-01   1.12621E-01   1.11667E-01   5.62634E+01   1.42989E+01\n",
      "   9  2000       15   4.77340E+00   3.85150E+01  -3.84986E+01   2.16153E-01   5.30751E-02   2.52831E-01   7.69274E+01   6.65111E+01\n",
      "   9  2074  GH   16   2.81364E+00   3.89054E+01  -3.88891E+01   2.12848E-01   5.04393E-02   2.65323E-01   7.99854E+01   2.52999E+02\n",
      "   9  2090  BT   17   2.66628E+00   3.89351E+01  -3.89188E+01   2.12598E-01   5.02440E-02   2.66290E-01   8.02303E+01   7.39987E+03\n",
      "\n",
      " Total Time    0.461E+01\n",
      "drosophila ... done\n",
      "Starting drosophila ...\n",
      "\n",
      "  BR    PT  TY  LAB       I          L2-NORM          V            mKs           mKf           hKf           gNa          PERIOD    \n",
      "   9  1000       13   4.03124E+01   2.36053E+01  -2.35702E+01   3.68552E-01   3.04049E-01   2.73414E-02   1.45800E+02   6.09053E+00\n",
      "   9  2000       14   1.47311E+01   2.27199E+01  -2.26822E+01   3.78991E-01   3.30495E-01   2.36692E-02   1.88736E+02   5.39746E+00\n",
      "   9  3000       15  -1.31631E+01   2.21572E+01  -2.21179E+01   3.85685E-01   3.47892E-01   2.15902E-02   2.30223E+02   4.94075E+00\n",
      "   9  3238  UZ   16  -2.00000E+01   2.20509E+01  -2.20112E+01   3.86955E-01   3.51229E-01   2.12178E-02   2.39960E+02   4.85269E+00\n",
      "\n",
      " Total Time    0.698E+01\n",
      "drosophila ... done\n",
      "Merge done\n",
      "Relabeling done\n"
     ]
    }
   ],
   "source": [
    "hopf_gNa = continue_in_2_params(equilibrium('HB1'), 'gNa', [0, 1000])"
   ]
  },
  {
   "cell_type": "code",
   "execution_count": 24,
   "metadata": {
    "collapsed": false
   },
   "outputs": [
    {
     "name": "stdout",
     "output_type": "stream",
     "text": [
      "Created plot\n"
     ]
    }
   ],
   "source": [
    "plot_2_params_diagram(saddle_node_gNa + hopf_gNa, 'gNa', ylabel='gNa / nS', saveas='plots/2par_gNa.png')"
   ]
  },
  {
   "cell_type": "markdown",
   "metadata": {},
   "source": [
    "2 parameter continuation for gNaP"
   ]
  },
  {
   "cell_type": "code",
   "execution_count": 25,
   "metadata": {
    "collapsed": false
   },
   "outputs": [
    {
     "name": "stdout",
     "output_type": "stream",
     "text": [
      "Starting drosophila ...\n",
      "\n",
      "  BR    PT  TY  LAB       I          L2-NORM          V            mKs           mKf           hKf           gNaP         PERIOD    \n",
      "   2  1000       13   4.71435E+01   4.16302E+01  -4.16144E+01   1.90815E-01   3.52264E-02   3.62561E-01   1.10684E-01   3.69210E+04\n",
      "   2  2000       14   9.71261E+01   4.05146E+01  -4.04987E+01   1.99618E-01   4.08309E-02   3.20774E-01  -5.40989E-01   3.69210E+04\n",
      "   2  2058  UZ   15   1.00000E+02   4.04703E+01  -4.04544E+01   1.99974E-01   4.10701E-02   3.19168E-01  -5.78142E-01   3.69210E+04\n",
      "\n",
      " Total Time    0.358E+01\n",
      "drosophila ... done\n",
      "Starting drosophila ...\n",
      "\n",
      "  BR    PT  TY  LAB       I          L2-NORM          V            mKs           mKf           hKf           gNaP         PERIOD    \n",
      "   2   993  UZ   13  -5.00000E+01   5.82786E+01  -5.82551E+01   9.27493E-02   3.68771E-03   9.01071E-01   3.76605E+00   3.69210E+04\n",
      "\n",
      " Total Time    0.205E+01\n",
      "drosophila ... done\n",
      "Merge done\n",
      "Relabeling done\n",
      "Starting drosophila ...\n",
      "\n",
      "  BR    PT  TY  LAB       I          L2-NORM          V            mKs           mKf           hKf           gNaP         PERIOD    \n",
      "   4  1000       13   3.49759E+01   3.42140E+01  -3.41955E+01   2.55004E-01   9.19863E-02   1.41761E-01   1.59059E-01   1.54590E+04\n",
      "   4  2000       14   8.49705E+01   3.38555E+01  -3.38368E+01   2.58442E-01   9.61915E-02   1.34641E-01  -4.85138E-01   1.54590E+04\n",
      "   4  2301  UZ   15   1.00000E+02   3.37467E+01  -3.37279E+01   2.59492E-01   9.75023E-02   1.32539E-01  -6.79160E-01   1.54590E+04\n",
      "\n",
      " Total Time    0.350E+01\n",
      "drosophila ... done\n",
      "Starting drosophila ...\n",
      "\n",
      "  BR    PT  TY  LAB       I          L2-NORM          V            mKs           mKf           hKf           gNaP         PERIOD    \n",
      "   4   705  UZ   13  -5.00000E+01   3.47946E+01  -3.47765E+01   2.49500E-01   8.55261E-02   1.53954E-01   1.25016E+00   1.54590E+04\n",
      "\n",
      " Total Time    0.109E+01\n",
      "drosophila ... done\n",
      "Merge done\n",
      "Relabeling done\n"
     ]
    }
   ],
   "source": [
    "saddle_node_gNaP = continue_in_2_params(equilibrium('LP1'), 'gNaP', UZSTOP={'I': [-50, 100], 'gNaP': [-10, 10]})\n",
    "saddle_node_gNaP += continue_in_2_params(equilibrium('LP2'), 'gNaP', UZSTOP={'I': [-50, 100], 'gNaP': [-10, 10]}) "
   ]
  },
  {
   "cell_type": "code",
   "execution_count": 26,
   "metadata": {
    "collapsed": false
   },
   "outputs": [
    {
     "name": "stdout",
     "output_type": "stream",
     "text": [
      "Starting drosophila ...\n",
      "\n",
      "  BR    PT  TY  LAB       I          L2-NORM          V            mKs           mKf           hKf           gNaP         PERIOD    \n",
      "   9   809  UZ   13   1.00000E+02   2.50527E+01  -2.50213E+01   3.51759E-01   2.63533E-01   3.45633E-02   3.01072E-01   7.23482E+00\n",
      "\n",
      " Total Time    0.139E+01\n",
      "drosophila ... done\n",
      "Starting drosophila ...\n",
      "\n",
      "  BR    PT  TY  LAB       I          L2-NORM          V            mKs           mKf           hKf           gNaP         PERIOD    \n",
      "   9  1000       13   9.82053E+00   2.57229E+01  -2.56930E+01   3.44105E-01   2.45996E-01   3.85000E-02   1.41453E+00   7.61300E+00\n",
      "   9  2000       14  -4.01742E+01   2.61013E+01  -2.60722E+01   3.39820E-01   2.36451E-01   4.09089E-02   2.02722E+00   7.83385E+00\n",
      "   9  2197  UZ   15  -5.00000E+01   2.61764E+01  -2.61474E+01   3.38972E-01   2.34587E-01   4.14039E-02   2.14724E+00   7.87841E+00\n",
      "\n",
      " Total Time    0.369E+01\n",
      "drosophila ... done\n",
      "Merge done\n",
      "Relabeling done\n"
     ]
    }
   ],
   "source": [
    "hopf_gNaP = continue_in_2_params(equilibrium('HB1'), 'gNaP', UZSTOP={'I': [-50, 100], 'gNaP': [-10, 10]})"
   ]
  },
  {
   "cell_type": "code",
   "execution_count": 27,
   "metadata": {
    "collapsed": false
   },
   "outputs": [
    {
     "name": "stdout",
     "output_type": "stream",
     "text": [
      "Created plot\n"
     ]
    }
   ],
   "source": [
    "plot_2_params_diagram(saddle_node_gNaP + hopf_gNaP, 'gNaP', ylabel='gNaP / nS', color_list='black black red', saveas='plots/2par_gNaP.png')"
   ]
  },
  {
   "cell_type": "code",
   "execution_count": null,
   "metadata": {
    "collapsed": true
   },
   "outputs": [],
   "source": []
  }
 ],
 "metadata": {
  "kernelspec": {
   "display_name": "Python 2",
   "language": "python",
   "name": "python2"
  },
  "language_info": {
   "codemirror_mode": {
    "name": "ipython",
    "version": 2
   },
   "file_extension": ".py",
   "mimetype": "text/x-python",
   "name": "python",
   "nbconvert_exporter": "python",
   "pygments_lexer": "ipython2",
   "version": "2.7.8"
  }
 },
 "nbformat": 4,
 "nbformat_minor": 0
}
