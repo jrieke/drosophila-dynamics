{
 "cells": [
  {
   "cell_type": "code",
   "execution_count": null,
   "metadata": {
    "collapsed": false
   },
   "outputs": [],
   "source": [
    "%matplotlib tk\n",
    "from Tkinter import TclError\n",
    "import auto"
   ]
  },
  {
   "cell_type": "code",
   "execution_count": null,
   "metadata": {
    "collapsed": false
   },
   "outputs": [],
   "source": [
    "default_params = {'I': -12, 'gleak': 6.8, 'gKs': 50, 'gKf': 24.1, 'gNa': 100, 'gNaP': 0.8}\n",
    "\n",
    "# Return a copy of the dict params, coplemented by default values for all parameters that are neither in params nor in exclude.\n",
    "def add_default_params(params, exclude=None):\n",
    "    if params is None: \n",
    "        params = {}\n",
    "    else:\n",
    "        params = params.copy()\n",
    "        \n",
    "    if exclude is None: exclude = []    \n",
    "    for key, val in default_params.items():\n",
    "        if key not in exclude:\n",
    "            params.setdefault(key, val)\n",
    "    return params\n",
    "\n",
    "add_default_params({'gleak': 10}, exclude=['I'])"
   ]
  },
  {
   "cell_type": "code",
   "execution_count": null,
   "metadata": {
    "collapsed": false,
    "scrolled": false
   },
   "outputs": [],
   "source": [
    "# For all these functions, the AUTO constants can be overwritten at any time by using kwargs.\n",
    "\n",
    "# Integrate the system using the Euler algorithm and return the last point.\n",
    "def integrate_to_equilibrium(params=None, **kwargs):\n",
    "    kwargs.setdefault('PAR', add_default_params(params))\n",
    "    integration = auto.run(e='drosophila', c='integration', **kwargs)\n",
    "    return integration()[-1]  # last point\n",
    "\n",
    "# Continue equilibrium forwards and backwards in I from init point.\n",
    "def continue_equilibrium(init, params=None, **kwargs):\n",
    "    kwargs.setdefault('PAR', add_default_params(params, exclude=['I']))    \n",
    "    equilibrium = auto.run(init, c='equilibrium', **kwargs)\n",
    "    equilibrium += auto.run(init, c='equilibrium', DS='-', **kwargs)\n",
    "    equilibrium = auto.relabel(auto.merge(equilibrium))  # get single curve with unique labels\n",
    "    return equilibrium\n",
    "\n",
    "# Continue limit cycle in I from init point (for example a Hopf bifurcation).\n",
    "def continue_limit_cycle(init, params=None, **kwargs):\n",
    "    kwargs.setdefault('PAR', add_default_params(params, exclude=['I']))\n",
    "    return auto.run(init, c='tube', **kwargs)\n",
    "\n",
    "# Continue bifurcation point in init for changing continuation_param. \n",
    "def continue_in_2_params(init, continuation_param, continuation_param_uzstop=None, params=None, **kwargs):\n",
    "    kwargs.setdefault('PAR', add_default_params(params, exclude=['I', continuation_param]))\n",
    "    kwargs.setdefault('ICP', ['I', continuation_param, 'PERIOD'])\n",
    "    if continuation_param_uzstop is not None:\n",
    "        kwargs.setdefault('UZSTOP', {'I': [-20, 100], continuation_param: continuation_param_uzstop})\n",
    "    \n",
    "    bifurcation_point = auto.run(init, c='2par', **kwargs)\n",
    "    bifurcation_point += auto.run(init, c='2par', DS='-', **kwargs)\n",
    "    bifurcation_point = auto.relabel(auto.merge(bifurcation_point))\n",
    "    return bifurcation_point\n",
    "\n",
    "\n",
    "# TODO: Make the plot functions simpler.\n",
    "\n",
    "def plot_bifurcation_diagram(points, saveas=False, **kwargs):\n",
    "    # AUTO raises a non-critical TclError (bad window path name) on Windows when showing the plot. Prevent its output by wrapping in a try block.\n",
    "    try:\n",
    "        auto.plot(points, bifurcation_y=['V', 'MAX V', 'MIN V'], stability=True, use_labels=False, \n",
    "                  grid=False, height=350, user_point_symbol='', xlabel='I / pA', ylabel='V / mV', color_list='blue blue green', **kwargs)\n",
    "    except TclError:\n",
    "        pass\n",
    "    \n",
    "    if saveas:\n",
    "        p = auto.plot(points, bifurcation_y=['V', 'MAX V', 'MIN V'], stability=True, use_labels=False, \n",
    "                      grid=False, height=350, user_point_symbol='', xlabel='I / pA', ylabel='V / mV', color_list='blue blue green', \n",
    "                      hide=True, **kwargs)\n",
    "        p.savefig(saveas, dpi=300)    \n",
    "        \n",
    "    \n",
    "def plot_2_params_diagram(points, second_param, saveas=False, **kwargs):\n",
    "    # AUTO raises a non-critical TclError (bad window path name) on Windows when showing the plot. Prevent its output by wrapping in a try block.\n",
    "    try:\n",
    "        auto.plot(points, bifurcation_x='I', bifurcation_y=second_param, use_labels=False, \n",
    "                  grid=False, height=350, xlabel='I / pA', **kwargs)\n",
    "    except TclError:\n",
    "        pass\n",
    "    \n",
    "    if saveas:\n",
    "        p = auto.plot(points, bifurcation_x='I', bifurcation_y=second_param, use_labels=False, \n",
    "                      grid=False, height=350, xlabel='I / pA', hide=True, **kwargs)\n",
    "        p.savefig(saveas, dpi=300)\n",
    "    "
   ]
  },
  {
   "cell_type": "markdown",
   "metadata": {},
   "source": [
    "Bifurcation diagram for default parameter values"
   ]
  },
  {
   "cell_type": "code",
   "execution_count": null,
   "metadata": {
    "collapsed": false
   },
   "outputs": [],
   "source": [
    "init = integrate_to_equilibrium()"
   ]
  },
  {
   "cell_type": "code",
   "execution_count": null,
   "metadata": {
    "collapsed": false,
    "scrolled": true
   },
   "outputs": [],
   "source": [
    "equilibrium = continue_equilibrium(init)"
   ]
  },
  {
   "cell_type": "code",
   "execution_count": null,
   "metadata": {
    "collapsed": false
   },
   "outputs": [],
   "source": [
    "#dir(equilibrium()[0])"
   ]
  },
  {
   "cell_type": "code",
   "execution_count": null,
   "metadata": {
    "collapsed": false
   },
   "outputs": [],
   "source": [
    "#equilibrium('LP2').data['PT']"
   ]
  },
  {
   "cell_type": "code",
   "execution_count": null,
   "metadata": {
    "collapsed": false
   },
   "outputs": [],
   "source": [
    "#dir(equilibrium)"
   ]
  },
  {
   "cell_type": "code",
   "execution_count": null,
   "metadata": {
    "collapsed": true
   },
   "outputs": [],
   "source": [
    "# Test for reading eigenvalues from fort.9\n",
    "#equilibrium = continue_equilibrium(init)"
   ]
  },
  {
   "cell_type": "code",
   "execution_count": null,
   "metadata": {
    "collapsed": false
   },
   "outputs": [],
   "source": [
    "#print equilibrium.summary()\n",
    "plot_bifurcation_diagram(equilibrium)"
   ]
  },
  {
   "cell_type": "code",
   "execution_count": null,
   "metadata": {
    "collapsed": false
   },
   "outputs": [],
   "source": [
    "tube = continue_limit_cycle(equilibrium('HB1'))"
   ]
  },
  {
   "cell_type": "code",
   "execution_count": null,
   "metadata": {
    "collapsed": false
   },
   "outputs": [],
   "source": [
    "# test case for reading multipliers\n",
    "tube = continue_limit_cycle(equilibrium('HB1'))"
   ]
  },
  {
   "cell_type": "code",
   "execution_count": null,
   "metadata": {
    "collapsed": false
   },
   "outputs": [],
   "source": [
    "plot_bifurcation_diagram(equilibrium + tube)#, saveas='plots/bifurcation.png')"
   ]
  },
  {
   "cell_type": "markdown",
   "metadata": {},
   "source": [
    "2 parameter continuation for gleak"
   ]
  },
  {
   "cell_type": "code",
   "execution_count": null,
   "metadata": {
    "collapsed": false
   },
   "outputs": [],
   "source": [
    "# Continue saddle-node bifurcation (LP1) for changing gleak (2-parameter continuation)\n",
    "saddle_node_gleak = continue_in_2_params(equilibrium('LP1'), 'gleak', [0, 20])"
   ]
  },
  {
   "cell_type": "code",
   "execution_count": null,
   "metadata": {
    "collapsed": false,
    "scrolled": true
   },
   "outputs": [],
   "source": [
    "# Continue Hopf bifurcation (HB1) for changing gleak (2-parameter continuation)\n",
    "hopf_gleak = continue_in_2_params(equilibrium('HB1'), 'gleak', UZSTOP={'I': [-20, 170], 'gleak': [0, 20]})"
   ]
  },
  {
   "cell_type": "code",
   "execution_count": null,
   "metadata": {
    "collapsed": false
   },
   "outputs": [],
   "source": [
    "plot_2_params_diagram(saddle_node_gleak + hopf_gleak, 'gleak', ylabel='gleak / nS', miny=0, saveas='plots/2par_gleak.png')"
   ]
  },
  {
   "cell_type": "markdown",
   "metadata": {},
   "source": [
    "Bifurcation diagram for high gleak"
   ]
  },
  {
   "cell_type": "code",
   "execution_count": null,
   "metadata": {
    "collapsed": false,
    "scrolled": true
   },
   "outputs": [],
   "source": [
    "# tryout\n",
    "new_gleak = 2\n",
    "ini = integrate_to_equilibrium(params={'gleak': new_gleak, 'I': -100})\n",
    "eq = continue_equilibrium(ini, params={'gleak': new_gleak}, UZSTOP={'I': [-150, 100]})\n",
    "plot_bifurcation_diagram(eq)"
   ]
  },
  {
   "cell_type": "code",
   "execution_count": null,
   "metadata": {
    "collapsed": false
   },
   "outputs": [],
   "source": [
    "# As can be seen in the plot above, the system is governed by Hopf bifurcations for gleak >~ 8.6\n",
    "# Make a bifurcation diagram for a high gleak value to see these bifurcations\n",
    "# NOTE: I is shifted 50 pA in the plots\n",
    "new_gleak = 11#8.84\n",
    "params = {'gleak': new_gleak}\n",
    "init_gleak = integrate_to_equilibrium(params={'gleak': new_gleak, 'I': 40})"
   ]
  },
  {
   "cell_type": "code",
   "execution_count": null,
   "metadata": {
    "collapsed": false,
    "scrolled": true
   },
   "outputs": [],
   "source": [
    "equilibrium_gleak = continue_equilibrium(init_gleak, params=params, UZSTOP={'I': [30, 150]})"
   ]
  },
  {
   "cell_type": "code",
   "execution_count": null,
   "metadata": {
    "collapsed": false,
    "scrolled": true
   },
   "outputs": [],
   "source": [
    "tube_gleak = continue_limit_cycle(equilibrium_gleak('HB1'), params=params, \n",
    "                             UZSTOP={'I': [30, 150], 'PERIOD': [0, 100]}, STOP=['LP2'], ILP=1)  # ILP=1 to detect folds"
   ]
  },
  {
   "cell_type": "code",
   "execution_count": null,
   "metadata": {
    "collapsed": false
   },
   "outputs": [],
   "source": [
    "plot_bifurcation_diagram(equilibrium_gleak + tube_gleak)#, saveas='plots/bifurcation_gleak={0}.png'.format(new_gleak))"
   ]
  },
  {
   "cell_type": "markdown",
   "metadata": {},
   "source": [
    "2 parameter continuation for gKs"
   ]
  },
  {
   "cell_type": "code",
   "execution_count": null,
   "metadata": {
    "collapsed": false
   },
   "outputs": [],
   "source": [
    "saddle_node_gKs = continue_in_2_params(equilibrium('LP1'), 'gKs', [0, 300])"
   ]
  },
  {
   "cell_type": "code",
   "execution_count": null,
   "metadata": {
    "collapsed": false
   },
   "outputs": [],
   "source": [
    "hopf_gKs = continue_in_2_params(equilibrium('HB1'), 'gKs', UZSTOP={'I': [-20, 300], 'gKs': [0, 1300]})"
   ]
  },
  {
   "cell_type": "code",
   "execution_count": null,
   "metadata": {
    "collapsed": false
   },
   "outputs": [],
   "source": [
    "plot_2_params_diagram(saddle_node_gKs + hopf_gKs, 'gKs', ylabel='gKs / nS', miny=0, saveas='plots/2par_gKs.png')  #, minx=-20, maxx=120, miny=0, maxy=500)"
   ]
  },
  {
   "cell_type": "markdown",
   "metadata": {},
   "source": [
    "2 parameter continuation for gKf"
   ]
  },
  {
   "cell_type": "code",
   "execution_count": null,
   "metadata": {
    "collapsed": false
   },
   "outputs": [],
   "source": [
    "saddle_node_gKf = continue_in_2_params(equilibrium('LP1'), 'gKf', [0, 2500])\n",
    "saddle_node_gKf += continue_in_2_params(equilibrium('LP2'), 'gKf', [0, 2500])"
   ]
  },
  {
   "cell_type": "code",
   "execution_count": null,
   "metadata": {
    "collapsed": false
   },
   "outputs": [],
   "source": [
    "hopf_gKf = continue_in_2_params(equilibrium('HB1'), 'gKf', [0, 2500])"
   ]
  },
  {
   "cell_type": "code",
   "execution_count": null,
   "metadata": {
    "collapsed": false
   },
   "outputs": [],
   "source": [
    "plot_2_params_diagram(saddle_node_gKf + hopf_gKf, 'gKf', ylabel='gKf / nS', color_list='black black red', saveas='plots/2par_gKf.png')"
   ]
  },
  {
   "cell_type": "markdown",
   "metadata": {},
   "source": [
    "2 parameter continuation for gNa"
   ]
  },
  {
   "cell_type": "code",
   "execution_count": null,
   "metadata": {
    "collapsed": false
   },
   "outputs": [],
   "source": [
    "saddle_node_gNa = continue_in_2_params(equilibrium('LP1'), 'gNa', [0, 1000])"
   ]
  },
  {
   "cell_type": "code",
   "execution_count": null,
   "metadata": {
    "collapsed": false
   },
   "outputs": [],
   "source": [
    "hopf_gNa = continue_in_2_params(equilibrium('HB1'), 'gNa', [0, 1000])"
   ]
  },
  {
   "cell_type": "code",
   "execution_count": null,
   "metadata": {
    "collapsed": false
   },
   "outputs": [],
   "source": [
    "plot_2_params_diagram(saddle_node_gNa + hopf_gNa, 'gNa', ylabel='gNa / nS', saveas='plots/2par_gNa.png')"
   ]
  },
  {
   "cell_type": "markdown",
   "metadata": {},
   "source": [
    "2 parameter continuation for gNaP"
   ]
  },
  {
   "cell_type": "code",
   "execution_count": null,
   "metadata": {
    "collapsed": false
   },
   "outputs": [],
   "source": [
    "saddle_node_gNaP = continue_in_2_params(equilibrium('LP1'), 'gNaP', UZSTOP={'I': [-50, 100], 'gNaP': [-10, 10]})\n",
    "saddle_node_gNaP += continue_in_2_params(equilibrium('LP2'), 'gNaP', UZSTOP={'I': [-50, 100], 'gNaP': [-10, 10]}) "
   ]
  },
  {
   "cell_type": "code",
   "execution_count": null,
   "metadata": {
    "collapsed": false
   },
   "outputs": [],
   "source": [
    "hopf_gNaP = continue_in_2_params(equilibrium('HB1'), 'gNaP', UZSTOP={'I': [-50, 100], 'gNaP': [-10, 10]})"
   ]
  },
  {
   "cell_type": "code",
   "execution_count": null,
   "metadata": {
    "collapsed": false
   },
   "outputs": [],
   "source": [
    "plot_2_params_diagram(saddle_node_gNaP + hopf_gNaP, 'gNaP', ylabel='gNaP / nS', color_list='black black red', saveas='plots/2par_gNaP.png')"
   ]
  },
  {
   "cell_type": "code",
   "execution_count": null,
   "metadata": {
    "collapsed": false
   },
   "outputs": [],
   "source": [
    "params = {'gKs': 10}\n",
    "init_gKs = integrate_to_equilibrium(params=params)"
   ]
  },
  {
   "cell_type": "code",
   "execution_count": null,
   "metadata": {
    "collapsed": false
   },
   "outputs": [],
   "source": [
    "equilibrium_gKs = continue_equilibrium(init_gKs, params=params, UZSTOP={'I': [-50, 100]})"
   ]
  },
  {
   "cell_type": "code",
   "execution_count": null,
   "metadata": {
    "collapsed": false
   },
   "outputs": [],
   "source": [
    "plot_bifurcation_diagram(equilibrium_gKs)"
   ]
  },
  {
   "cell_type": "code",
   "execution_count": null,
   "metadata": {
    "collapsed": false
   },
   "outputs": [],
   "source": [
    "tube_gKs = continue_limit_cycle(equilibrium_gKs('HB1'), params=params, STOP=['LP2'])  # ILP=1 to detect folds"
   ]
  },
  {
   "cell_type": "code",
   "execution_count": null,
   "metadata": {
    "collapsed": true
   },
   "outputs": [],
   "source": [
    "plot_bifurcation_diagram(equilibrium_gKs + tube_gKs)"
   ]
  },
  {
   "cell_type": "code",
   "execution_count": null,
   "metadata": {
    "collapsed": true
   },
   "outputs": [],
   "source": []
  }
 ],
 "metadata": {
  "kernelspec": {
   "display_name": "Python 2",
   "language": "python",
   "name": "python2"
  },
  "language_info": {
   "codemirror_mode": {
    "name": "ipython",
    "version": 2
   },
   "file_extension": ".py",
   "mimetype": "text/x-python",
   "name": "python",
   "nbconvert_exporter": "python",
   "pygments_lexer": "ipython2",
   "version": "2.7.8"
  }
 },
 "nbformat": 4,
 "nbformat_minor": 0
}
