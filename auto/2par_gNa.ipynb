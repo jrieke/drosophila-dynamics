{
 "cells": [
  {
   "cell_type": "code",
   "execution_count": 1,
   "metadata": {
    "collapsed": true
   },
   "outputs": [],
   "source": [
    "%matplotlib tk\n",
    "from continuation_functions import *"
   ]
  },
  {
   "cell_type": "code",
   "execution_count": 2,
   "metadata": {
    "collapsed": false
   },
   "outputs": [
    {
     "name": "stdout",
     "output_type": "stream",
     "text": [
      "Starting drosophila ...\n",
      "\n",
      "  BR    PT  TY  LAB       I           MIN V         gleak          gKs           gKf           gNa           gNaP          freq     \n",
      "   1     1  EP    1  -1.20000E+01  -5.45614E+01   6.80000E+00   5.00000E+01   2.41000E+01   1.00000E+02   8.00000E-01      Infinity\n",
      "   1     1        2  -1.20000E+01  -5.45614E+01   6.80000E+00   5.00000E+01   2.41000E+01   1.00000E+02   8.00000E-01      Infinity\n",
      "   1     2        3  -1.20000E+01  -5.45614E+01   6.80000E+00   5.00000E+01   2.41000E+01   1.00000E+02   8.00000E-01      Infinity\n",
      "   1     3        4  -1.20000E+01  -5.45614E+01   6.80000E+00   5.00000E+01   2.41000E+01   1.00000E+02   8.00000E-01      Infinity\n",
      "   1     4        5  -1.20000E+01  -5.45614E+01   6.80000E+00   5.00000E+01   2.41000E+01   1.00000E+02   8.00000E-01      Infinity\n",
      "   1     5  EP    6  -1.20000E+01  -5.45614E+01   6.80000E+00   5.00000E+01   2.41000E+01   1.00000E+02   8.00000E-01      Infinity\n",
      "\n",
      " Total Time    0.174E+02\n"
     ]
    },
    {
     "name": "stderr",
     "output_type": "stream",
     "text": [
      "D:\\Python\\27_32bit\\lib\\site-packages\\numpy\\core\\fromnumeric.py:2641: VisibleDeprecationWarning: `rank` is deprecated; use the `ndim` attribute or function instead. To find the rank of a matrix see `numpy.linalg.matrix_rank`.\n",
      "  VisibleDeprecationWarning)\n"
     ]
    },
    {
     "name": "stdout",
     "output_type": "stream",
     "text": [
      "drosophila ... done\n",
      "Starting drosophila ...\n",
      "\n",
      "  BR    PT  TY  LAB       I        V                PERIOD         freq         gleak          gKs           gKf           gNa      \n",
      "   1   651  LP    7  -1.90176E+00  -4.77435E+01   3.69210E+04   2.70848E-05   6.80000E+00   5.00000E+01   2.41000E+01   1.00000E+02\n",
      "   1  1000        8  -4.94013E+00  -4.17429E+01   3.69210E+04   2.70848E-05   6.80000E+00   5.00000E+01   2.41000E+01   1.00000E+02\n",
      "   1  1626  LP    9  -1.48988E+01  -3.45427E+01   1.54590E+04   6.46873E-05   6.80000E+00   5.00000E+01   2.41000E+01   1.00000E+02\n",
      "   1  2000       10  -8.45198E+00  -3.14397E+01   3.77712E+01   2.64752E-02   6.80000E+00   5.00000E+01   2.41000E+01   1.00000E+02\n",
      "   1  3000       11   1.13559E+01  -2.87468E+01   1.20454E+01   8.30195E-02   6.80000E+00   5.00000E+01   2.41000E+01   1.00000E+02\n",
      "   1  4000       12   3.12875E+01  -2.71025E+01   9.12536E+00   1.09585E-01   6.80000E+00   5.00000E+01   2.41000E+01   1.00000E+02\n",
      "   1  5000       13   5.12453E+01  -2.58072E+01   7.78675E+00   1.28423E-01   6.80000E+00   5.00000E+01   2.41000E+01   1.00000E+02\n",
      "   1  5424  HB   14   5.96953E+01  -2.53199E+01   7.40104E+00   1.35116E-01   6.80000E+00   5.00000E+01   2.41000E+01   1.00000E+02\n",
      "   1  6000       15   7.11985E+01  -2.46979E+01   6.97375E+00   1.43395E-01   6.80000E+00   5.00000E+01   2.41000E+01   1.00000E+02\n",
      "   1  7000       16   9.11737E+01  -2.37045E+01   6.40513E+00   1.56125E-01   6.80000E+00   5.00000E+01   2.41000E+01   1.00000E+02\n",
      "   1  7442  UZ   17   1.00000E+02  -2.32930E+01   6.20104E+00   1.61263E-01   6.80000E+00   5.00000E+01   2.41000E+01   1.00000E+02\n",
      "\n",
      " Total Time    0.472E+01\n",
      "drosophila ... done\n",
      "Starting drosophila ...\n",
      "\n",
      "  BR    PT  TY  LAB       I        V                PERIOD         freq         gleak          gKs           gKf           gNa      \n",
      "   1   414  UZ    7  -2.00000E+01  -5.65503E+01   4.60659E+03   2.17080E-04   6.80000E+00   5.00000E+01   2.41000E+01   1.00000E+02\n",
      "\n",
      " Total Time    0.281E+00\n",
      "drosophila ... done\n",
      "Merge done\n",
      "Relabeling done\n"
     ]
    }
   ],
   "source": [
    "# Get default bifurcations.\n",
    "init = integrate_to_equilibrium()\n",
    "equilibrium = continue_equilibrium(init)"
   ]
  },
  {
   "cell_type": "code",
   "execution_count": 3,
   "metadata": {
    "collapsed": false
   },
   "outputs": [
    {
     "name": "stdout",
     "output_type": "stream",
     "text": [
      "Starting drosophila ...\n",
      "\n",
      "  BR    PT  TY  LAB       I          L2-NORM          V            mKs           mKf           hKf           gNa          PERIOD    \n",
      "   2   458  CP   13   2.66731E+00   3.89877E+01  -3.89714E+01   2.12156E-01   4.98996E-02   2.68007E-01   8.02285E+01   3.69210E+04\n",
      "   2   460  BT   14   2.66628E+00   3.89351E+01  -3.89188E+01   2.12598E-01   5.02440E-02   2.66290E-01   8.02303E+01   3.69210E+04\n",
      "   2  1000       15  -1.46904E+01   3.45787E+01  -3.45605E+01   2.51537E-01   8.78787E-02   1.49323E-01   9.97932E+01   3.69210E+04\n",
      "   2  1959  UZ   16  -5.00000E+01   3.27910E+01  -3.27714E+01   2.68829E-01   1.09708E-01   1.15260E-01   1.32150E+02   3.69210E+04\n",
      "\n",
      " Total Time    0.431E+01\n",
      "drosophila ... done\n",
      "Starting drosophila ...\n",
      "\n",
      "  BR    PT  TY  LAB       I          L2-NORM          V            mKs           mKf           hKf           gNa          PERIOD    \n",
      "   2  1000       13  -5.33816E+00   4.99841E+01  -4.99606E+01   1.34247E-01   1.14513E-02   6.95671E-01   1.49682E+02   3.69210E+04\n",
      "   2  2000       14  -7.74380E+00   5.08756E+01  -5.08521E+01   1.29128E-01   1.01433E-02   7.26183E-01   1.99616E+02   3.69210E+04\n",
      "   2  3000       15  -9.71406E+00   5.14758E+01  -5.14523E+01   1.25776E-01   9.34699E-03   7.45618E-01   2.49573E+02   3.69210E+04\n",
      "   2  4000       16  -1.14162E+01   5.19380E+01  -5.19144E+01   1.23245E-01   8.77631E-03   7.59950E-01   2.99542E+02   3.69210E+04\n",
      "   2  5000       17  -1.29293E+01   5.23179E+01  -5.22943E+01   1.21198E-01   8.33326E-03   7.71309E-01   3.49518E+02   3.69210E+04\n",
      "   2  6000       18  -1.42993E+01   5.26424E+01  -5.26188E+01   1.19473E-01   7.97236E-03   7.80709E-01   3.99498E+02   3.69210E+04\n",
      "   2  7000       19  -1.55558E+01   5.29269E+01  -5.29033E+01   1.17978E-01   7.66876E-03   7.88718E-01   4.49481E+02   3.69210E+04\n",
      "   2  8000       20  -1.67191E+01   5.31809E+01  -5.31573E+01   1.16657E-01   7.40739E-03   7.95687E-01   4.99467E+02   3.69210E+04\n",
      "   2  8011  UZ   21  -1.67310E+01   5.31835E+01  -5.31599E+01   1.16644E-01   7.40479E-03   7.95757E-01   5.00000E+02   3.69210E+04\n",
      "\n",
      " Total Time    0.138E+02\n",
      "drosophila ... done\n",
      "Merge done\n",
      "Relabeling done\n"
     ]
    }
   ],
   "source": [
    "saddle_node = continue_bifurcation(equilibrium('LP1'), 'gNa', UZSTOP={'I': [-50, 100], 'gNa': [0, 500]})"
   ]
  },
  {
   "cell_type": "code",
   "execution_count": 4,
   "metadata": {
    "collapsed": false
   },
   "outputs": [
    {
     "name": "stdout",
     "output_type": "stream",
     "text": [
      "Starting drosophila ...\n",
      "\n",
      "  BR    PT  TY  LAB       I          L2-NORM          V            mKs           mKf           hKf           gNa          PERIOD    \n",
      "   9  1000       13   4.66292E+01   3.11026E+01  -3.10813E+01   2.85838E-01   1.34557E-01   8.94975E-02   5.74608E+01   1.23553E+01\n",
      "   9  1168  GH   14   3.85218E+01   3.25768E+01  -3.25570E+01   2.70950E-01   1.12621E-01   1.11667E-01   5.62634E+01   1.42989E+01\n",
      "   9  2000       15   4.77340E+00   3.85150E+01  -3.84986E+01   2.16153E-01   5.30751E-02   2.52831E-01   7.69274E+01   6.65111E+01\n",
      "   9  2074  GH   16   2.81364E+00   3.89054E+01  -3.88891E+01   2.12848E-01   5.04393E-02   2.65323E-01   7.99854E+01   2.52999E+02\n",
      "   9  2090  BT   17   2.66628E+00   3.89351E+01  -3.89188E+01   2.12598E-01   5.02440E-02   2.66290E-01   8.02303E+01   7.39987E+03\n",
      "\n",
      " Total Time    0.489E+01\n",
      "drosophila ... done\n",
      "Starting drosophila ...\n",
      "\n",
      "  BR    PT  TY  LAB       I          L2-NORM          V            mKs           mKf           hKf           gNa          PERIOD    \n",
      "   9  1000       13   4.03124E+01   2.36053E+01  -2.35702E+01   3.68552E-01   3.04049E-01   2.73414E-02   1.45800E+02   6.09053E+00\n",
      "   9  2000       14   1.47311E+01   2.27199E+01  -2.26822E+01   3.78991E-01   3.30495E-01   2.36692E-02   1.88736E+02   5.39746E+00\n",
      "   9  3000       15  -1.31631E+01   2.21572E+01  -2.21179E+01   3.85685E-01   3.47892E-01   2.15902E-02   2.30223E+02   4.94075E+00\n",
      "   9  4000       16  -4.22499E+01   2.17591E+01  -2.17185E+01   3.90449E-01   3.60458E-01   2.02279E-02   2.70888E+02   4.60772E+00\n",
      "   9  4262  UZ   17  -5.00000E+01   2.16728E+01  -2.16318E+01   3.91484E-01   3.63209E-01   1.99438E-02   2.81445E+02   4.53423E+00\n",
      "\n",
      " Total Time    0.948E+01\n",
      "drosophila ... done\n",
      "Merge done\n",
      "Relabeling done\n"
     ]
    }
   ],
   "source": [
    "hopf = continue_bifurcation(equilibrium('HB1'), 'gNa', UZSTOP={'I': [-50, 100], 'gNa': [0, 500]})"
   ]
  },
  {
   "cell_type": "code",
   "execution_count": 5,
   "metadata": {
    "collapsed": false
   },
   "outputs": [
    {
     "name": "stdout",
     "output_type": "stream",
     "text": [
      "Created plot\n"
     ]
    }
   ],
   "source": [
    "plot_2_params_diagram(saddle_node + hopf, 'gNa', ylabel='$g_{Na}$ / nS', saveas='plots/2par_gNa.png')"
   ]
  },
  {
   "cell_type": "code",
   "execution_count": 24,
   "metadata": {
    "collapsed": false,
    "scrolled": true
   },
   "outputs": [
    {
     "name": "stdout",
     "output_type": "stream",
     "text": [
      "Starting drosophila ...\n",
      "\n",
      "  BR    PT  TY  LAB       I           MIN V         gleak          gKs           gKf           gNa           gNaP          freq     \n",
      "   1     1  EP    1  -1.20000E+01  -5.45614E+01   6.80000E+00   5.00000E+01   2.41000E+01   5.70000E+01   8.00000E-01      Infinity\n",
      "   1     1        2  -1.20000E+01  -5.47349E+01   6.80000E+00   5.00000E+01   2.41000E+01   5.70000E+01   8.00000E-01      Infinity\n",
      "   1     2        3  -1.20000E+01  -5.47349E+01   6.80000E+00   5.00000E+01   2.41000E+01   5.70000E+01   8.00000E-01      Infinity\n",
      "   1     3        4  -1.20000E+01  -5.47349E+01   6.80000E+00   5.00000E+01   2.41000E+01   5.70000E+01   8.00000E-01      Infinity\n",
      "   1     4        5  -1.20000E+01  -5.47349E+01   6.80000E+00   5.00000E+01   2.41000E+01   5.70000E+01   8.00000E-01      Infinity\n",
      "   1     5  EP    6  -1.20000E+01  -5.47349E+01   6.80000E+00   5.00000E+01   2.41000E+01   5.70000E+01   8.00000E-01      Infinity\n",
      "\n",
      " Total Time    0.139E+02\n",
      "drosophila ... done\n",
      "Starting drosophila ...\n",
      "\n",
      "  BR    PT  TY  LAB       I        V                PERIOD         freq         gleak          gKs           gKf           gNa      \n",
      "   1  1000        7   5.21003E+00  -4.52725E+01   2.05943E+03   4.85571E-04   6.80000E+00   5.00000E+01   2.41000E+01   5.70000E+01\n",
      "   1  2000        8   2.29629E+01  -3.62298E+01   2.14081E+01   4.67112E-02   6.80000E+00   5.00000E+01   2.41000E+01   5.70000E+01\n",
      "   1  2465  HB    9   3.18965E+01  -3.37060E+01   1.63025E+01   6.13405E-02   6.80000E+00   5.00000E+01   2.41000E+01   5.70000E+01\n",
      "   1  3000       10   4.24177E+01  -3.17713E+01   1.32336E+01   7.55652E-02   6.80000E+00   5.00000E+01   2.41000E+01   5.70000E+01\n",
      "   1  3130  HB   11   4.49805E+01  -3.13913E+01   1.27212E+01   7.86092E-02   6.80000E+00   5.00000E+01   2.41000E+01   5.70000E+01\n",
      "   1  4000       12   6.22563E+01  -2.93283E+01   1.04322E+01   9.58573E-02   6.80000E+00   5.00000E+01   2.41000E+01   5.70000E+01\n",
      "   1  5000       13   8.21764E+01  -2.75484E+01   9.02722E+00   1.10776E-01   6.80000E+00   5.00000E+01   2.41000E+01   5.70000E+01\n",
      "   1  5894  UZ   14   1.00000E+02  -2.62369E+01   8.24138E+00   1.21339E-01   6.80000E+00   5.00000E+01   2.41000E+01   5.70000E+01\n",
      "\n",
      " Total Time    0.375E+01\n",
      "drosophila ... done\n",
      "Starting drosophila ...\n",
      "\n",
      "  BR    PT  TY  LAB       I        V                PERIOD         freq         gleak          gKs           gKf           gNa      \n",
      "   1   413  UZ    7  -2.00000E+01  -5.66263E+01   0.00000E+00      Infinity   6.80000E+00   5.00000E+01   2.41000E+01   5.70000E+01\n",
      "\n",
      " Total Time    0.297E+00\n",
      "drosophila ... done\n",
      "Merge done\n",
      "Relabeling done\n",
      "Unknown column name: MAX V\n",
      "Unknown column name: MIN V\n"
     ]
    }
   ],
   "source": [
    "params = {'gNa': 57}\n",
    "ini = integrate_to_equilibrium(params=params)\n",
    "eq = continue_equilibrium(ini, params=params)\n",
    "plot_bifurcation_diagram(eq)"
   ]
  },
  {
   "cell_type": "code",
   "execution_count": 25,
   "metadata": {
    "collapsed": false
   },
   "outputs": [
    {
     "name": "stdout",
     "output_type": "stream",
     "text": [
      "Starting drosophila ...\n",
      "\n",
      "  BR    PT  TY  LAB       I           MIN V         MAX V        MAX mKs        PERIOD        gleak          gKs           freq     \n",
      "   4  1000       10   4.48311E+01  -3.23892E+01  -3.02987E+01   2.87747E-01   1.27439E+01   6.80000E+00   5.00000E+01   7.84692E-02\n",
      "   4  2000       11   3.15357E+01  -3.55811E+01  -3.13227E+01   2.72632E-01   1.64731E+01   6.80000E+00   5.00000E+01   6.07050E-02\n",
      "   4  3000       12   4.38218E+01  -3.38500E+01  -2.83370E+01   2.96846E-01   1.28963E+01   6.80000E+00   5.00000E+01   7.75418E-02\n",
      "   4  4000       13   3.11419E+01  -3.69317E+01  -2.82652E+01   2.89760E-01   1.66138E+01   6.80000E+00   5.00000E+01   6.01910E-02\n",
      "   4  5000  EP   14   4.24358E+01  -3.47375E+01  -2.70083E+01   3.02644E-01   1.31136E+01   6.80000E+00   5.00000E+01   7.62567E-02\n",
      "\n",
      " Total Time    0.348E+03\n",
      "drosophila ... done\n"
     ]
    }
   ],
   "source": [
    "tu = continue_limit_cycle(eq('HB1'), params=params, ISP=1)#, UZSTOP={'PERIOD': [0, 500]})\n",
    "plot_bifurcation_diagram(tu + eq)"
   ]
  },
  {
   "cell_type": "code",
   "execution_count": null,
   "metadata": {
    "collapsed": true
   },
   "outputs": [],
   "source": []
  }
 ],
 "metadata": {
  "kernelspec": {
   "display_name": "Python 2",
   "language": "python",
   "name": "python2"
  },
  "language_info": {
   "codemirror_mode": {
    "name": "ipython",
    "version": 2
   },
   "file_extension": ".py",
   "mimetype": "text/x-python",
   "name": "python",
   "nbconvert_exporter": "python",
   "pygments_lexer": "ipython2",
   "version": "2.7.8"
  }
 },
 "nbformat": 4,
 "nbformat_minor": 0
}
