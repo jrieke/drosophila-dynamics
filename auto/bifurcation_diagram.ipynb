{
 "cells": [
  {
   "cell_type": "code",
   "execution_count": 1,
   "metadata": {
    "collapsed": false
   },
   "outputs": [],
   "source": [
    "%matplotlib tk\n",
    "from continuation_functions import *"
   ]
  },
  {
   "cell_type": "code",
   "execution_count": 2,
   "metadata": {
    "collapsed": false,
    "scrolled": true
   },
   "outputs": [
    {
     "name": "stdout",
     "output_type": "stream",
     "text": [
      "Starting drosophila ...\n",
      "\n",
      "  BR    PT  TY  LAB       I           MIN V         gleak          gKs           gKf           gNa           gNaP          freq     \n",
      "   1     1  EP    1  -1.20000E+01  -5.45614E+01   6.80000E+00   5.00000E+01   2.41000E+01   1.00000E+02   8.00000E-01      Infinity\n",
      "   1     1        2  -1.20000E+01  -5.45614E+01   6.80000E+00   5.00000E+01   2.41000E+01   1.00000E+02   8.00000E-01      Infinity\n",
      "   1     2        3  -1.20000E+01  -5.45614E+01   6.80000E+00   5.00000E+01   2.41000E+01   1.00000E+02   8.00000E-01      Infinity\n",
      "   1     3        4  -1.20000E+01  -5.45614E+01   6.80000E+00   5.00000E+01   2.41000E+01   1.00000E+02   8.00000E-01      Infinity\n",
      "   1     4        5  -1.20000E+01  -5.45614E+01   6.80000E+00   5.00000E+01   2.41000E+01   1.00000E+02   8.00000E-01      Infinity\n",
      "   1     5  EP    6  -1.20000E+01  -5.45614E+01   6.80000E+00   5.00000E+01   2.41000E+01   1.00000E+02   8.00000E-01      Infinity\n",
      "\n",
      " Total Time    0.160E+02\n",
      "drosophila ... done\n"
     ]
    }
   ],
   "source": [
    "init = integrate_to_equilibrium()"
   ]
  },
  {
   "cell_type": "code",
   "execution_count": 3,
   "metadata": {
    "collapsed": false
   },
   "outputs": [
    {
     "name": "stdout",
     "output_type": "stream",
     "text": [
      "Starting drosophila ...\n",
      "\n",
      "  BR    PT  TY  LAB       I        V                PERIOD         freq         gleak          gKs           gKf           gNa      \n",
      "   1   651  LP    7  -1.90176E+00  -4.77435E+01   3.69210E+04   2.70848E-05   6.80000E+00   5.00000E+01   2.41000E+01   1.00000E+02\n",
      "   1  1000        8  -4.94013E+00  -4.17429E+01   3.69210E+04   2.70848E-05   6.80000E+00   5.00000E+01   2.41000E+01   1.00000E+02\n",
      "   1  1626  LP    9  -1.48988E+01  -3.45427E+01   1.54590E+04   6.46873E-05   6.80000E+00   5.00000E+01   2.41000E+01   1.00000E+02\n",
      "   1  2000       10  -8.45198E+00  -3.14397E+01   3.77712E+01   2.64752E-02   6.80000E+00   5.00000E+01   2.41000E+01   1.00000E+02\n",
      "   1  3000       11   1.13559E+01  -2.87468E+01   1.20454E+01   8.30195E-02   6.80000E+00   5.00000E+01   2.41000E+01   1.00000E+02\n",
      "   1  4000       12   3.12875E+01  -2.71025E+01   9.12536E+00   1.09585E-01   6.80000E+00   5.00000E+01   2.41000E+01   1.00000E+02\n",
      "   1  5000       13   5.12453E+01  -2.58072E+01   7.78675E+00   1.28423E-01   6.80000E+00   5.00000E+01   2.41000E+01   1.00000E+02\n",
      "   1  5424  HB   14   5.96953E+01  -2.53199E+01   7.40104E+00   1.35116E-01   6.80000E+00   5.00000E+01   2.41000E+01   1.00000E+02\n",
      "   1  6000       15   7.11985E+01  -2.46979E+01   6.97375E+00   1.43395E-01   6.80000E+00   5.00000E+01   2.41000E+01   1.00000E+02\n",
      "   1  7000       16   9.11737E+01  -2.37045E+01   6.40513E+00   1.56125E-01   6.80000E+00   5.00000E+01   2.41000E+01   1.00000E+02\n",
      "   1  7442  UZ   17   1.00000E+02  -2.32930E+01   6.20104E+00   1.61263E-01   6.80000E+00   5.00000E+01   2.41000E+01   1.00000E+02\n",
      "\n",
      " Total Time    0.531E+01\n"
     ]
    },
    {
     "name": "stderr",
     "output_type": "stream",
     "text": [
      "D:\\Python\\27_32bit\\lib\\site-packages\\numpy\\core\\fromnumeric.py:2641: VisibleDeprecationWarning: `rank` is deprecated; use the `ndim` attribute or function instead. To find the rank of a matrix see `numpy.linalg.matrix_rank`.\n",
      "  VisibleDeprecationWarning)\n"
     ]
    },
    {
     "name": "stdout",
     "output_type": "stream",
     "text": [
      "drosophila ... done\n",
      "Starting drosophila ...\n",
      "\n",
      "  BR    PT  TY  LAB       I        V                PERIOD         freq         gleak          gKs           gKf           gNa      \n",
      "   1   414  UZ    7  -2.00000E+01  -5.65503E+01   4.60659E+03   2.17080E-04   6.80000E+00   5.00000E+01   2.41000E+01   1.00000E+02\n",
      "\n",
      " Total Time    0.328E+00\n",
      "drosophila ... done\n",
      "Merge done\n",
      "Relabeling done\n"
     ]
    }
   ],
   "source": [
    "equilibrium = continue_equilibrium(init)"
   ]
  },
  {
   "cell_type": "code",
   "execution_count": 4,
   "metadata": {
    "collapsed": false
   },
   "outputs": [
    {
     "name": "stdout",
     "output_type": "stream",
     "text": [
      "Unknown column name: MAX V\n",
      "Unknown column name: MIN V\n"
     ]
    }
   ],
   "source": [
    "#print equilibrium.summary()\n",
    "plot_bifurcation_diagram(equilibrium)"
   ]
  },
  {
   "cell_type": "code",
   "execution_count": 5,
   "metadata": {
    "collapsed": false
   },
   "outputs": [
    {
     "name": "stdout",
     "output_type": "stream",
     "text": [
      "Starting drosophila ...\n",
      "\n",
      "  BR    PT  TY  LAB       I           MIN V         MAX V        MAX mKs        PERIOD        gleak          gKs           freq     \n",
      "   9  1000       13   4.08777E+01  -3.23705E+01  -1.77637E+01   3.52584E-01   7.45431E+00   6.80000E+00   5.00000E+01   1.34151E-01\n",
      "   9  2000       14   2.12608E+01  -3.63629E+01  -1.29058E+01   3.39307E-01   8.67572E+00   6.80000E+00   5.00000E+01   1.15264E-01\n",
      "   9  3000       15   2.44370E+00  -4.13294E+01  -6.30433E+00   3.25499E-01   1.56343E+01   6.80000E+00   5.00000E+01   6.39619E-02\n",
      "   9  3591  UZ   16  -2.70771E+00  -4.45008E+01  -6.24261E+00   3.21513E-01   1.00000E+02   6.80000E+00   5.00000E+01   1.00000E-02\n",
      "\n",
      " Total Time    0.266E+03\n",
      "drosophila ... done\n"
     ]
    }
   ],
   "source": [
    "tube = continue_limit_cycle(equilibrium('HB1'))"
   ]
  },
  {
   "cell_type": "code",
   "execution_count": 6,
   "metadata": {
    "collapsed": false
   },
   "outputs": [],
   "source": [
    "plot_bifurcation_diagram(equilibrium + tube, saveas='plots/bifurcation.png')"
   ]
  },
  {
   "cell_type": "code",
   "execution_count": null,
   "metadata": {
    "collapsed": true
   },
   "outputs": [],
   "source": []
  }
 ],
 "metadata": {
  "kernelspec": {
   "display_name": "Python 2",
   "language": "python",
   "name": "python2"
  },
  "language_info": {
   "codemirror_mode": {
    "name": "ipython",
    "version": 2
   },
   "file_extension": ".py",
   "mimetype": "text/x-python",
   "name": "python",
   "nbconvert_exporter": "python",
   "pygments_lexer": "ipython2",
   "version": "2.7.8"
  }
 },
 "nbformat": 4,
 "nbformat_minor": 0
}
