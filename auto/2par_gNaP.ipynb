{
 "cells": [
  {
   "cell_type": "code",
   "execution_count": 1,
   "metadata": {
    "collapsed": true
   },
   "outputs": [],
   "source": [
    "%matplotlib tk\n",
    "from continuation_functions import *"
   ]
  },
  {
   "cell_type": "code",
   "execution_count": 2,
   "metadata": {
    "collapsed": false
   },
   "outputs": [
    {
     "name": "stdout",
     "output_type": "stream",
     "text": [
      "Starting drosophila ...\n",
      "\n",
      "  BR    PT  TY  LAB       I           MIN V         gleak          gKs           gKf           gNa           gNaP          freq     \n",
      "   1     1  EP    1  -1.20000E+01  -5.45614E+01   6.80000E+00   5.00000E+01   2.41000E+01   1.00000E+02   8.00000E-01      Infinity\n",
      "   1     1        2  -1.20000E+01  -5.45614E+01   6.80000E+00   5.00000E+01   2.41000E+01   1.00000E+02   8.00000E-01      Infinity\n",
      "   1     2        3  -1.20000E+01  -5.45614E+01   6.80000E+00   5.00000E+01   2.41000E+01   1.00000E+02   8.00000E-01      Infinity\n",
      "   1     3        4  -1.20000E+01  -5.45614E+01   6.80000E+00   5.00000E+01   2.41000E+01   1.00000E+02   8.00000E-01      Infinity\n",
      "   1     4        5  -1.20000E+01  -5.45614E+01   6.80000E+00   5.00000E+01   2.41000E+01   1.00000E+02   8.00000E-01      Infinity\n",
      "   1     5  EP    6  -1.20000E+01  -5.45614E+01   6.80000E+00   5.00000E+01   2.41000E+01   1.00000E+02   8.00000E-01      Infinity\n",
      "\n",
      " Total Time    0.153E+02\n"
     ]
    },
    {
     "name": "stderr",
     "output_type": "stream",
     "text": [
      "D:\\Python\\27_32bit\\lib\\site-packages\\numpy\\core\\fromnumeric.py:2641: VisibleDeprecationWarning: `rank` is deprecated; use the `ndim` attribute or function instead. To find the rank of a matrix see `numpy.linalg.matrix_rank`.\n",
      "  VisibleDeprecationWarning)\n"
     ]
    },
    {
     "name": "stdout",
     "output_type": "stream",
     "text": [
      "drosophila ... done\n",
      "Starting drosophila ...\n",
      "\n",
      "  BR    PT  TY  LAB       I        V                PERIOD         freq         gleak          gKs           gKf           gNa      \n",
      "   1   651  LP    7  -1.90176E+00  -4.77435E+01   3.69210E+04   2.70848E-05   6.80000E+00   5.00000E+01   2.41000E+01   1.00000E+02\n",
      "   1  1000        8  -4.94013E+00  -4.17429E+01   3.69210E+04   2.70848E-05   6.80000E+00   5.00000E+01   2.41000E+01   1.00000E+02\n",
      "   1  1626  LP    9  -1.48988E+01  -3.45427E+01   1.54590E+04   6.46873E-05   6.80000E+00   5.00000E+01   2.41000E+01   1.00000E+02\n",
      "   1  2000       10  -8.45198E+00  -3.14397E+01   3.77712E+01   2.64752E-02   6.80000E+00   5.00000E+01   2.41000E+01   1.00000E+02\n",
      "   1  3000       11   1.13559E+01  -2.87468E+01   1.20454E+01   8.30195E-02   6.80000E+00   5.00000E+01   2.41000E+01   1.00000E+02\n",
      "   1  4000       12   3.12875E+01  -2.71025E+01   9.12536E+00   1.09585E-01   6.80000E+00   5.00000E+01   2.41000E+01   1.00000E+02\n",
      "   1  5000       13   5.12453E+01  -2.58072E+01   7.78675E+00   1.28423E-01   6.80000E+00   5.00000E+01   2.41000E+01   1.00000E+02\n",
      "   1  5424  HB   14   5.96953E+01  -2.53199E+01   7.40104E+00   1.35116E-01   6.80000E+00   5.00000E+01   2.41000E+01   1.00000E+02\n",
      "   1  6000       15   7.11985E+01  -2.46979E+01   6.97375E+00   1.43395E-01   6.80000E+00   5.00000E+01   2.41000E+01   1.00000E+02\n",
      "   1  7000       16   9.11737E+01  -2.37045E+01   6.40513E+00   1.56125E-01   6.80000E+00   5.00000E+01   2.41000E+01   1.00000E+02\n",
      "   1  7442  UZ   17   1.00000E+02  -2.32930E+01   6.20104E+00   1.61263E-01   6.80000E+00   5.00000E+01   2.41000E+01   1.00000E+02\n",
      "\n",
      " Total Time    0.480E+01\n",
      "drosophila ... done\n",
      "Starting drosophila ...\n",
      "\n",
      "  BR    PT  TY  LAB       I        V                PERIOD         freq         gleak          gKs           gKf           gNa      \n",
      "   1   414  UZ    7  -2.00000E+01  -5.65503E+01   4.60659E+03   2.17080E-04   6.80000E+00   5.00000E+01   2.41000E+01   1.00000E+02\n",
      "\n",
      " Total Time    0.266E+00\n",
      "drosophila ... done\n",
      "Merge done\n",
      "Relabeling done\n"
     ]
    }
   ],
   "source": [
    "# Get default bifurcations.\n",
    "init = integrate_to_equilibrium()\n",
    "equilibrium = continue_equilibrium(init)"
   ]
  },
  {
   "cell_type": "code",
   "execution_count": 7,
   "metadata": {
    "collapsed": false
   },
   "outputs": [
    {
     "name": "stdout",
     "output_type": "stream",
     "text": [
      "Starting drosophila ...\n",
      "\n",
      "  BR    PT  TY  LAB       I          L2-NORM          V            mKs           mKf           hKf           gNaP         PERIOD    \n",
      "   2  1000       13   4.71435E+01   4.16302E+01  -4.16144E+01   1.90815E-01   3.52264E-02   3.62561E-01   1.10684E-01   3.69210E+04\n",
      "   2  1154  UZ   14   5.47926E+01   4.13973E+01  -4.13815E+01   1.92628E-01   3.63315E-02   3.53639E-01   1.00000E-02   3.69210E+04\n",
      "\n",
      " Total Time    0.227E+01\n"
     ]
    },
    {
     "name": "stderr",
     "output_type": "stream",
     "text": [
      "Traceback (most recent call last):\n",
      "  File \"D:\\Python\\27_32bit\\lib\\lib-tk\\Tkinter.py\", line 1486, in __call__\n",
      "    return self.func(*args)\n",
      "  File \"D:\\auto\\07p\\python\\graphics\\Pmw.py\", line 2123, in <lambda>\n",
      "    command=lambda self=self, name=name: self._doCommand(name))\n",
      "  File \"D:\\auto\\07p\\python\\graphics\\Pmw.py\", line 2103, in _doCommand\n",
      "    return command(name)\n",
      "  File \"D:\\auto\\07p\\python\\graphics\\windowPlotter.py\", line 137, in optionSelectionDialogCommand\n",
      "    self.setOptionDialog(self.optionSelctionDialog.getcurselection()[0])\n",
      "  File \"D:\\auto\\07p\\python\\graphics\\windowPlotter.py\", line 152, in setOptionDialog\n",
      "    entry_state=Tkinter.DISABLED)\n",
      "  File \"D:\\auto\\07p\\python\\graphics\\Pmw.py\", line 2965, in __init__\n",
      "    sequences = root.bind_class(tag)\n",
      "  File \"D:\\Python\\27_32bit\\lib\\lib-tk\\Tkinter.py\", line 1063, in bind_class\n",
      "    return self._bind(('bind', className), sequence, func, add, 0)\n",
      "  File \"D:\\Python\\27_32bit\\lib\\lib-tk\\Tkinter.py\", line 998, in _bind\n",
      "    return self.tk.splitlist(self.tk.call(what))\n",
      "TclError: bad window path name \".247172512.250652072.250652912.250654152.250654312\"\n"
     ]
    },
    {
     "name": "stdout",
     "output_type": "stream",
     "text": [
      "drosophila ... done\n",
      "Starting drosophila ...\n",
      "\n",
      "  BR    PT  TY  LAB       I          L2-NORM          V            mKs           mKf           hKf           gNaP         PERIOD    \n",
      "   2  1000       13  -5.03599E+01   5.83359E+01  -5.83124E+01   9.25075E-02   3.65887E-03   9.01919E-01   3.81576E+00   3.69210E+04\n",
      "   2  1407  UZ   14  -7.00000E+01   6.13830E+01  -6.13599E+01   8.04345E-02   2.40903E-03   9.38581E-01   7.90551E+00   3.69210E+04\n",
      "\n",
      " Total Time    0.291E+01\n",
      "drosophila ... done\n",
      "Merge done\n",
      "Relabeling done\n",
      "Starting drosophila ...\n",
      "\n",
      "  BR    PT  TY  LAB       I          L2-NORM          V            mKs           mKf           hKf           gNaP         PERIOD    \n",
      "   4  1000       13   3.49759E+01   3.42140E+01  -3.41955E+01   2.55004E-01   9.19863E-02   1.41761E-01   1.59059E-01   1.54590E+04\n",
      "   4  1232  UZ   14   4.65564E+01   3.41317E+01  -3.41131E+01   2.55791E-01   9.29373E-02   1.40098E-01   1.00000E-02   1.54590E+04\n",
      "\n",
      " Total Time    0.194E+01\n",
      "drosophila ... done\n",
      "Starting drosophila ...\n",
      "\n",
      "  BR    PT  TY  LAB       I          L2-NORM          V            mKs           mKf           hKf           gNaP         PERIOD    \n",
      "   4  1000       13  -6.47736E+01   3.48895E+01  -3.48715E+01   2.48608E-01   8.45093E-02   1.56028E-01   1.43942E+00   1.54590E+04\n",
      "   4  1105  UZ   14  -7.00000E+01   3.49226E+01  -3.49046E+01   2.48297E-01   8.41579E-02   1.56755E-01   1.50635E+00   1.54590E+04\n",
      "\n",
      " Total Time    0.180E+01\n",
      "drosophila ... done\n",
      "Merge done\n",
      "Relabeling done\n"
     ]
    }
   ],
   "source": [
    "saddle_node = continue_bifurcation(equilibrium('LP1'), 'gNaP', UZSTOP={'I': [-70, 100], 'gNaP': [0.01, 10]})\n",
    "saddle_node += continue_bifurcation(equilibrium('LP2'), 'gNaP', UZSTOP={'I': [-70, 100], 'gNaP': [0.01, 10]}) "
   ]
  },
  {
   "cell_type": "code",
   "execution_count": 8,
   "metadata": {
    "collapsed": false
   },
   "outputs": [
    {
     "name": "stdout",
     "output_type": "stream",
     "text": [
      "Starting drosophila ...\n",
      "\n",
      "  BR    PT  TY  LAB       I          L2-NORM          V            mKs           mKf           hKf           gNaP         PERIOD    \n",
      "   9  1000       13   1.09570E+02   2.49822E+01  -2.49507E+01   3.52569E-01   2.65423E-01   3.41727E-02   1.82309E-01   7.19594E+00\n",
      "   9  1278  UZ   14   1.23439E+02   2.48803E+01  -2.48485E+01   3.53741E-01   2.68172E-01   3.36152E-02   1.00000E-02   7.13996E+00\n",
      "\n",
      " Total Time    0.220E+01\n",
      "drosophila ... done\n",
      "Starting drosophila ...\n",
      "\n",
      "  BR    PT  TY  LAB       I          L2-NORM          V            mKs           mKf           hKf           gNaP         PERIOD    \n",
      "   9  1000       13   9.82053E+00   2.57229E+01  -2.56930E+01   3.44105E-01   2.45996E-01   3.85000E-02   1.41453E+00   7.61300E+00\n",
      "   9  2000       14  -4.01742E+01   2.61013E+01  -2.60722E+01   3.39820E-01   2.36451E-01   4.09089E-02   2.02722E+00   7.83385E+00\n",
      "   9  2597  UZ   15  -7.00000E+01   2.63301E+01  -2.63015E+01   3.37241E-01   2.30803E-01   4.24351E-02   2.39110E+00   7.97040E+00\n",
      "\n",
      " Total Time    0.462E+01\n",
      "drosophila ... done\n",
      "Merge done\n",
      "Relabeling done\n"
     ]
    }
   ],
   "source": [
    "hopf = continue_bifurcation(equilibrium('HB1'), 'gNaP', UZSTOP={'I': [-70, 150], 'gNaP': [0.01, 10]})"
   ]
  },
  {
   "cell_type": "code",
   "execution_count": 9,
   "metadata": {
    "collapsed": false
   },
   "outputs": [
    {
     "name": "stdout",
     "output_type": "stream",
     "text": [
      "Created plot\n"
     ]
    }
   ],
   "source": [
    "plot_2_params_diagram(saddle_node + hopf, 'gNaP', ymin=0, ylabel='$g_{NaP}$ / nS', color_list='black black red', saveas='plots/2par_gNaP.png')"
   ]
  },
  {
   "cell_type": "code",
   "execution_count": null,
   "metadata": {
    "collapsed": true
   },
   "outputs": [],
   "source": []
  }
 ],
 "metadata": {
  "kernelspec": {
   "display_name": "Python 2",
   "language": "python",
   "name": "python2"
  },
  "language_info": {
   "codemirror_mode": {
    "name": "ipython",
    "version": 2
   },
   "file_extension": ".py",
   "mimetype": "text/x-python",
   "name": "python",
   "nbconvert_exporter": "python",
   "pygments_lexer": "ipython2",
   "version": "2.7.8"
  }
 },
 "nbformat": 4,
 "nbformat_minor": 0
}
