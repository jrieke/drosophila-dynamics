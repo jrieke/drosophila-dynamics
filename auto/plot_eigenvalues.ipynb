{
 "cells": [
  {
   "cell_type": "code",
   "execution_count": 1,
   "metadata": {
    "collapsed": true
   },
   "outputs": [],
   "source": [
    "%matplotlib inline\n",
    "import re\n",
    "import matplotlib.pyplot as plt\n",
    "import numpy as np\n",
    "import matplotlib"
   ]
  },
  {
   "cell_type": "code",
   "execution_count": 2,
   "metadata": {
    "collapsed": true
   },
   "outputs": [],
   "source": [
    "# Regular expression to extract eigenvalues from fort.9 file.\n",
    "regex = re.compile(r'Eigenvalue\\s+(.*?):\\s+(.*?)\\s+(.*?)\\s')\n",
    "\n",
    "ndim = 8\n",
    "real_parts = []\n",
    "complex_parts = []\n",
    "for i in range(ndim):\n",
    "    real_parts.append([])\n",
    "    complex_parts.append([])"
   ]
  },
  {
   "cell_type": "code",
   "execution_count": 5,
   "metadata": {
    "collapsed": true
   },
   "outputs": [],
   "source": [
    "# Run numerical continuation of equilibrium with AUTO. \n",
    "# Then run this cell to read the eigenvalues from the fort.9 file.\n",
    "with open('fort.9') as f:\n",
    "    for line in f:\n",
    "        #print line\n",
    "        results = regex.search(line)\n",
    "        if results:\n",
    "            #print results.group(1), results.group(2), results.group(3)\n",
    "            index = int(results.group(1)) - 1\n",
    "            real_parts[index].append(results.group(2))\n",
    "            complex_parts[index].append(results.group(3))"
   ]
  },
  {
   "cell_type": "code",
   "execution_count": 6,
   "metadata": {
    "collapsed": false
   },
   "outputs": [
    {
     "data": {
      "text/plain": [
       "(-1.1, 1.1)"
      ]
     },
     "execution_count": 6,
     "metadata": {},
     "output_type": "execute_result"
    },
    {
     "data": {
      "image/png": "[encoded data removed]",
      "text/plain": [
       "<matplotlib.figure.Figure at 0x993d6d0>"
      ]
     },
     "metadata": {},
     "output_type": "display_data"
    }
   ],
   "source": [
    "# make color cycler\n",
    "colors = iter(matplotlib.cm.rainbow(np.linspace(0, 1, ndim)))\n",
    "\n",
    "#x = np.linspace(0, 2*np.pi, 100)\n",
    "#plt.plot(np.sin(x), np.cos(x))\n",
    "\n",
    "plt.axvline(color='black')\n",
    "plt.axhline(color='black')\n",
    "\n",
    "#print real_parts\n",
    "#print complex_parts[0][0:10]\n",
    "\n",
    "# Bifurcation points for default parameters.\n",
    "LP1 = 650\n",
    "LP2 = 1625\n",
    "HB1 = 5423\n",
    "\n",
    "for real, comp in zip(real_parts, complex_parts):\n",
    "    which = LP1\n",
    "    num_points = 400\n",
    "    plt.scatter(real, comp, s=40, color='grey', alpha=0.005)#matplotlib.cm.cool(np.linspace(0, 1, num_points*2)))\n",
    "    plt.scatter(real[which-num_points:which+num_points], comp[which-num_points:which+num_points], s=40, color=matplotlib.cm.cool(np.linspace(0, 1, num_points*2)))\n",
    "    #plt.scatter(real[LP1], comp[LP1], marker='*')\n",
    "    #plt.scatter(real[LP1+1], comp[LP1+1], marker='v')\n",
    "\n",
    "plt.xlim(-1.1, 1.1)\n",
    "plt.ylim(-1.1, 1.1)"
   ]
  },
  {
   "cell_type": "code",
   "execution_count": null,
   "metadata": {
    "collapsed": true
   },
   "outputs": [],
   "source": []
  }
 ],
 "metadata": {
  "kernelspec": {
   "display_name": "Python 2",
   "language": "python",
   "name": "python2"
  },
  "language_info": {
   "codemirror_mode": {
    "name": "ipython",
    "version": 2
   },
   "file_extension": ".py",
   "mimetype": "text/x-python",
   "name": "python",
   "nbconvert_exporter": "python",
   "pygments_lexer": "ipython2",
   "version": "2.7.8"
  }
 },
 "nbformat": 4,
 "nbformat_minor": 0
}
