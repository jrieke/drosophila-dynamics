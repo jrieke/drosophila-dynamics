{
 "cells": [
  {
   "cell_type": "code",
   "execution_count": 1,
   "metadata": {
    "collapsed": false
   },
   "outputs": [
    {
     "name": "stdout",
     "output_type": "stream",
     "text": [
      "Runner configured\n"
     ]
    }
   ],
   "source": [
    "%matplotlib tk\n",
    "import auto\n",
    "n = auto.load('drosophila')"
   ]
  },
  {
   "cell_type": "code",
   "execution_count": 2,
   "metadata": {
    "collapsed": false,
    "scrolled": false
   },
   "outputs": [
    {
     "name": "stdout",
     "output_type": "stream",
     "text": [
      "Starting drosophila ...\n",
      "\n",
      "  BR    PT  TY  LAB       I           MAX V         MAX V        MAX mKs       MAX mKf       MAX hKf       MAX hKf2      MAX mNa    \n",
      "   1     1  EP    1  -1.20000E+01  -5.45614E+01  -5.45614E+01   1.09584E-01   6.11441E-03   8.31117E-01   3.31879E-01   5.46600E-02\n",
      "   1     1        2  -1.20000E+01  -5.45614E+01  -5.45614E+01   1.09584E-01   6.11441E-03   8.31117E-01   9.98879E-01   5.46600E-02\n",
      "   1     2        3  -1.20000E+01  -5.45614E+01  -5.45614E+01   1.09584E-01   6.11441E-03   8.31117E-01   9.99001E-01   5.46600E-02\n",
      "   1     3        4  -1.20000E+01  -5.45614E+01  -5.45614E+01   1.09584E-01   6.11441E-03   8.31117E-01   9.99001E-01   5.46600E-02\n",
      "   1     4        5  -1.20000E+01  -5.45614E+01  -5.45614E+01   1.09584E-01   6.11441E-03   8.31117E-01   9.99001E-01   5.46600E-02\n",
      "   1     5  EP    6  -1.20000E+01  -5.45614E+01  -5.45614E+01   1.09584E-01   6.11441E-03   8.31117E-01   9.99001E-01   5.46600E-02\n",
      "\n",
      " Total Time    0.167E+02\n",
      "drosophila ... done\n"
     ]
    }
   ],
   "source": [
    "init = auto.run(n,c='integra')()[-1] #integrate ivp to start from stable eq "
   ]
  },
  {
   "cell_type": "code",
   "execution_count": null,
   "metadata": {
    "collapsed": false,
    "scrolled": true
   },
   "outputs": [],
   "source": [
    "zip(init.coordnames, init.coordarray)"
   ]
  },
  {
   "cell_type": "code",
   "execution_count": 4,
   "metadata": {
    "collapsed": false
   },
   "outputs": [
    {
     "name": "stdout",
     "output_type": "stream",
     "text": [
      "Starting drosophila ...\n",
      "\n",
      "  BR    PT  TY  LAB       I        V                  V            mKs           mKf          PERIOD        gleak         Eleak     \n",
      "   1   651  LP    7  -1.90176E+00  -4.77435E+01  -4.77435E+01   1.47724E-01   1.54715E-02   3.69210E+04   6.80000E+00  -5.50000E+01\n",
      "   1  1000        8  -4.94013E+00  -4.17429E+01  -4.17429E+01   1.89821E-01   3.46305E-02   3.69210E+04   6.80000E+00  -5.50000E+01\n",
      "   1  1626  LP    9  -1.48988E+01  -3.45427E+01  -3.45427E+01   2.51706E-01   8.80750E-02   1.54590E+04   6.80000E+00  -5.50000E+01\n",
      "   1  2000       10  -8.45198E+00  -3.14397E+01  -3.14397E+01   2.82177E-01   1.28918E-01   3.77712E+01   6.80000E+00  -5.50000E+01\n",
      "   1  3000       11   1.13559E+01  -2.87468E+01  -2.87468E+01   3.10361E-01   1.76516E-01   1.20454E+01   6.80000E+00  -5.50000E+01\n",
      "   1  4000       12   3.12875E+01  -2.71025E+01  -2.71025E+01   3.28308E-01   2.11825E-01   9.12536E+00   6.80000E+00  -5.50000E+01\n",
      "   1  5000       13   5.12453E+01  -2.58072E+01  -2.58072E+01   3.42811E-01   2.43093E-01   7.78675E+00   6.80000E+00  -5.50000E+01\n",
      "   1  5424  HB   14   5.96953E+01  -2.53199E+01  -2.53199E+01   3.48347E-01   2.55638E-01   7.40104E+00   6.80000E+00  -5.50000E+01\n",
      "   1  5440  UZ   15   6.00000E+01  -2.53029E+01  -2.53029E+01   3.48541E-01   2.56085E-01   7.38843E+00   6.80000E+00  -5.50000E+01\n",
      "\n",
      " Total Time    0.333E+01\n",
      "drosophila ... done\n",
      "Starting drosophila ...\n",
      "\n",
      "  BR    PT  TY  LAB       I        V                  V            mKs           mKf          PERIOD        gleak         Eleak     \n",
      "   1   414  UZ    7  -2.00000E+01  -5.65503E+01  -5.65503E+01   1.00210E-01   4.65775E-03   4.60659E+03   6.80000E+00  -5.50000E+01\n",
      "\n",
      " Total Time    0.328E+00\n",
      "drosophila ... done\n",
      "Merge done\n",
      "Relabeling done\n"
     ]
    },
    {
     "name": "stderr",
     "output_type": "stream",
     "text": [
      "D:\\Python\\27_32bit\\lib\\site-packages\\numpy\\core\\fromnumeric.py:2507: VisibleDeprecationWarning: `rank` is deprecated; use the `ndim` attribute or function instead. To find the rank of a matrix see `numpy.linalg.matrix_rank`.\n",
      "  VisibleDeprecationWarning)\n"
     ]
    }
   ],
   "source": [
    "eq = auto.run(init, c='eq_I') # eq continuation in I\n",
    "eq += auto.run(init, c='eq_I', DS='-') # on the other direction\n",
    "eq = auto.relabel(auto.merge(eq)) # get a single curve with unique labels"
   ]
  },
  {
   "cell_type": "code",
   "execution_count": null,
   "metadata": {
    "collapsed": false
   },
   "outputs": [],
   "source": [
    "auto.plot(eq, stability=True, use_labels=True)"
   ]
  },
  {
   "cell_type": "code",
   "execution_count": 5,
   "metadata": {
    "collapsed": false
   },
   "outputs": [
    {
     "name": "stdout",
     "output_type": "stream",
     "text": [
      "Starting drosophila ...\n",
      "\n",
      "  BR    PT  TY  LAB       I           MIN V         MAX V        MAX mKs       MAX mKf        PERIOD        gleak         Eleak     \n",
      "   9  1000       11   4.08777E+01  -3.23705E+01  -1.77637E+01   3.52584E-01   2.75990E-01   7.45431E+00   6.80000E+00  -5.50000E+01\n",
      "   9  2000       12   2.12608E+01  -3.63629E+01  -1.29058E+01   3.39307E-01   2.63930E-01   8.67572E+00   6.80000E+00  -5.50000E+01\n",
      "   9  3000       13   2.44370E+00  -4.13294E+01  -6.30433E+00   3.25499E-01   2.56993E-01   1.56343E+01   6.80000E+00  -5.50000E+01\n",
      "   9  3591  UZ   14  -2.70771E+00  -4.45008E+01  -6.24261E+00   3.21513E-01   2.47844E-01   1.00000E+02   6.80000E+00  -5.50000E+01\n",
      "\n",
      " Total Time    0.239E+03\n",
      "drosophila ... done\n"
     ]
    }
   ],
   "source": [
    "# continuation of per orbits, starting from Hopf \n",
    "tube = auto.run(eq('HB1'), IPS=2, IPLT=-1, ILP=0, STOP=['PD1'], NMX=5000, UZSTOP = {'I': [-20,140], 'PERIOD': [0, 100]})"
   ]
  },
  {
   "cell_type": "code",
   "execution_count": 6,
   "metadata": {
    "collapsed": false
   },
   "outputs": [
    {
     "ename": "TclError",
     "evalue": "bad window path name \".217033264.217065512.244304192.244335120.244336120.244336360\"",
     "output_type": "error",
     "traceback": [
      "\u001b[1;31m---------------------------------------------------------------------------\u001b[0m",
      "\u001b[1;31mTclError\u001b[0m                                  Traceback (most recent call last)",
      "\u001b[1;32m<ipython-input-6-652c01c59164>\u001b[0m in \u001b[0;36m<module>\u001b[1;34m()\u001b[0m\n\u001b[1;32m----> 1\u001b[1;33m \u001b[0mauto\u001b[0m\u001b[1;33m.\u001b[0m\u001b[0mplot\u001b[0m\u001b[1;33m(\u001b[0m\u001b[0meq\u001b[0m \u001b[1;33m+\u001b[0m \u001b[0mtube\u001b[0m\u001b[1;33m,\u001b[0m \u001b[0mbifurcation_x\u001b[0m\u001b[1;33m=\u001b[0m\u001b[1;33m[\u001b[0m\u001b[1;34m'I'\u001b[0m\u001b[1;33m]\u001b[0m\u001b[1;33m,\u001b[0m \u001b[0mbifurcation_y\u001b[0m\u001b[1;33m=\u001b[0m\u001b[1;33m[\u001b[0m\u001b[1;34m'V'\u001b[0m\u001b[1;33m,\u001b[0m \u001b[1;34m'MAX V'\u001b[0m\u001b[1;33m,\u001b[0m \u001b[1;34m'MIN V'\u001b[0m\u001b[1;33m]\u001b[0m\u001b[1;33m,\u001b[0m \u001b[0mstability\u001b[0m\u001b[1;33m=\u001b[0m\u001b[0mTrue\u001b[0m\u001b[1;33m,\u001b[0m \u001b[0muse_labels\u001b[0m\u001b[1;33m=\u001b[0m\u001b[0mFalse\u001b[0m\u001b[1;33m)\u001b[0m\u001b[1;33m\u001b[0m\u001b[0m\n\u001b[0m",
      "\u001b[1;32mD:\\auto\\07p\\python\\AUTOCommands.pyc\u001b[0m in \u001b[0;36mplot\u001b[1;34m(name, templates, **kw)\u001b[0m\n\u001b[0;32m   1838\u001b[0m             \u001b[0moptions\u001b[0m\u001b[1;33m[\u001b[0m\u001b[1;34m\"grapher_bifurcation_diagram\"\u001b[0m\u001b[1;33m]\u001b[0m \u001b[1;33m=\u001b[0m \u001b[0mn1b\u001b[0m\u001b[1;33m\u001b[0m\u001b[0m\n\u001b[0;32m   1839\u001b[0m             \u001b[0moptions\u001b[0m\u001b[1;33m[\u001b[0m\u001b[1;34m\"grapher_solution\"\u001b[0m\u001b[1;33m]\u001b[0m \u001b[1;33m=\u001b[0m \u001b[0mn1b\u001b[0m\u001b[1;33m(\u001b[0m\u001b[1;33m)\u001b[0m\u001b[1;33m\u001b[0m\u001b[0m\n\u001b[1;32m-> 1840\u001b[1;33m         \u001b[0mhandle\u001b[0m \u001b[1;33m=\u001b[0m \u001b[0mwindowPlotter\u001b[0m\u001b[1;33m.\u001b[0m\u001b[0mWindowPlotter2D\u001b[0m\u001b[1;33m(\u001b[0m\u001b[0mroot\u001b[0m\u001b[1;33m,\u001b[0m\u001b[1;33m**\u001b[0m\u001b[0moptions\u001b[0m\u001b[1;33m)\u001b[0m\u001b[1;33m\u001b[0m\u001b[0m\n\u001b[0m\u001b[0;32m   1841\u001b[0m         if (not options.get('grapher_hide') or\n\u001b[0;32m   1842\u001b[0m             'graphics.grapher_mpl' not in sys.modules):\n",
      "\u001b[1;32mD:\\auto\\07p\\python\\graphics\\windowPlotter.pyc\u001b[0m in \u001b[0;36m__init__\u001b[1;34m(self, parent, **kw)\u001b[0m\n\u001b[0;32m    254\u001b[0m \u001b[1;32mclass\u001b[0m \u001b[0mWindowPlotter2D\u001b[0m\u001b[1;33m(\u001b[0m\u001b[0mWindowPlotter\u001b[0m\u001b[1;33m)\u001b[0m\u001b[1;33m:\u001b[0m\u001b[1;33m\u001b[0m\u001b[0m\n\u001b[0;32m    255\u001b[0m     \u001b[1;32mdef\u001b[0m \u001b[0m__init__\u001b[0m\u001b[1;33m(\u001b[0m\u001b[0mself\u001b[0m\u001b[1;33m,\u001b[0m\u001b[0mparent\u001b[0m\u001b[1;33m=\u001b[0m\u001b[0mNone\u001b[0m\u001b[1;33m,\u001b[0m\u001b[1;33m**\u001b[0m\u001b[0mkw\u001b[0m\u001b[1;33m)\u001b[0m\u001b[1;33m:\u001b[0m\u001b[1;33m\u001b[0m\u001b[0m\n\u001b[1;32m--> 256\u001b[1;33m         \u001b[0mWindowPlotter\u001b[0m\u001b[1;33m.\u001b[0m\u001b[0m__init__\u001b[0m\u001b[1;33m(\u001b[0m\u001b[0mself\u001b[0m\u001b[1;33m,\u001b[0m\u001b[0mplotter\u001b[0m\u001b[1;33m.\u001b[0m\u001b[0mplotter\u001b[0m\u001b[1;33m,\u001b[0m\u001b[0mparent\u001b[0m\u001b[1;33m,\u001b[0m\u001b[1;33m**\u001b[0m\u001b[0mkw\u001b[0m\u001b[1;33m)\u001b[0m\u001b[1;33m\u001b[0m\u001b[0m\n\u001b[0m\u001b[0;32m    257\u001b[0m \u001b[1;33m\u001b[0m\u001b[0m\n\u001b[0;32m    258\u001b[0m     \u001b[1;32mdef\u001b[0m \u001b[0m_extraButtons\u001b[0m\u001b[1;33m(\u001b[0m\u001b[0mself\u001b[0m\u001b[1;33m,\u001b[0m\u001b[0mbox\u001b[0m\u001b[1;33m)\u001b[0m\u001b[1;33m:\u001b[0m\u001b[1;33m\u001b[0m\u001b[0m\n",
      "\u001b[1;32mD:\\auto\\07p\\python\\graphics\\windowPlotter.pyc\u001b[0m in \u001b[0;36m__init__\u001b[1;34m(self, grapherClass, parent, **kw)\u001b[0m\n\u001b[0;32m     94\u001b[0m                                          \u001b[0mPmw\u001b[0m\u001b[1;33m.\u001b[0m\u001b[0mComboBox\u001b[0m\u001b[1;33m,\u001b[0m\u001b[0mbox\u001b[0m\u001b[1;33m,\u001b[0m\u001b[1;33m\u001b[0m\u001b[0m\n\u001b[0;32m     95\u001b[0m                                          \u001b[0mlabelpos\u001b[0m\u001b[1;33m=\u001b[0m\u001b[1;34m\"w\"\u001b[0m\u001b[1;33m,\u001b[0m\u001b[1;33m\u001b[0m\u001b[0m\n\u001b[1;32m---> 96\u001b[1;33m                                          label_text=\"Label\")\n\u001b[0m\u001b[0;32m     97\u001b[0m \u001b[1;33m\u001b[0m\u001b[0m\n\u001b[0;32m     98\u001b[0m         \u001b[0mtypeEntry\u001b[0m\u001b[1;33m.\u001b[0m\u001b[0mgrid\u001b[0m\u001b[1;33m(\u001b[0m\u001b[0mrow\u001b[0m\u001b[1;33m=\u001b[0m\u001b[1;36m0\u001b[0m\u001b[1;33m,\u001b[0m\u001b[0mcolumn\u001b[0m\u001b[1;33m=\u001b[0m\u001b[1;36m1\u001b[0m\u001b[1;33m)\u001b[0m\u001b[1;33m\u001b[0m\u001b[0m\n",
      "\u001b[1;32mD:\\auto\\07p\\python\\graphics\\Pmw.pyc\u001b[0m in \u001b[0;36mcreatecomponent\u001b[1;34m(self, componentName, componentAliases, componentGroup, widgetClass, *widgetArgs, **kw)\u001b[0m\n\u001b[0;32m    558\u001b[0m             \u001b[1;31m# single tuple argument.\u001b[0m\u001b[1;33m\u001b[0m\u001b[1;33m\u001b[0m\u001b[0m\n\u001b[0;32m    559\u001b[0m             \u001b[0mwidgetArgs\u001b[0m \u001b[1;33m=\u001b[0m \u001b[0mwidgetArgs\u001b[0m\u001b[1;33m[\u001b[0m\u001b[1;36m0\u001b[0m\u001b[1;33m]\u001b[0m\u001b[1;33m\u001b[0m\u001b[0m\n\u001b[1;32m--> 560\u001b[1;33m         \u001b[0mwidget\u001b[0m \u001b[1;33m=\u001b[0m \u001b[0mwidgetClass\u001b[0m\u001b[1;33m(\u001b[0m\u001b[1;33m*\u001b[0m\u001b[0mwidgetArgs\u001b[0m\u001b[1;33m,\u001b[0m \u001b[1;33m**\u001b[0m\u001b[0mkw\u001b[0m\u001b[1;33m)\u001b[0m\u001b[1;33m\u001b[0m\u001b[0m\n\u001b[0m\u001b[0;32m    561\u001b[0m         \u001b[0mcomponentClass\u001b[0m \u001b[1;33m=\u001b[0m \u001b[0mwidget\u001b[0m\u001b[1;33m.\u001b[0m\u001b[0m__class__\u001b[0m\u001b[1;33m.\u001b[0m\u001b[0m__name__\u001b[0m\u001b[1;33m\u001b[0m\u001b[0m\n\u001b[0;32m    562\u001b[0m         self.__componentInfo[componentName] = (widget, widget.configure,\n",
      "\u001b[1;32mD:\\auto\\07p\\python\\graphics\\Pmw.pyc\u001b[0m in \u001b[0;36m__init__\u001b[1;34m(self, parent, **kw)\u001b[0m\n\u001b[0;32m   8143\u001b[0m         self._entryfield = self.createcomponent('entryfield',\n\u001b[0;32m   8144\u001b[0m                 \u001b[1;33m(\u001b[0m\u001b[1;33m(\u001b[0m\u001b[1;34m'entry'\u001b[0m\u001b[1;33m,\u001b[0m \u001b[1;34m'entryfield_entry'\u001b[0m\u001b[1;33m)\u001b[0m\u001b[1;33m,\u001b[0m\u001b[1;33m)\u001b[0m\u001b[1;33m,\u001b[0m \u001b[0mNone\u001b[0m\u001b[1;33m,\u001b[0m\u001b[1;33m\u001b[0m\u001b[0m\n\u001b[1;32m-> 8145\u001b[1;33m                 EntryField, (interior,))\n\u001b[0m\u001b[0;32m   8146\u001b[0m         \u001b[0mself\u001b[0m\u001b[1;33m.\u001b[0m\u001b[0m_entryfield\u001b[0m\u001b[1;33m.\u001b[0m\u001b[0mgrid\u001b[0m\u001b[1;33m(\u001b[0m\u001b[0mcolumn\u001b[0m\u001b[1;33m=\u001b[0m\u001b[1;36m2\u001b[0m\u001b[1;33m,\u001b[0m \u001b[0mrow\u001b[0m\u001b[1;33m=\u001b[0m\u001b[1;36m2\u001b[0m\u001b[1;33m,\u001b[0m \u001b[0msticky\u001b[0m\u001b[1;33m=\u001b[0m\u001b[0mself\u001b[0m\u001b[1;33m[\u001b[0m\u001b[1;34m'sticky'\u001b[0m\u001b[1;33m]\u001b[0m\u001b[1;33m)\u001b[0m\u001b[1;33m\u001b[0m\u001b[0m\n\u001b[0;32m   8147\u001b[0m         \u001b[0minterior\u001b[0m\u001b[1;33m.\u001b[0m\u001b[0mgrid_columnconfigure\u001b[0m\u001b[1;33m(\u001b[0m\u001b[1;36m2\u001b[0m\u001b[1;33m,\u001b[0m \u001b[0mweight\u001b[0m \u001b[1;33m=\u001b[0m \u001b[1;36m1\u001b[0m\u001b[1;33m)\u001b[0m\u001b[1;33m\u001b[0m\u001b[0m\n",
      "\u001b[1;32mD:\\auto\\07p\\python\\graphics\\Pmw.pyc\u001b[0m in \u001b[0;36mcreatecomponent\u001b[1;34m(self, componentName, componentAliases, componentGroup, widgetClass, *widgetArgs, **kw)\u001b[0m\n\u001b[0;32m    558\u001b[0m             \u001b[1;31m# single tuple argument.\u001b[0m\u001b[1;33m\u001b[0m\u001b[1;33m\u001b[0m\u001b[0m\n\u001b[0;32m    559\u001b[0m             \u001b[0mwidgetArgs\u001b[0m \u001b[1;33m=\u001b[0m \u001b[0mwidgetArgs\u001b[0m\u001b[1;33m[\u001b[0m\u001b[1;36m0\u001b[0m\u001b[1;33m]\u001b[0m\u001b[1;33m\u001b[0m\u001b[0m\n\u001b[1;32m--> 560\u001b[1;33m         \u001b[0mwidget\u001b[0m \u001b[1;33m=\u001b[0m \u001b[0mwidgetClass\u001b[0m\u001b[1;33m(\u001b[0m\u001b[1;33m*\u001b[0m\u001b[0mwidgetArgs\u001b[0m\u001b[1;33m,\u001b[0m \u001b[1;33m**\u001b[0m\u001b[0mkw\u001b[0m\u001b[1;33m)\u001b[0m\u001b[1;33m\u001b[0m\u001b[0m\n\u001b[0m\u001b[0;32m    561\u001b[0m         \u001b[0mcomponentClass\u001b[0m \u001b[1;33m=\u001b[0m \u001b[0mwidget\u001b[0m\u001b[1;33m.\u001b[0m\u001b[0m__class__\u001b[0m\u001b[1;33m.\u001b[0m\u001b[0m__name__\u001b[0m\u001b[1;33m\u001b[0m\u001b[0m\n\u001b[0;32m    562\u001b[0m         self.__componentInfo[componentName] = (widget, widget.configure,\n",
      "\u001b[1;32mD:\\auto\\07p\\python\\graphics\\Pmw.pyc\u001b[0m in \u001b[0;36m__init__\u001b[1;34m(self, parent, **kw)\u001b[0m\n\u001b[0;32m   2963\u001b[0m             \u001b[1;32mfor\u001b[0m \u001b[0mtag\u001b[0m \u001b[1;32min\u001b[0m \u001b[0mtagList\u001b[0m\u001b[1;33m:\u001b[0m\u001b[1;33m\u001b[0m\u001b[0m\n\u001b[0;32m   2964\u001b[0m \u001b[1;33m\u001b[0m\u001b[0m\n\u001b[1;32m-> 2965\u001b[1;33m                 \u001b[0msequences\u001b[0m \u001b[1;33m=\u001b[0m \u001b[0mroot\u001b[0m\u001b[1;33m.\u001b[0m\u001b[0mbind_class\u001b[0m\u001b[1;33m(\u001b[0m\u001b[0mtag\u001b[0m\u001b[1;33m)\u001b[0m\u001b[1;33m\u001b[0m\u001b[0m\n\u001b[0m\u001b[0;32m   2966\u001b[0m                 \u001b[1;32mif\u001b[0m \u001b[0misinstance\u001b[0m\u001b[1;33m(\u001b[0m\u001b[0msequences\u001b[0m\u001b[1;33m,\u001b[0m \u001b[0mstr\u001b[0m\u001b[1;33m)\u001b[0m\u001b[1;33m:\u001b[0m\u001b[1;33m\u001b[0m\u001b[0m\n\u001b[0;32m   2967\u001b[0m                     \u001b[1;31m# In old versions of Tkinter, bind_class returns a string\u001b[0m\u001b[1;33m\u001b[0m\u001b[1;33m\u001b[0m\u001b[0m\n",
      "\u001b[1;32mD:\\Python\\27_32bit\\lib\\lib-tk\\Tkinter.pyc\u001b[0m in \u001b[0;36mbind_class\u001b[1;34m(self, className, sequence, func, add)\u001b[0m\n\u001b[0;32m   1061\u001b[0m         the return value.\"\"\"\n\u001b[0;32m   1062\u001b[0m \u001b[1;33m\u001b[0m\u001b[0m\n\u001b[1;32m-> 1063\u001b[1;33m         \u001b[1;32mreturn\u001b[0m \u001b[0mself\u001b[0m\u001b[1;33m.\u001b[0m\u001b[0m_bind\u001b[0m\u001b[1;33m(\u001b[0m\u001b[1;33m(\u001b[0m\u001b[1;34m'bind'\u001b[0m\u001b[1;33m,\u001b[0m \u001b[0mclassName\u001b[0m\u001b[1;33m)\u001b[0m\u001b[1;33m,\u001b[0m \u001b[0msequence\u001b[0m\u001b[1;33m,\u001b[0m \u001b[0mfunc\u001b[0m\u001b[1;33m,\u001b[0m \u001b[0madd\u001b[0m\u001b[1;33m,\u001b[0m \u001b[1;36m0\u001b[0m\u001b[1;33m)\u001b[0m\u001b[1;33m\u001b[0m\u001b[0m\n\u001b[0m\u001b[0;32m   1064\u001b[0m     \u001b[1;32mdef\u001b[0m \u001b[0munbind_class\u001b[0m\u001b[1;33m(\u001b[0m\u001b[0mself\u001b[0m\u001b[1;33m,\u001b[0m \u001b[0mclassName\u001b[0m\u001b[1;33m,\u001b[0m \u001b[0msequence\u001b[0m\u001b[1;33m)\u001b[0m\u001b[1;33m:\u001b[0m\u001b[1;33m\u001b[0m\u001b[0m\n\u001b[0;32m   1065\u001b[0m         \"\"\"Unbind for a all widgets with bindtag CLASSNAME for event SEQUENCE\n",
      "\u001b[1;32mD:\\Python\\27_32bit\\lib\\lib-tk\\Tkinter.pyc\u001b[0m in \u001b[0;36m_bind\u001b[1;34m(self, what, sequence, func, add, needcleanup)\u001b[0m\n\u001b[0;32m    996\u001b[0m             \u001b[1;32mreturn\u001b[0m \u001b[0mself\u001b[0m\u001b[1;33m.\u001b[0m\u001b[0mtk\u001b[0m\u001b[1;33m.\u001b[0m\u001b[0mcall\u001b[0m\u001b[1;33m(\u001b[0m\u001b[0mwhat\u001b[0m \u001b[1;33m+\u001b[0m \u001b[1;33m(\u001b[0m\u001b[0msequence\u001b[0m\u001b[1;33m,\u001b[0m\u001b[1;33m)\u001b[0m\u001b[1;33m)\u001b[0m\u001b[1;33m\u001b[0m\u001b[0m\n\u001b[0;32m    997\u001b[0m         \u001b[1;32melse\u001b[0m\u001b[1;33m:\u001b[0m\u001b[1;33m\u001b[0m\u001b[0m\n\u001b[1;32m--> 998\u001b[1;33m             \u001b[1;32mreturn\u001b[0m \u001b[0mself\u001b[0m\u001b[1;33m.\u001b[0m\u001b[0mtk\u001b[0m\u001b[1;33m.\u001b[0m\u001b[0msplitlist\u001b[0m\u001b[1;33m(\u001b[0m\u001b[0mself\u001b[0m\u001b[1;33m.\u001b[0m\u001b[0mtk\u001b[0m\u001b[1;33m.\u001b[0m\u001b[0mcall\u001b[0m\u001b[1;33m(\u001b[0m\u001b[0mwhat\u001b[0m\u001b[1;33m)\u001b[0m\u001b[1;33m)\u001b[0m\u001b[1;33m\u001b[0m\u001b[0m\n\u001b[0m\u001b[0;32m    999\u001b[0m     \u001b[1;32mdef\u001b[0m \u001b[0mbind\u001b[0m\u001b[1;33m(\u001b[0m\u001b[0mself\u001b[0m\u001b[1;33m,\u001b[0m \u001b[0msequence\u001b[0m\u001b[1;33m=\u001b[0m\u001b[0mNone\u001b[0m\u001b[1;33m,\u001b[0m \u001b[0mfunc\u001b[0m\u001b[1;33m=\u001b[0m\u001b[0mNone\u001b[0m\u001b[1;33m,\u001b[0m \u001b[0madd\u001b[0m\u001b[1;33m=\u001b[0m\u001b[0mNone\u001b[0m\u001b[1;33m)\u001b[0m\u001b[1;33m:\u001b[0m\u001b[1;33m\u001b[0m\u001b[0m\n\u001b[0;32m   1000\u001b[0m         \"\"\"Bind to this widget at event SEQUENCE a call to function FUNC.\n",
      "\u001b[1;31mTclError\u001b[0m: bad window path name \".217033264.217065512.244304192.244335120.244336120.244336360\""
     ]
    }
   ],
   "source": [
    "auto.plot(eq + tube, bifurcation_x=['I'], bifurcation_y=['V', 'MAX V', 'MIN V'], stability=True, use_labels=False)"
   ]
  },
  {
   "cell_type": "code",
   "execution_count": null,
   "metadata": {
    "collapsed": false
   },
   "outputs": [],
   "source": [
    "# tracking saddle-node in 2par\n",
    "lp = auto.run(eq('LP1'), c='lp')\n",
    "lp += auto.run(eq('LP1'), c='lp', DS='-')\n",
    "lp = auto.merge(lp)"
   ]
  },
  {
   "cell_type": "code",
   "execution_count": null,
   "metadata": {
    "collapsed": false
   },
   "outputs": [],
   "source": [
    "auto.plot(lp, bifurcation_x='I', bifurcation_y='gleak', use_labels=False)"
   ]
  },
  {
   "cell_type": "code",
   "execution_count": null,
   "metadata": {
    "collapsed": false
   },
   "outputs": [],
   "source": [
    "# tracking saddle-node in 2par\n",
    "hp = auto.run(eq('LP1'), c='lp')\n",
    "hp += auto.run(eq('LP1'), c='lp', DS='-')\n",
    "hp = auto.merge(hp)"
   ]
  },
  {
   "cell_type": "code",
   "execution_count": null,
   "metadata": {
    "collapsed": false
   },
   "outputs": [],
   "source": [
    "auto.plot(hp, bifurcation_x='I', bifurcation_y='gleak', use_labels=False)"
   ]
  },
  {
   "cell_type": "code",
   "execution_count": null,
   "metadata": {
    "collapsed": true
   },
   "outputs": [],
   "source": [
    "print lp.summary()"
   ]
  },
  {
   "cell_type": "code",
   "execution_count": null,
   "metadata": {
    "collapsed": false
   },
   "outputs": [],
   "source": [
    "print eq('LP1')()"
   ]
  },
  {
   "cell_type": "code",
   "execution_count": null,
   "metadata": {
    "collapsed": false
   },
   "outputs": [],
   "source": [
    "print eq()[0]()"
   ]
  },
  {
   "cell_type": "code",
   "execution_count": null,
   "metadata": {
    "collapsed": false
   },
   "outputs": [],
   "source": [
    "auto.plot(init)"
   ]
  },
  {
   "cell_type": "code",
   "execution_count": null,
   "metadata": {
    "collapsed": true
   },
   "outputs": [],
   "source": []
  }
 ],
 "metadata": {
  "kernelspec": {
   "display_name": "Python 2",
   "language": "python",
   "name": "python2"
  },
  "language_info": {
   "codemirror_mode": {
    "name": "ipython",
    "version": 2
   },
   "file_extension": ".py",
   "mimetype": "text/x-python",
   "name": "python",
   "nbconvert_exporter": "python",
   "pygments_lexer": "ipython2",
   "version": "2.7.8"
  }
 },
 "nbformat": 4,
 "nbformat_minor": 0
}
