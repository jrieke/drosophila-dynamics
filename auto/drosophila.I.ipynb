{
 "cells": [
  {
   "cell_type": "code",
   "execution_count": null,
   "metadata": {
    "collapsed": false
   },
   "outputs": [],
   "source": [
    "%matplotlib tk\n",
    "from Tkinter import TclError\n",
    "import auto"
   ]
  },
  {
   "cell_type": "code",
   "execution_count": null,
   "metadata": {
    "collapsed": false
   },
   "outputs": [],
   "source": [
    "# Return a dict of the default parameters. Use kwargs to change a value, or set to None to exclude a parameter.\n",
    "def params(I=-12, gleak=6.8, gKs=50, gKf=24.1, gNa=100, gNaP=0.8):\n",
    "    p = {'I': I, 'gleak': gleak, 'gKs': gKs, 'gKf': gKf, 'gNa': gNa, 'gNaP': gNaP}\n",
    "    for key, val in p.items():\n",
    "        if val is None:\n",
    "            del p[key]\n",
    "    return p\n",
    "\n",
    "params(I=None)"
   ]
  },
  {
   "cell_type": "code",
   "execution_count": null,
   "metadata": {
    "collapsed": false,
    "scrolled": false
   },
   "outputs": [],
   "source": [
    "# Integrate for stable equilibrium to start continuation from there\n",
    "def integrate_to_equilibrium(**kwargs):\n",
    "    integration = auto.run(e='drosophila', c='integration', **kwargs)\n",
    "    return integration()[-1]  # last point\n",
    "\n",
    "# Continue equilibrium forwards and backwards in I from init point\n",
    "def continue_equilibrium(init, **kwargs):\n",
    "    equilibrium = auto.run(init, c='equilibrium', **kwargs)\n",
    "    equilibrium += auto.run(init, c='equilibrium', DS='-', **kwargs)\n",
    "    equilibrium = auto.relabel(auto.merge(equilibrium))  # get single curve with unique labels\n",
    "    return equilibrium\n",
    "\n",
    "# Continue limit cycle in I from init point (for example a Hopf bifurcation)\n",
    "def continue_limit_cycle(init, **kwargs):\n",
    "    return auto.run(init, c='tube', **kwargs)\n",
    "\n",
    "# Continue bifurcation point for changing second parameter (this has to be the second element in ICP, which has to be user defined)\n",
    "def continue_in_2_params(init, second_param, second_param_uzstop=None, **kwargs):\n",
    "    if 'ICP' not in kwargs:\n",
    "        kwargs['ICP'] = ['I', second_param, 'PERIOD']\n",
    "    if 'UZSTOP' not in kwargs:\n",
    "        if second_param_uzstop is None:\n",
    "            raise ValueError('Set either second_param_uzstop or UZSTOP directly')\n",
    "        kwargs['UZSTOP'] = {'I': [-20, 100], second_param: second_param_uzstop}\n",
    "        \n",
    "    bifurcation_point = auto.run(init, c='2par', **kwargs)\n",
    "    bifurcation_point += auto.run(init, c='2par', DS='-', **kwargs)\n",
    "    bifurcation_point = auto.relabel(auto.merge(bifurcation_point))\n",
    "    return bifurcation_point\n",
    "\n",
    "def plot_bifurcation_diagram(points, **kwargs):\n",
    "    try:\n",
    "        auto.plot(points, \n",
    "          bifurcation_y=['V', 'MAX V', 'MIN V'], stability=True, use_labels=False, \n",
    "          grid=False, height=350, user_point_symbol='', xlabel='I / pA', ylabel='V / mV', color_list='blue blue green', **kwargs)\n",
    "    except TclError:\n",
    "        pass\n",
    "    \n",
    "def plot_2_params_diagram(points, second_param, **kwargs):\n",
    "    try:\n",
    "        auto.plot(points, bifurcation_x='I', bifurcation_y=second_param, use_labels=False,\n",
    "                 grid=False, height=350, **kwargs)  # TODO: xlabel, ylabel, color_list\n",
    "    except TclError:\n",
    "        pass\n",
    "    "
   ]
  },
  {
   "cell_type": "markdown",
   "metadata": {},
   "source": [
    "Bifurcation diagram for default parameter values"
   ]
  },
  {
   "cell_type": "code",
   "execution_count": null,
   "metadata": {
    "collapsed": false
   },
   "outputs": [],
   "source": [
    "init = integrate_to_equilibrium()"
   ]
  },
  {
   "cell_type": "code",
   "execution_count": null,
   "metadata": {
    "collapsed": false,
    "scrolled": true
   },
   "outputs": [],
   "source": [
    "equilibrium = continue_equilibrium(init)"
   ]
  },
  {
   "cell_type": "code",
   "execution_count": null,
   "metadata": {
    "collapsed": false
   },
   "outputs": [],
   "source": [
    "#print equilibrium.summary()\n",
    "plot_bifurcation_diagram(equilibrium)"
   ]
  },
  {
   "cell_type": "code",
   "execution_count": null,
   "metadata": {
    "collapsed": false
   },
   "outputs": [],
   "source": [
    "tube = continue_limit_cycle(equilibrium('HB1'))"
   ]
  },
  {
   "cell_type": "code",
   "execution_count": null,
   "metadata": {
    "collapsed": false
   },
   "outputs": [],
   "source": [
    "plot_bifurcation_diagram(equilibrium + tube)"
   ]
  },
  {
   "cell_type": "markdown",
   "metadata": {},
   "source": [
    "2 parameter continuation for gleak"
   ]
  },
  {
   "cell_type": "code",
   "execution_count": null,
   "metadata": {
    "collapsed": false
   },
   "outputs": [],
   "source": [
    "# Continue saddle-node bifurcation (LP1) for changing gleak (2-parameter continuation)\n",
    "saddle_node = continue_in_2_params(equilibrium('LP1'), 'gleak', [-10, 20], PAR=params(I=None, gleak=None))\n",
    "plot_2_params_diagram(saddle_node, 'gleak')"
   ]
  },
  {
   "cell_type": "code",
   "execution_count": null,
   "metadata": {
    "collapsed": false
   },
   "outputs": [],
   "source": [
    "# Continue Hopf bifurcation (HB1) for changing gleak (2-parameter continuation)\n",
    "hopf = continue_in_2_params(equilibrium('HB1'), 'gleak', \n",
    "                            UZSTOP={'I': [-20, 170], 'gleak': [-10, 20]}, PAR=params(I=None, gleak=None))\n",
    "plot_2_params_diagram(hopf, 'gleak')"
   ]
  },
  {
   "cell_type": "markdown",
   "metadata": {},
   "source": [
    "Bifurcation diagram for high gleak"
   ]
  },
  {
   "cell_type": "code",
   "execution_count": null,
   "metadata": {
    "collapsed": false
   },
   "outputs": [],
   "source": [
    "# As can be seen in the plot above, the system is governed by Hopf bifurcations for gleak >~ 8.6\n",
    "# Make a bifurcation diagram for a high gleak value to see these bifurcations\n",
    "new_gleak = 8.84\n",
    "\n",
    "init2 = integrate_to_equilibrium(PAR=params(gleak=new_gleak))\n",
    "equilibrium2 = continue_equilibrium(init, PAR=params(I=None, gleak=new_gleak), UZSTOP={'I': [-20, 170]})\n",
    "tube2 = continue_limit_cycle(equilibrium('HB1'), PAR=params(gleak=new_gleak, I=None), \n",
    "                            UZSTOP={'I': [-20, 170], 'PERIOD': [0, 100]}, STOP=['LP2'], ILP=1)  # ILP=1 to detect folds\n",
    "\n",
    "plot_bifurcation_diagram(equilibrium2 + tube2)"
   ]
  },
  {
   "cell_type": "markdown",
   "metadata": {},
   "source": [
    "2 parameter continuation for gKs"
   ]
  },
  {
   "cell_type": "code",
   "execution_count": null,
   "metadata": {
    "collapsed": false
   },
   "outputs": [],
   "source": [
    "saddle_node = continue_in_2_params(equilibrium('LP1'), 'gKs', [0, 300], PAR=params(I=None, gKs=None))\n",
    "plot_2_params_diagram(saddle_node, 'gKs')"
   ]
  },
  {
   "cell_type": "code",
   "execution_count": null,
   "metadata": {
    "collapsed": false
   },
   "outputs": [],
   "source": [
    "hopf = continue_in_2_params(equilibrium('HB1'), 'gKs', UZSTOP={'I': [-20, 300], 'gKs': [0, 1300]}, PAR=params(I=None, gKs=None))\n",
    "plot_2_params_diagram(hopf, 'gKs')"
   ]
  },
  {
   "cell_type": "code",
   "execution_count": null,
   "metadata": {
    "collapsed": false
   },
   "outputs": [],
   "source": [
    "plot_2_params_diagram(saddle_node + hopf, 'gKs', minx=-20, maxx=120, miny=0, maxy=500)"
   ]
  },
  {
   "cell_type": "markdown",
   "metadata": {},
   "source": [
    "2 parameter continuation for gKf"
   ]
  },
  {
   "cell_type": "code",
   "execution_count": null,
   "metadata": {
    "collapsed": false
   },
   "outputs": [],
   "source": [
    "saddle_node = continue_in_2_params(equilibrium('LP1'), 'gKf', [-10, 500], PAR=params(I=None, gKf=None))\n",
    "saddle_node += continue_in_2_params(equilibrium('LP2'), 'gKf', [-10, 500], PAR=params(I=None, gKf=None))\n",
    "plot_2_params_diagram(saddle_node, 'gKf')"
   ]
  },
  {
   "cell_type": "code",
   "execution_count": null,
   "metadata": {
    "collapsed": false
   },
   "outputs": [],
   "source": [
    "hopf = continue_in_2_params(equilibrium('HB1'), 'gKf', UZSTOP={'I': [-20, 170], 'gKf': [-10, 500]}, PAR=params(I=None, gKf=None))\n",
    "plot_2_params_diagram(hopf, 'gKf')"
   ]
  },
  {
   "cell_type": "markdown",
   "metadata": {},
   "source": [
    "2 parameter continuation for gNaP"
   ]
  },
  {
   "cell_type": "code",
   "execution_count": null,
   "metadata": {
    "collapsed": false
   },
   "outputs": [],
   "source": [
    "hopf = continue_in_2_params(equilibrium('HB1'), 'gNaP', UZSTOP={'I': [-100, 170], 'gKf': [0, 5]}, PAR=params(I=None, gNaP=None))\n",
    "plot_2_params_diagram(hopf, 'gNaP')"
   ]
  },
  {
   "cell_type": "code",
   "execution_count": null,
   "metadata": {
    "collapsed": true
   },
   "outputs": [],
   "source": []
  }
 ],
 "metadata": {
  "kernelspec": {
   "display_name": "Python 2",
   "language": "python",
   "name": "python2"
  },
  "language_info": {
   "codemirror_mode": {
    "name": "ipython",
    "version": 2
   },
   "file_extension": ".py",
   "mimetype": "text/x-python",
   "name": "python",
   "nbconvert_exporter": "python",
   "pygments_lexer": "ipython2",
   "version": "2.7.8"
  }
 },
 "nbformat": 4,
 "nbformat_minor": 0
}
